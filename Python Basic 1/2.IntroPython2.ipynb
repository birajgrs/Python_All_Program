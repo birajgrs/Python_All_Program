{
 "cells": [
  {
   "cell_type": "markdown",
   "id": "ac218b0a",
   "metadata": {},
   "source": [
    "# Python data types"
   ]
  },
  {
   "cell_type": "code",
   "execution_count": null,
   "id": "d3e65c55",
   "metadata": {},
   "outputs": [],
   "source": [
    "x=5\n",
    "y=\"Hello World\"\n",
    "z=5.25\n",
    "a='a'\n",
    "b=((\"I\",\"am\",\"a\",\"Data Analyst.\"))\n",
    "\n",
    "print(type(x))\n",
    "print(type(y))\n",
    "print(type(z))\n",
    "print(type(a))\n",
    "print(type(b))\n"
   ]
  },
  {
   "cell_type": "code",
   "execution_count": 2,
   "id": "64a1daa4",
   "metadata": {},
   "outputs": [
    {
     "name": "stdout",
     "output_type": "stream",
     "text": [
      "<class 'int'>\n",
      "<class 'str'>\n",
      "<class 'float'>\n",
      "<class 'complex'>\n",
      "<class 'list'>\n",
      "<class 'tuple'>\n",
      "<class 'range'>\n",
      "<class 'set'>\n",
      "<class 'dict'>\n",
      "<class 'set'>\n",
      "<class 'bool'>\n",
      "<class 'NoneType'>\n"
     ]
    }
   ],
   "source": [
    "a=10\n",
    "b=\"Hello World\"\n",
    "c=10.245\n",
    "d=3+4j\n",
    "d1=[\"apple\",\"banana\",\"mango\"]   #list\n",
    "d2=(\"apple\",\"banana\",\"mango\")   #tuple\n",
    "r=range(10)\n",
    "d3={\"apple\",\"banana\",\"mango\"}  #set\n",
    "e={\"name\":\"Biraj\",\"age\":21}   #dictionary\n",
    "e1=({\"apple\",\"banana\",\"mango\"})  #frozenset\n",
    "f=True\n",
    "g=None\n",
    "print(type(a))\n",
    "print(type(b))\n",
    "print(type(c))\n",
    "print(type(d))\n",
    "print(type(d1))\n",
    "print(type(d2))\n",
    "print(type(r))\n",
    "print(type(d3))\n",
    "print(type(e))\n",
    "print(type(e1))\n",
    "print(type(f))\n",
    "print(type(g))\n"
   ]
  },
  {
   "cell_type": "code",
   "execution_count": null,
   "id": "4f73f2ea",
   "metadata": {},
   "outputs": [],
   "source": [
    "# Types of data types\n",
    "# Mutable object can change its states or contents(i.e insertion,dilition,update is possible)\n",
    "# Immutable objects cannot\n",
    "\"\"\"\n",
    "Mutable Data Types:::\n",
    "-->Dictionary \n",
    "-->List\n",
    "-->byte array\n",
    "Immutable Data types:::\n",
    "--->int\n",
    "--->float\n",
    "--->complex\n",
    "--->String \n",
    "--->Set\n",
    "--->Tuple\n",
    "\"\"\""
   ]
  },
  {
   "cell_type": "code",
   "execution_count": null,
   "id": "981234dc",
   "metadata": {},
   "outputs": [],
   "source": [
    "#integer\n",
    "\n",
    "a=5\n",
    "print(a)\n",
    "print(type(a))\n",
    "\n",
    "#floating point\n",
    "print()\n",
    "a1=5.5\n",
    "print(a1)\n",
    "print(type(a1))\n",
    "\n",
    "#Complex numbers\n",
    "print()\n",
    "a2=5-6j\n",
    "print(a2)\n",
    "print(type(a2))\n",
    "\n",
    "\n",
    "\n"
   ]
  },
  {
   "cell_type": "code",
   "execution_count": 3,
   "id": "5180811e",
   "metadata": {},
   "outputs": [
    {
     "name": "stdout",
     "output_type": "stream",
     "text": [
      "This is String demo\n",
      "This is String demo\n",
      "This is String demo\n",
      "<class 'str'>\n",
      "<class 'str'>\n",
      "<class 'str'>\n"
     ]
    }
   ],
   "source": [
    "#String:: Collection of one or more characters put in a single-quote,double-quote or triple quote\n",
    "\n",
    "\n",
    "s1='This is String demo'\n",
    "\n",
    "s2=\"This is String demo\"\n",
    "\n",
    "s3='''This is String demo'''\n",
    "print(s1)\n",
    "print(s2)\n",
    "print(s3)\n",
    "print(type(s1))\n",
    "\n",
    "print(type(s2))\n",
    "print(type(s3))"
   ]
  },
  {
   "cell_type": "markdown",
   "id": "b0e3ee40",
   "metadata": {},
   "source": [
    "# Numbers in Python"
   ]
  },
  {
   "cell_type": "code",
   "execution_count": null,
   "id": "ebbdf017",
   "metadata": {},
   "outputs": [],
   "source": [
    "\"\"\"\n",
    "---> int\n",
    "---> float\n",
    "---> complex\n",
    "\"\"\""
   ]
  },
  {
   "cell_type": "code",
   "execution_count": null,
   "id": "430a20f0",
   "metadata": {},
   "outputs": [],
   "source": [
    "x=5\n",
    "y=7.65\n",
    "z=6+3j\n",
    "a=10000000000002345\n",
    "b=15e12\n",
    "print(type(x))\n",
    "print(type(y))\n",
    "print(type(z))\n",
    "print(type(a))\n",
    "print(b)\n",
    "print(type(b))"
   ]
  },
  {
   "cell_type": "markdown",
   "id": "f2458dde",
   "metadata": {},
   "source": [
    "# Type Conversion"
   ]
  },
  {
   "cell_type": "code",
   "execution_count": null,
   "id": "b6fa492b",
   "metadata": {},
   "outputs": [],
   "source": [
    "a=5   #int\n",
    "b=10.5  #float\n",
    "c=5j   #complex\n",
    "print(a)\n",
    "print(b)\n",
    "print(c)\n",
    "print(type(a))\n",
    "print(type(b))\n",
    "print(type(c))\n",
    "\n",
    "#Convert from int to float\n",
    "x=float(a)\n",
    "print(type(x))\n",
    "print(x)\n",
    "#Convert from float to int \n",
    "y=int(b)\n",
    "print(type(y))\n",
    "print(y)\n",
    "\n",
    "#Convert from int to complex\n",
    "z1=complex(a)\n",
    "print(type(z1))\n",
    "print(z1)\n"
   ]
  },
  {
   "cell_type": "code",
   "execution_count": 5,
   "id": "2741310b",
   "metadata": {},
   "outputs": [
    {
     "name": "stdout",
     "output_type": "stream",
     "text": [
      "43\n"
     ]
    }
   ],
   "source": [
    "#Random Number\n",
    "\"\"\"\n",
    "Python does not have a random() function to make a random number, but Python has a built-in module called random\n",
    "that can be used to make random numbers\"\"\"\n",
    "\n",
    "import random\n",
    "print(random.randrange(1,50))"
   ]
  },
  {
   "cell_type": "markdown",
   "id": "af977f4f",
   "metadata": {},
   "source": [
    "# Getting user input & Type Casting"
   ]
  },
  {
   "cell_type": "code",
   "execution_count": null,
   "id": "b7d06868",
   "metadata": {},
   "outputs": [],
   "source": [
    "\"\"\"\n",
    "--->int()\n",
    "--->float()\n",
    "--->input()\n",
    "---eval()\n",
    "\"\"\"\n",
    "\n",
    "a=input(\"Enter the value:\")\n",
    "print(a)\n",
    "b=input(\"Enter another value:\")\n",
    "print(b)\n"
   ]
  },
  {
   "cell_type": "code",
   "execution_count": null,
   "id": "bf1ca849",
   "metadata": {
    "scrolled": false
   },
   "outputs": [],
   "source": [
    "#typecasting\n",
    "\n",
    "a=int(input((\"Enter the value:\")))\n",
    "print(a)\n",
    "b=int(input((\"Enter another value:\")))\n",
    "print(b)\n",
    "\n",
    "print(a+b)"
   ]
  },
  {
   "cell_type": "code",
   "execution_count": null,
   "id": "8b6ab987",
   "metadata": {},
   "outputs": [],
   "source": [
    "#typecasting\n",
    "\n",
    "a=eval(input((\"Enter the value:\")))\n",
    "print(a)\n",
    "b=eval(input((\"Enter another value:\")))\n",
    "print(b)\n",
    "print(a+b)"
   ]
  },
  {
   "cell_type": "code",
   "execution_count": null,
   "id": "6caa178e",
   "metadata": {},
   "outputs": [],
   "source": [
    "\n",
    "a=eval(input((\"Enter the value:\")))\n",
    "print(a)\n",
    "b=eval(input((\"Enter another value:\")))\n",
    "print(b)\n",
    "print(a+b)"
   ]
  },
  {
   "cell_type": "code",
   "execution_count": null,
   "id": "7750037c",
   "metadata": {},
   "outputs": [],
   "source": [
    "\n",
    "a=float(input((\"Enter the value:\")))\n",
    "print(a)\n",
    "b=float(input((\"Enter another value:\")))\n",
    "print(b)\n",
    "print(a+b)"
   ]
  },
  {
   "cell_type": "markdown",
   "id": "011c6391",
   "metadata": {},
   "source": [
    "# Simple Calculator in Pyhton"
   ]
  },
  {
   "cell_type": "code",
   "execution_count": 10,
   "id": "e5f46fc0",
   "metadata": {},
   "outputs": [
    {
     "name": "stdout",
     "output_type": "stream",
     "text": [
      "Enter first number:20\n",
      "Enter second number:10\n",
      "The sum is 30\n",
      "The difference is 10\n",
      "The multiplication is 200\n",
      "The division is 2.0\n",
      "The modulus is 0\n"
     ]
    }
   ],
   "source": [
    "a=int(input(\"Enter first number:\"))\n",
    "b=int(input(\"Enter second number:\"))\n",
    "\n",
    "add=a+b\n",
    "diff=a-b\n",
    "mul=a*b\n",
    "div=a/b\n",
    "mod=a%b\n",
    "\n",
    "\n",
    "print(f\"The sum is {add}\")\n",
    "print(f\"The difference is {diff}\")\n",
    "print(f\"The multiplication is {mul}\")\n",
    "print(f\"The division is {div}\")\n",
    "print(f\"The modulus is {mod}\")\n",
    "\n"
   ]
  },
  {
   "cell_type": "code",
   "execution_count": null,
   "id": "f7b6fb25",
   "metadata": {},
   "outputs": [],
   "source": []
  },
  {
   "cell_type": "code",
   "execution_count": null,
   "id": "9e573c2e",
   "metadata": {},
   "outputs": [],
   "source": []
  },
  {
   "cell_type": "code",
   "execution_count": null,
   "id": "4176e55e",
   "metadata": {},
   "outputs": [],
   "source": []
  }
 ],
 "metadata": {
  "kernelspec": {
   "display_name": "Python 3 (ipykernel)",
   "language": "python",
   "name": "python3"
  },
  "language_info": {
   "codemirror_mode": {
    "name": "ipython",
    "version": 3
   },
   "file_extension": ".py",
   "mimetype": "text/x-python",
   "name": "python",
   "nbconvert_exporter": "python",
   "pygments_lexer": "ipython3",
   "version": "3.9.12"
  }
 },
 "nbformat": 4,
 "nbformat_minor": 5
}
