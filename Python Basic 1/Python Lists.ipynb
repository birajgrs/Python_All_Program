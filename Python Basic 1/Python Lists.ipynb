{
 "cells": [
  {
   "cell_type": "markdown",
   "id": "60f5e51c",
   "metadata": {},
   "source": [
    "# List"
   ]
  },
  {
   "cell_type": "code",
   "execution_count": 108,
   "id": "89c802d8",
   "metadata": {},
   "outputs": [
    {
     "data": {
      "text/plain": [
       "'\\nLists are used to store multiple items in a single variable.\\n\\nCrated using []\\n'"
      ]
     },
     "execution_count": 108,
     "metadata": {},
     "output_type": "execute_result"
    }
   ],
   "source": [
    "\"\"\"\n",
    "Lists are used to store multiple items in a single variable.\n",
    "\n",
    "Crated using []\n",
    "\"\"\""
   ]
  },
  {
   "cell_type": "code",
   "execution_count": 109,
   "id": "c3948d57",
   "metadata": {},
   "outputs": [
    {
     "name": "stdout",
     "output_type": "stream",
     "text": [
      "['Apple', 'Banana', 'Cherry', 'DragonFruit']\n",
      "<class 'list'>\n",
      "9\n"
     ]
    }
   ],
   "source": [
    "fruits=[\"Apple\",\"Banana\",\"Cherry\",\"DragonFruit\"]\n",
    "print(fruits)\n",
    "print(type(fruits))\n",
    "\n",
    "numbers=[2,7,9,11,3]\n",
    "print(numbers[2])"
   ]
  },
  {
   "cell_type": "code",
   "execution_count": 110,
   "id": "8230b25e",
   "metadata": {},
   "outputs": [],
   "source": [
    "#List Items\n",
    "#List items are ordered, changeable, and allow duplicate values.\n"
   ]
  },
  {
   "cell_type": "code",
   "execution_count": 111,
   "id": "19b7ddb5",
   "metadata": {},
   "outputs": [
    {
     "name": "stdout",
     "output_type": "stream",
     "text": [
      "Banana\n",
      "['Apple', 'Banana', 'Cherry', 'Banana', 'DragonFruit']\n",
      "5\n"
     ]
    }
   ],
   "source": [
    "fruits=[\"Apple\",\"Banana\",\"Cherry\",\"Banana\",\"DragonFruit\"]\n",
    "print(fruits[3])\n",
    "print(fruits)\n",
    "#length\n",
    "print(len(fruits))"
   ]
  },
  {
   "cell_type": "code",
   "execution_count": 1,
   "id": "cae39196",
   "metadata": {},
   "outputs": [
    {
     "name": "stdout",
     "output_type": "stream",
     "text": [
      "['Ram', 'Shyam', 'Hari', 'Sita', 'Hari']\n",
      "[2, 4, 5, 6, 7, 8, 9]\n",
      "[True, False, True]\n",
      "[2, 'Ram', False]\n"
     ]
    }
   ],
   "source": [
    "# List Items\n",
    "list1=[\"Ram\",\"Shyam\",\"Hari\",\"Sita\",\"Hari\"]\n",
    "list2=[2,4,5,6,7,8,9]\n",
    "list3=[True,False,True]\n",
    "list4=[2,\"Ram\",False]\n",
    "print(list1)\n",
    "print(list2)\n",
    "print(list3)\n",
    "print(list4)"
   ]
  },
  {
   "cell_type": "code",
   "execution_count": 2,
   "id": "1f6beaa6",
   "metadata": {},
   "outputs": [
    {
     "name": "stdout",
     "output_type": "stream",
     "text": [
      "<class 'list'>\n",
      "[2, 4, 5, 6, 7, 8, 9]\n",
      "<class 'list'>\n"
     ]
    }
   ],
   "source": [
    "#The list Constructor ----> list()\n",
    "list2=[2,4,5,6,7,8,9]\n",
    "print(type(list2))\n",
    "list3=list((2,4,5,6,7,8,9))\n",
    "print(list3)\n",
    "print(type(list3))"
   ]
  },
  {
   "cell_type": "markdown",
   "id": "8af2c133",
   "metadata": {},
   "source": [
    "# Access List items"
   ]
  },
  {
   "cell_type": "code",
   "execution_count": 114,
   "id": "2e869c8b",
   "metadata": {},
   "outputs": [
    {
     "name": "stdout",
     "output_type": "stream",
     "text": [
      "Hari\n"
     ]
    }
   ],
   "source": [
    "list1=[\"Ram\",\"Shyam\",\"Hari\",\"Sita\",\"Hari\"]\n",
    "print(list1[2])"
   ]
  },
  {
   "cell_type": "code",
   "execution_count": 115,
   "id": "5955b99e",
   "metadata": {},
   "outputs": [
    {
     "name": "stdout",
     "output_type": "stream",
     "text": [
      "Hari\n",
      "Sita\n",
      "Hari\n"
     ]
    }
   ],
   "source": [
    "#Negative indexing\n",
    "print(list1[-1])\n",
    "print(list1[-2])\n",
    "print(list1[-3])\n"
   ]
  },
  {
   "cell_type": "code",
   "execution_count": 116,
   "id": "1a7da3c0",
   "metadata": {},
   "outputs": [
    {
     "name": "stdout",
     "output_type": "stream",
     "text": [
      "['Shyam', 'Hari', 'Sita']\n",
      "Ram\n",
      "['Ram', 'Shyam', 'Hari', 'Sita']\n",
      "['Shyam', 'Hari', 'Sita']\n"
     ]
    }
   ],
   "source": [
    "#Range of Indexes\n",
    "\n",
    "print(list1[1:4])\n",
    "print(list1[0])\n",
    "print(list1[:4])\n",
    "#Range of Negative indexes\n",
    "print(list1[-4:-1])"
   ]
  },
  {
   "cell_type": "code",
   "execution_count": 117,
   "id": "4781da2b",
   "metadata": {},
   "outputs": [
    {
     "name": "stdout",
     "output_type": "stream",
     "text": [
      "No,'Roshan' is not  in the list4.\n"
     ]
    }
   ],
   "source": [
    "#Check if item exists:\n",
    "list4=[\"Ram\",\"Shyam\",\"Hari\",\"Sita\",\"Hari\",\"Bimal\"]\n",
    "if \"Roshan\" in list4:\n",
    "    print(\"Yes,'Roshan' is in the list4.\")\n",
    "else:\n",
    "     print(\"No,'Roshan' is not  in the list4.\")"
   ]
  },
  {
   "cell_type": "markdown",
   "id": "c95319be",
   "metadata": {},
   "source": [
    "# Change List Items"
   ]
  },
  {
   "cell_type": "code",
   "execution_count": 118,
   "id": "18b0c71e",
   "metadata": {},
   "outputs": [
    {
     "name": "stdout",
     "output_type": "stream",
     "text": [
      "['Ram', 'Shyam', 'Hari', 'Sita', 'Roshan', 'Bimal']\n"
     ]
    }
   ],
   "source": [
    "list4=[\"Ram\",\"Shyam\",\"Hari\",\"Sita\",\"Hari\",\"Bimal\"]\n",
    "list4[4]=\"Roshan\"\n",
    "print(list4)"
   ]
  },
  {
   "cell_type": "code",
   "execution_count": 119,
   "id": "41cf65ff",
   "metadata": {},
   "outputs": [
    {
     "name": "stdout",
     "output_type": "stream",
     "text": [
      "['apple', 'blackcurrant', 'watermelon', 'orange', 'kiwi', 'mango']\n"
     ]
    }
   ],
   "source": [
    "# Change a Range of Item Values\n",
    "thislist = [\"apple\", \"banana\", \"cherry\", \"orange\", \"kiwi\", \"mango\"]\n",
    "thislist[1:3] = [\"blackcurrant\", \"watermelon\"]\n",
    "print(thislist)"
   ]
  },
  {
   "cell_type": "code",
   "execution_count": 120,
   "id": "c1e83ef8",
   "metadata": {},
   "outputs": [
    {
     "name": "stdout",
     "output_type": "stream",
     "text": [
      "['apple', 'banana', 'watermelon', 'cherry']\n"
     ]
    }
   ],
   "source": [
    "#Insert Items\n",
    "\"\"\"\n",
    "To insert a new list item, without replacing any of the existing values, \n",
    "we can use the insert() method.\n",
    "\"\"\"\n",
    "thislist = [\"apple\", \"banana\", \"cherry\"]\n",
    "thislist.insert(2, \"watermelon\")\n",
    "print(thislist)"
   ]
  },
  {
   "cell_type": "markdown",
   "id": "d4964cfa",
   "metadata": {},
   "source": [
    "# ADD List Items"
   ]
  },
  {
   "cell_type": "code",
   "execution_count": 121,
   "id": "bede239a",
   "metadata": {},
   "outputs": [
    {
     "name": "stdout",
     "output_type": "stream",
     "text": [
      "['apple', 'banana', 'cherry']\n",
      "['apple', 'banana', 'cherry', 'dragonfruit']\n"
     ]
    }
   ],
   "source": [
    "#Append Items\n",
    "fruits=[\"apple\",\"banana\",\"cherry\"]\n",
    "print(fruits)\n",
    "fruits.append(\"dragonfruit\")\n",
    "print(fruits)"
   ]
  },
  {
   "cell_type": "code",
   "execution_count": 122,
   "id": "8a285181",
   "metadata": {},
   "outputs": [
    {
     "name": "stdout",
     "output_type": "stream",
     "text": [
      "['apple', 'banana', 'cherry', 'Orange', 'dragonfruit']\n"
     ]
    }
   ],
   "source": [
    "#Insert\n",
    "\n",
    "#The insert() method inserts an item at the specified index.\n",
    "fruits.insert(3,\"Orange\")\n",
    "print(fruits)"
   ]
  },
  {
   "cell_type": "code",
   "execution_count": 123,
   "id": "0abf764c",
   "metadata": {},
   "outputs": [
    {
     "name": "stdout",
     "output_type": "stream",
     "text": [
      "['apple', 'banana', 'cherry', 'Orange', 'dragonfruit', 'Mango', 'pinapple', 'kiwi', 'Grapes']\n"
     ]
    }
   ],
   "source": [
    "#Extend::\n",
    "\"\"\"\n",
    "To append elements from another list to the current list, \n",
    "use the extend() method.\n",
    ":\n",
    "\"\"\"\n",
    "\n",
    "fruits1=[\"Mango\",\"pinapple\",\"kiwi\",\"Grapes\"]\n",
    "fruits.extend(fruits1)\n",
    "print(fruits)"
   ]
  },
  {
   "cell_type": "markdown",
   "id": "77c745a1",
   "metadata": {},
   "source": [
    "# Remove list items"
   ]
  },
  {
   "cell_type": "code",
   "execution_count": 124,
   "id": "310608dd",
   "metadata": {},
   "outputs": [
    {
     "name": "stdout",
     "output_type": "stream",
     "text": [
      "['Anil', 'Sujan', 'Anu', 'Rama', 'Kriti']\n"
     ]
    }
   ],
   "source": [
    "#use remove() method\n",
    "list_items=[\"Anil\",\"Sujan\",\"Anu\",\"Sonam\",\"Rama\",\"Kriti\"]\n",
    "list_items.remove(\"Sonam\")\n",
    "print(list_items)"
   ]
  },
  {
   "cell_type": "code",
   "execution_count": 125,
   "id": "c3919abd",
   "metadata": {},
   "outputs": [
    {
     "name": "stdout",
     "output_type": "stream",
     "text": [
      "['Anil', 'Sujan', 'Anu', 'Rama', 'Kriti']\n"
     ]
    }
   ],
   "source": [
    "#Remove Specified index using stack pop\n",
    "list_items=[\"Anil\",\"Sujan\",\"Anu\",\"Sonam\",\"Rama\",\"Kriti\"]\n",
    "list_items.pop(3)\n",
    "print(list_items)"
   ]
  },
  {
   "cell_type": "code",
   "execution_count": 126,
   "id": "076408e8",
   "metadata": {},
   "outputs": [
    {
     "name": "stdout",
     "output_type": "stream",
     "text": [
      "['Sonam', 'Rama', 'Kriti']\n"
     ]
    }
   ],
   "source": [
    "#use del keyword to remove index\n",
    "\n",
    "list_items=[\"Anil\",\"Sujan\",\"Anu\",\"Sonam\",\"Rama\",\"Kriti\"]\n",
    "del list_items[0:3]\n",
    "print(list_items)"
   ]
  },
  {
   "cell_type": "code",
   "execution_count": 127,
   "id": "24f1b663",
   "metadata": {},
   "outputs": [
    {
     "name": "stdout",
     "output_type": "stream",
     "text": [
      "[]\n"
     ]
    }
   ],
   "source": [
    "#Clear the List\n",
    "#The clear() method empties the list.\n",
    "list_items=[\"Anil\",\"Sujan\",\"Anu\",\"Sonam\",\"Rama\",\"Kriti\"]\n",
    "list_items.clear()\n",
    "print(list_items)\n"
   ]
  },
  {
   "cell_type": "markdown",
   "id": "ca0e4b6e",
   "metadata": {},
   "source": [
    "# Loop in Lists"
   ]
  },
  {
   "cell_type": "code",
   "execution_count": 128,
   "id": "d2dddbaa",
   "metadata": {},
   "outputs": [
    {
     "name": "stdout",
     "output_type": "stream",
     "text": [
      "Anil\n",
      "Sujan\n",
      "Anu\n",
      "Sonam\n",
      "Rama\n",
      "Kriti\n"
     ]
    }
   ],
   "source": [
    "list_items=[\"Anil\",\"Sujan\",\"Anu\",\"Sonam\",\"Rama\",\"Kriti\"]\n",
    "for i in range(len(list_items)):\n",
    "               print(list_items[i])"
   ]
  },
  {
   "cell_type": "code",
   "execution_count": 129,
   "id": "b3436f10",
   "metadata": {},
   "outputs": [
    {
     "name": "stdout",
     "output_type": "stream",
     "text": [
      "Anil\n",
      "Sujan\n",
      "Anu\n",
      "Sonam\n",
      "Rama\n",
      "Kriti\n"
     ]
    }
   ],
   "source": [
    "list_items=[\"Anil\",\"Sujan\",\"Anu\",\"Sonam\",\"Rama\",\"Kriti\"]\n",
    "for i in list_items:\n",
    "    print(i)"
   ]
  },
  {
   "cell_type": "code",
   "execution_count": 130,
   "id": "22c60676",
   "metadata": {},
   "outputs": [
    {
     "name": "stdout",
     "output_type": "stream",
     "text": [
      "Anil\n",
      "Sujan\n",
      "Anu\n",
      "Sonam\n",
      "Rama\n",
      "Kriti\n"
     ]
    }
   ],
   "source": [
    "list_items=[\"Anil\",\"Sujan\",\"Anu\",\"Sonam\",\"Rama\",\"Kriti\"]\n",
    "i=0\n",
    "while(i<len(list_items)):\n",
    "    print(list_items[i])\n",
    "    i=i+1"
   ]
  },
  {
   "cell_type": "markdown",
   "id": "0fb1585d",
   "metadata": {},
   "source": [
    "# List Comprehension"
   ]
  },
  {
   "cell_type": "code",
   "execution_count": 131,
   "id": "76516557",
   "metadata": {},
   "outputs": [
    {
     "data": {
      "text/plain": [
       "'List Comprehensions:\\n    [expression for val in collection]\\n    [expression for val in collection if <test>]\\n    [expression for val in collection if <test1> and <test2>]\\n    [expression for val1 in collection1 and val2 in collection2]\\n    '"
      ]
     },
     "execution_count": 131,
     "metadata": {},
     "output_type": "execute_result"
    }
   ],
   "source": [
    "# List Comprehension offers a shorter index when we want to create a new list nased on the values of an existing list.\n",
    "# जब हामी अवस्थित सूचीको मानहरूमा नयाँ सूची सिर्जना गर्न चाहन्छौं भने सूची समझले छोटो अनुक्रमणिका प्रदान गर्दछ।\n",
    "\"\"\"List Comprehensions:\n",
    "    [expression for val in collection]\n",
    "    [expression for val in collection if <test>]\n",
    "    [expression for val in collection if <test1> and <test2>]\n",
    "    [expression for val1 in collection1 and val2 in collection2]\n",
    "    \"\"\"\n"
   ]
  },
  {
   "cell_type": "code",
   "execution_count": 132,
   "id": "5ebf4b98",
   "metadata": {},
   "outputs": [
    {
     "name": "stdout",
     "output_type": "stream",
     "text": [
      "[1, 4, 9, 16, 25, 36, 49, 64, 81, 100, 121, 144, 169, 196, 225, 256, 289, 324, 361, 400, 441, 484, 529, 576, 625, 676, 729, 784, 841, 900, 961, 1024, 1089, 1156, 1225, 1296, 1369, 1444, 1521, 1600, 1681, 1764, 1849, 1936, 2025, 2116, 2209, 2304, 2401, 2500, 2601, 2704, 2809, 2916, 3025, 3136, 3249, 3364, 3481, 3600, 3721, 3844, 3969, 4096, 4225, 4356, 4489, 4624, 4761, 4900, 5041, 5184, 5329, 5476, 5625, 5776, 5929, 6084, 6241, 6400, 6561, 6724, 6889, 7056, 7225, 7396, 7569, 7744, 7921, 8100, 8281, 8464, 8649, 8836, 9025, 9216, 9409, 9604, 9801, 10000]\n"
     ]
    }
   ],
   "source": [
    "squares=[]\n",
    "for i in range(1,101):\n",
    "    squares.append(i**2)\n",
    "    \n",
    "print(squares)\n",
    "\n",
    "        "
   ]
  },
  {
   "cell_type": "code",
   "execution_count": 133,
   "id": "c498949e",
   "metadata": {},
   "outputs": [
    {
     "name": "stdout",
     "output_type": "stream",
     "text": [
      "[1, 4, 9, 16, 25, 36, 49, 64, 81, 100, 121, 144, 169, 196, 225, 256, 289, 324, 361, 400, 441, 484, 529, 576, 625, 676, 729, 784, 841, 900, 961, 1024, 1089, 1156, 1225, 1296, 1369, 1444, 1521, 1600, 1681, 1764, 1849, 1936, 2025, 2116, 2209, 2304, 2401, 2500, 2601, 2704, 2809, 2916, 3025, 3136, 3249, 3364, 3481, 3600, 3721, 3844, 3969, 4096, 4225, 4356, 4489, 4624, 4761, 4900, 5041, 5184, 5329, 5476, 5625, 5776, 5929, 6084, 6241, 6400, 6561, 6724, 6889, 7056, 7225, 7396, 7569, 7744, 7921, 8100, 8281, 8464, 8649, 8836, 9025, 9216, 9409, 9604, 9801, 10000]\n"
     ]
    }
   ],
   "source": [
    "\n",
    "squares2=[i**2 for i in range(1,101)]\n",
    "print(squares2)\n",
    "    "
   ]
  },
  {
   "cell_type": "code",
   "execution_count": 134,
   "id": "6759dd33",
   "metadata": {},
   "outputs": [
    {
     "name": "stdout",
     "output_type": "stream",
     "text": [
      "[1, 4, 4, 1, 0, 1, 4, 4, 1, 0, 1, 4, 4, 1, 0, 1, 4, 4, 1, 0, 1, 4, 4, 1, 0, 1, 4, 4, 1, 0, 1, 4, 4, 1, 0, 1, 4, 4, 1, 0, 1, 4, 4, 1, 0, 1, 4, 4, 1, 0, 1, 4, 4, 1, 0, 1, 4, 4, 1, 0, 1, 4, 4, 1, 0, 1, 4, 4, 1, 0, 1, 4, 4, 1, 0, 1, 4, 4, 1, 0, 1, 4, 4, 1, 0, 1, 4, 4, 1, 0, 1, 4, 4, 1, 0, 1, 4, 4, 1, 0]\n"
     ]
    }
   ],
   "source": [
    "remainders5=[x**2%5 for x in range(1,101)]\n",
    "print(remainders5)"
   ]
  },
  {
   "cell_type": "code",
   "execution_count": 135,
   "id": "3d6e6e19",
   "metadata": {},
   "outputs": [
    {
     "name": "stdout",
     "output_type": "stream",
     "text": [
      "[1, 4, 9, 5, 3, 3, 5, 9, 4, 1, 0, 1, 4, 9, 5, 3, 3, 5, 9, 4, 1, 0, 1, 4, 9, 5, 3, 3, 5, 9, 4, 1, 0, 1, 4, 9, 5, 3, 3, 5, 9, 4, 1, 0, 1, 4, 9, 5, 3, 3, 5, 9, 4, 1, 0, 1, 4, 9, 5, 3, 3, 5, 9, 4, 1, 0, 1, 4, 9, 5, 3, 3, 5, 9, 4, 1, 0, 1, 4, 9, 5, 3, 3, 5, 9, 4, 1, 0, 1, 4, 9, 5, 3, 3, 5, 9, 4, 1, 0, 1]\n"
     ]
    }
   ],
   "source": [
    "remainders11=[x**2%11 for x in range(1,101)]\n",
    "print(remainders11)"
   ]
  },
  {
   "cell_type": "code",
   "execution_count": 136,
   "id": "93f65806",
   "metadata": {},
   "outputs": [
    {
     "name": "stdout",
     "output_type": "stream",
     "text": [
      "['Gravity', 'Guardians of the Galaxy ']\n"
     ]
    }
   ],
   "source": [
    "movies=[\"Logan\",\"Beauty and the Beast\",\"Deadpool\",\"Man of Steel\",\"Titanic\",\"Avatar\",\"Gravity\",\"The Dark Night\",\"Batman Begins \",\"Guardians of the Galaxy \",\" Ted\",\"Avengers: Age of Ultron \",\"Iron Man\",\"Skyfall\",\" Mission: Impossible - Fallout \"]\n",
    "gmovies=[]\n",
    "for title in movies:\n",
    "    if title.startswith(\"G\"):\n",
    "        gmovies.append(title)\n",
    "print(gmovies)"
   ]
  },
  {
   "cell_type": "code",
   "execution_count": 137,
   "id": "b2f665f8",
   "metadata": {},
   "outputs": [
    {
     "name": "stdout",
     "output_type": "stream",
     "text": [
      "['Gravity', 'Guardians of the Galaxy ']\n"
     ]
    }
   ],
   "source": [
    "gmovies=[title for title in movies if title.startswith(\"G\")]\n",
    "print(gmovies)"
   ]
  },
  {
   "cell_type": "code",
   "execution_count": 138,
   "id": "f32a56d1",
   "metadata": {},
   "outputs": [
    {
     "name": "stdout",
     "output_type": "stream",
     "text": [
      "[(1, 2), (1, 4), (1, 6), (1, 8), (3, 2), (3, 4), (3, 6), (3, 8), (5, 2), (5, 4), (5, 6), (5, 8), (7, 2), (7, 4), (7, 6), (7, 8)]\n"
     ]
    }
   ],
   "source": [
    "#Cartesian Product\n",
    "A=[1,3,5,7]\n",
    "B=[2,4,6,8]\n",
    "cartesian_Product=[(a,b) for a in A for b in B]\n",
    "print(cartesian_Product)"
   ]
  },
  {
   "cell_type": "markdown",
   "id": "f109f8e6",
   "metadata": {},
   "source": [
    "# Sorting in list"
   ]
  },
  {
   "cell_type": "code",
   "execution_count": 139,
   "id": "ac4e3f1a",
   "metadata": {},
   "outputs": [
    {
     "name": "stdout",
     "output_type": "stream",
     "text": [
      "['Anil', 'Anu', 'Kriti', 'Rama', 'Sonam', 'Sujan']\n",
      "\n",
      "['Sujan', 'Sonam', 'Rama', 'Kriti', 'Anu', 'Anil']\n"
     ]
    }
   ],
   "source": [
    "#Sorting is the process of arranging data items either ascending or descending\n",
    "list_items=[\"Anil\",\"Sujan\",\"Anu\",\"Sonam\",\"Rama\",\"Kriti\"]\n",
    "list_items.sort()\n",
    "print(list_items)\n",
    "\n",
    "print()\n",
    "#for Descending\n",
    "list_items.sort(reverse=True)\n",
    "print(list_items)\n"
   ]
  },
  {
   "cell_type": "code",
   "execution_count": 143,
   "id": "d102cec1",
   "metadata": {},
   "outputs": [
    {
     "name": "stdout",
     "output_type": "stream",
     "text": [
      "[25, 31, 37, 40, 43, 47, 51, 67, 72]\n"
     ]
    }
   ],
   "source": [
    "#Ascending\n",
    "numbers=[40,31,37,47,51,43,67,72,25]\n",
    "numbers.sort()\n",
    "print(numbers)"
   ]
  },
  {
   "cell_type": "code",
   "execution_count": 146,
   "id": "af505b73",
   "metadata": {},
   "outputs": [
    {
     "name": "stdout",
     "output_type": "stream",
     "text": [
      "[72, 67, 51, 47, 43, 40, 37, 31, 25]\n",
      "\n",
      "[25, 31, 37, 40, 43, 47, 51, 67, 72]\n"
     ]
    }
   ],
   "source": [
    "#Descending\n",
    "numbers=[40,31,37,47,51,43,67,72,25]\n",
    "numbers.sort(reverse=True)\n",
    "print(numbers)\n",
    "\n",
    "#Ascending \n",
    "print()\n",
    "numbers.sort(reverse=False)\n",
    "print(numbers)"
   ]
  },
  {
   "cell_type": "code",
   "execution_count": 147,
   "id": "01730275",
   "metadata": {},
   "outputs": [
    {
     "name": "stdout",
     "output_type": "stream",
     "text": [
      "['Apple', 'Dragonfruit', 'banana', 'cherry']\n"
     ]
    }
   ],
   "source": [
    "# Case sensitive \n",
    "fruits=[\"Apple\",\"banana\",\"cherry\",\"Dragonfruit\"]\n",
    "fruits.sort()\n",
    "print(fruits)"
   ]
  },
  {
   "cell_type": "code",
   "execution_count": 148,
   "id": "f57cd987",
   "metadata": {},
   "outputs": [
    {
     "name": "stdout",
     "output_type": "stream",
     "text": [
      "['Apple', 'banana', 'cherry', 'Dragonfruit']\n"
     ]
    }
   ],
   "source": [
    "#Case insensitive\n",
    "fruits=[\"Apple\",\"banana\",\"cherry\",\"Dragonfruit\"]\n",
    "fruits.sort(key=str.lower)\n",
    "print(fruits)"
   ]
  },
  {
   "cell_type": "markdown",
   "id": "f61cc6a4",
   "metadata": {},
   "source": [
    "# Methods of Lists"
   ]
  },
  {
   "cell_type": "code",
   "execution_count": null,
   "id": "aae5d38b",
   "metadata": {},
   "outputs": [],
   "source": [
    "#Copy list"
   ]
  },
  {
   "cell_type": "code",
   "execution_count": 149,
   "id": "200198d3",
   "metadata": {},
   "outputs": [
    {
     "name": "stdout",
     "output_type": "stream",
     "text": [
      "['Ram', 'Shyam', 'Hari']\n"
     ]
    }
   ],
   "source": [
    "list1=[\"Ram\",\"Shyam\",\"Hari\"]\n",
    "list2=list1.copy()\n",
    "print(list2)"
   ]
  },
  {
   "cell_type": "code",
   "execution_count": null,
   "id": "6cd3222b",
   "metadata": {},
   "outputs": [],
   "source": [
    "#Join lists"
   ]
  },
  {
   "cell_type": "code",
   "execution_count": 151,
   "id": "14d47b84",
   "metadata": {},
   "outputs": [
    {
     "name": "stdout",
     "output_type": "stream",
     "text": [
      "['Ram', 'Shyam', 'Hari', 'Sita', 'Gita', 'Sarita']\n"
     ]
    }
   ],
   "source": [
    "list1=[\"Ram\",\"Shyam\",\"Hari\"]\n",
    "list2=[\"Sita\",\"Gita\",\"Sarita\"]\n",
    "list3=list1+list2\n",
    "print(list3)"
   ]
  },
  {
   "cell_type": "code",
   "execution_count": 152,
   "id": "a4be9e80",
   "metadata": {},
   "outputs": [
    {
     "name": "stdout",
     "output_type": "stream",
     "text": [
      "['Ram', 'Shyam', 'Hari', 'Sita', 'Gita', 'Sarita']\n"
     ]
    }
   ],
   "source": [
    "list1=[\"Ram\",\"Shyam\",\"Hari\"]\n",
    "list2=[\"Sita\",\"Gita\",\"Sarita\"]\n",
    "for i in list2:\n",
    "    list1.append(i)\n",
    "print(list1)"
   ]
  },
  {
   "cell_type": "code",
   "execution_count": 153,
   "id": "adeb479a",
   "metadata": {},
   "outputs": [
    {
     "name": "stdout",
     "output_type": "stream",
     "text": [
      "['Ram', 'Shyam', 'Hari', 'Sita', 'Gita', 'Sarita']\n"
     ]
    }
   ],
   "source": [
    "#use extend() method\n",
    "list1=[\"Ram\",\"Shyam\",\"Hari\"]\n",
    "list2=[\"Sita\",\"Gita\",\"Sarita\"]\n",
    "list1.extend(list2)\n",
    "print(list1)"
   ]
  },
  {
   "cell_type": "code",
   "execution_count": 155,
   "id": "85653de6",
   "metadata": {},
   "outputs": [
    {
     "name": "stdout",
     "output_type": "stream",
     "text": [
      "1\n"
     ]
    }
   ],
   "source": [
    "#counts\n",
    "lists=['Ram', 'Shyam', 'Hari', 'Sita', 'Gita', 'Sarita']\n",
    "i=lists.count(\"Sita\")\n",
    "print(i)\n",
    "\n",
    "\n"
   ]
  },
  {
   "cell_type": "code",
   "execution_count": null,
   "id": "9e897f2a",
   "metadata": {},
   "outputs": [],
   "source": []
  },
  {
   "cell_type": "code",
   "execution_count": null,
   "id": "adf961e0",
   "metadata": {},
   "outputs": [],
   "source": []
  },
  {
   "cell_type": "code",
   "execution_count": null,
   "id": "f3dc494b",
   "metadata": {},
   "outputs": [],
   "source": []
  },
  {
   "cell_type": "code",
   "execution_count": null,
   "id": "a6590ad4",
   "metadata": {},
   "outputs": [],
   "source": []
  },
  {
   "cell_type": "code",
   "execution_count": null,
   "id": "194a764f",
   "metadata": {},
   "outputs": [],
   "source": []
  }
 ],
 "metadata": {
  "kernelspec": {
   "display_name": "Python 3 (ipykernel)",
   "language": "python",
   "name": "python3"
  },
  "language_info": {
   "codemirror_mode": {
    "name": "ipython",
    "version": 3
   },
   "file_extension": ".py",
   "mimetype": "text/x-python",
   "name": "python",
   "nbconvert_exporter": "python",
   "pygments_lexer": "ipython3",
   "version": "3.9.12"
  }
 },
 "nbformat": 4,
 "nbformat_minor": 5
}
