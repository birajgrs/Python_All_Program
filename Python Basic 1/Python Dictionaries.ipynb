{
 "cells": [
  {
   "cell_type": "code",
   "execution_count": 2,
   "id": "45f7bd86",
   "metadata": {},
   "outputs": [
    {
     "name": "stdout",
     "output_type": "stream",
     "text": [
      "{'Name': 'Biraj', 'Study': 'Computer Science and IT ', 'Age': 20}\n",
      "<class 'dict'>\n"
     ]
    }
   ],
   "source": [
    "#Dictionaries are used to store data values in key:values pairs.\n",
    "#A dictionary is the collection which is ordered,changeable and donot allow duplication\n",
    "# Syntax : {Key:Value}\n",
    "\n",
    "\n",
    "Demo_Dictionary={\n",
    "    \"Name\":\"Biraj\",\n",
    "    \"Study\":\"Computer Science and IT \",\n",
    "    \"Age\":20\n",
    "    \n",
    "}\n",
    "print(Demo_Dictionary)\n",
    "print(type(Demo_Dictionary))"
   ]
  },
  {
   "cell_type": "code",
   "execution_count": 4,
   "id": "2e69bbca",
   "metadata": {},
   "outputs": [
    {
     "name": "stdout",
     "output_type": "stream",
     "text": [
      "{'Name': 'Ram', 'Class': 12, 'Roll no': '15'}\n"
     ]
    }
   ],
   "source": [
    "#  ordered,changeable and donot allow duplication\n",
    "dictionary_Demo={\n",
    "    \"Name\":\"Ram\",\n",
    "    \"Class\":10,\n",
    "    \"Roll no\":\"15\",\n",
    "    \"Class\":12\n",
    "}\n",
    "print(dictionary_Demo)"
   ]
  },
  {
   "cell_type": "code",
   "execution_count": 5,
   "id": "3a773c79",
   "metadata": {},
   "outputs": [
    {
     "name": "stdout",
     "output_type": "stream",
     "text": [
      "3\n"
     ]
    }
   ],
   "source": [
    "#Dictionary Length\n",
    "# To determine how many items a dictionary has, use the len() function\n",
    "dictionary_Demo={\n",
    "    \"Name\":\"Ram\",\n",
    "    \"Class\":10,\n",
    "    \"Roll no\":\"15\",\n",
    "    \"Class\":12\n",
    "}\n",
    "print(len(dictionary_Demo))\n"
   ]
  },
  {
   "cell_type": "markdown",
   "id": "160c1125",
   "metadata": {},
   "source": [
    "# Python - Access Dictionary Items"
   ]
  },
  {
   "cell_type": "code",
   "execution_count": 8,
   "id": "bda53799",
   "metadata": {},
   "outputs": [
    {
     "name": "stdout",
     "output_type": "stream",
     "text": [
      "{'Name': 'Ram', 'Class': 10, 'Roll no': '15'}\n",
      "Ram\n"
     ]
    }
   ],
   "source": [
    "x={\n",
    "     \"Name\":\"Ram\",\n",
    "    \"Class\":10,\n",
    "    \"Roll no\":\"15\"\n",
    "    \n",
    "}\n",
    "print(x)\n",
    "y=x[\"Name\"]\n",
    "print(y)"
   ]
  },
  {
   "cell_type": "code",
   "execution_count": 9,
   "id": "47fe4c0e",
   "metadata": {},
   "outputs": [
    {
     "data": {
      "text/plain": [
       "10"
      ]
     },
     "execution_count": 9,
     "metadata": {},
     "output_type": "execute_result"
    }
   ],
   "source": [
    "#We can also access items by get() method\n",
    "\n",
    "x={\n",
    "     \"Name\":\"Ram\",\n",
    "    \"Class\":10,\n",
    "    \"Roll no\":\"15\"\n",
    "    \n",
    "}\n",
    "x.get(\"Class\")"
   ]
  },
  {
   "cell_type": "code",
   "execution_count": 17,
   "id": "08cefdb5",
   "metadata": {},
   "outputs": [
    {
     "name": "stdout",
     "output_type": "stream",
     "text": [
      "{'Name': 'Ram', 'Class': 10, 'Roll no': 7}\n",
      "dict_keys(['Name', 'Class', 'Roll no'])\n",
      "{'Name': 'Ram', 'Class': 10, 'Roll no': 7, 'Age': 16}\n"
     ]
    }
   ],
   "source": [
    "#Get keys\n",
    "# The keys() method will return a list of all the keys in the dictionary.\n",
    "x={\n",
    "     \"Name\":\"Ram\",\n",
    "    \"Class\":10,\n",
    "    \"Roll no\":7\n",
    "    \n",
    "}\n",
    "y=x.keys()\n",
    "print(x)\n",
    "print(y)\n",
    "\n",
    "#To change items\n",
    "x[\"Age\"]=16\n",
    "print(x)"
   ]
  },
  {
   "cell_type": "code",
   "execution_count": 18,
   "id": "3a444f7d",
   "metadata": {},
   "outputs": [
    {
     "name": "stdout",
     "output_type": "stream",
     "text": [
      "{'Name': 'Ram', 'Class': 10, 'Roll no': 7}\n",
      "dict_values(['Ram', 10, 7])\n"
     ]
    }
   ],
   "source": [
    "#Values\n",
    "#The values() method will return a list of all the values in the dictionary.\n",
    "\n",
    "x={\n",
    "     \"Name\":\"Ram\",\n",
    "    \"Class\":10,\n",
    "    \"Roll no\":7\n",
    "    \n",
    "}\n",
    "y=x.values()\n",
    "print(x)\n",
    "print(y)"
   ]
  },
  {
   "cell_type": "code",
   "execution_count": 20,
   "id": "8f06fca0",
   "metadata": {},
   "outputs": [
    {
     "name": "stdout",
     "output_type": "stream",
     "text": [
      "dict_items([('Name', 'Ram'), ('Class', 10), ('Roll no', 7)])\n"
     ]
    }
   ],
   "source": [
    "#Get items\n",
    "# The items() method will return each item in a dictionary, as tuples in a list.\n",
    "\n",
    "x={\n",
    "     \"Name\":\"Ram\",\n",
    "    \"Class\":10,\n",
    "    \"Roll no\":7\n",
    "    \n",
    "}\n",
    "y=x.items()\n",
    "print(y)"
   ]
  },
  {
   "cell_type": "code",
   "execution_count": 24,
   "id": "e4094247",
   "metadata": {},
   "outputs": [
    {
     "name": "stdout",
     "output_type": "stream",
     "text": [
      "No, 'Age' doesn't lies in dictionary x\n"
     ]
    }
   ],
   "source": [
    "# Check if key exists or not\n",
    "\n",
    "x={\n",
    "     \"Name\":\"Ram\",\n",
    "    \"Class\":10,\n",
    "    \"Roll no\":7\n",
    "    \n",
    "}\n",
    "if \"Age\" in x:\n",
    "    print(\"Yes, 'Age' lies in dictionary x\")\n",
    "else:\n",
    "    print((\"No, 'Age' doesn't lies in dictionary x\"))\n"
   ]
  },
  {
   "cell_type": "markdown",
   "id": "749b19dc",
   "metadata": {},
   "source": [
    "# Python - Change Dictionary Items"
   ]
  },
  {
   "cell_type": "code",
   "execution_count": 26,
   "id": "da4b50e3",
   "metadata": {},
   "outputs": [
    {
     "name": "stdout",
     "output_type": "stream",
     "text": [
      "{'Name': 'Shyam', 'Class': 10, 'Roll no': 7}\n"
     ]
    }
   ],
   "source": [
    "#Using update() method\n",
    "\"\"\"\n",
    "The update() method will update the dictionary with the items from the given argument.\n",
    "\n",
    "The argument must be a dictionary, or an iterable object with key:value pairs.\n",
    "\n",
    "\"\"\"\n",
    "x={\n",
    "     \"Name\":\"Ram\",\n",
    "    \"Class\":10,\n",
    "    \"Roll no\":7\n",
    "    \n",
    "}\n",
    "x.update({\"Name\":\"Shyam\"})\n",
    "print(x)\n"
   ]
  },
  {
   "cell_type": "markdown",
   "id": "ceb11de4",
   "metadata": {},
   "source": [
    "# Python - Add Dictionary Items"
   ]
  },
  {
   "cell_type": "code",
   "execution_count": 28,
   "id": "b5516782",
   "metadata": {},
   "outputs": [
    {
     "name": "stdout",
     "output_type": "stream",
     "text": [
      "{'Name': 'Ram', 'Class': 10, 'Roll no': 7, 'class': 9}\n"
     ]
    }
   ],
   "source": [
    "x={\n",
    "     \"Name\":\"Ram\",\n",
    "    \"Class\":10,\n",
    "    \"Roll no\":7\n",
    "    \n",
    "}\n",
    "x[\"class\"]=9\n",
    "print(x)"
   ]
  },
  {
   "cell_type": "markdown",
   "id": "f1c01258",
   "metadata": {},
   "source": [
    "# Python - Remove Dictionary Items"
   ]
  },
  {
   "cell_type": "code",
   "execution_count": 29,
   "id": "317542ec",
   "metadata": {},
   "outputs": [
    {
     "name": "stdout",
     "output_type": "stream",
     "text": [
      "{'Name': 'Ram', 'Class': 10, 'Roll no': 12}\n"
     ]
    }
   ],
   "source": [
    "dict_items={\n",
    "    \"Name\":\"Ram\",\n",
    "    \"Class\":10,\n",
    "    \"Roll no\":12,\n",
    "    \"Age\":15\n",
    "    \n",
    "}\n",
    "#Using pop() method\n",
    "dict_items.pop(\"Age\")\n",
    "print(dict_items)\n"
   ]
  },
  {
   "cell_type": "code",
   "execution_count": 1,
   "id": "3cc80ed7",
   "metadata": {},
   "outputs": [
    {
     "name": "stdout",
     "output_type": "stream",
     "text": [
      "{'Name': 'Ram', 'Class': 10, 'Roll no': 12}\n"
     ]
    }
   ],
   "source": [
    "#Using del keyword removes the item with the specified key name\n",
    "dict_items={\n",
    "    \"Name\":\"Ram\",\n",
    "    \"Class\":10,\n",
    "    \"Roll no\":12,\n",
    "    \"Age\":15\n",
    "    \n",
    "}\n",
    "\n",
    "del dict_items[\"Age\"]\n",
    "print(dict_items)"
   ]
  },
  {
   "cell_type": "code",
   "execution_count": 33,
   "id": "a052a7f6",
   "metadata": {},
   "outputs": [
    {
     "ename": "NameError",
     "evalue": "name 'dict_items' is not defined",
     "output_type": "error",
     "traceback": [
      "\u001b[1;31m---------------------------------------------------------------------------\u001b[0m",
      "\u001b[1;31mNameError\u001b[0m                                 Traceback (most recent call last)",
      "Input \u001b[1;32mIn [33]\u001b[0m, in \u001b[0;36m<cell line: 10>\u001b[1;34m()\u001b[0m\n\u001b[0;32m      1\u001b[0m dict_items\u001b[38;5;241m=\u001b[39m{\n\u001b[0;32m      2\u001b[0m     \u001b[38;5;124m\"\u001b[39m\u001b[38;5;124mName\u001b[39m\u001b[38;5;124m\"\u001b[39m:\u001b[38;5;124m\"\u001b[39m\u001b[38;5;124mRam\u001b[39m\u001b[38;5;124m\"\u001b[39m,\n\u001b[0;32m      3\u001b[0m     \u001b[38;5;124m\"\u001b[39m\u001b[38;5;124mClass\u001b[39m\u001b[38;5;124m\"\u001b[39m:\u001b[38;5;241m10\u001b[39m,\n\u001b[1;32m   (...)\u001b[0m\n\u001b[0;32m      6\u001b[0m     \n\u001b[0;32m      7\u001b[0m }\n\u001b[0;32m      9\u001b[0m \u001b[38;5;28;01mdel\u001b[39;00m dict_items\n\u001b[1;32m---> 10\u001b[0m \u001b[38;5;28mprint\u001b[39m(\u001b[43mdict_items\u001b[49m)\n",
      "\u001b[1;31mNameError\u001b[0m: name 'dict_items' is not defined"
     ]
    }
   ],
   "source": [
    "dict_items={\n",
    "    \"Name\":\"Ram\",\n",
    "    \"Class\":10,\n",
    "    \"Roll no\":12,\n",
    "    \"Age\":15\n",
    "    \n",
    "}\n",
    "\n",
    "del dict_items\n",
    "print(dict_items)"
   ]
  },
  {
   "cell_type": "markdown",
   "id": "c4f43140",
   "metadata": {},
   "source": [
    "# Python - Loop Dictionaries"
   ]
  },
  {
   "cell_type": "code",
   "execution_count": 36,
   "id": "82ecebee",
   "metadata": {},
   "outputs": [
    {
     "name": "stdout",
     "output_type": "stream",
     "text": [
      "Name\n",
      "Class\n",
      "Roll no\n",
      "Age\n"
     ]
    }
   ],
   "source": [
    "items={\n",
    "    \"Name\":\"Ram\",\n",
    "    \"Class\":10,\n",
    "    \"Roll no\":12,\n",
    "    \"Age\":15\n",
    "    \n",
    "}\n",
    "for i in items:\n",
    "    print(i)"
   ]
  },
  {
   "cell_type": "code",
   "execution_count": 37,
   "id": "1a36618f",
   "metadata": {},
   "outputs": [
    {
     "name": "stdout",
     "output_type": "stream",
     "text": [
      "Ram\n",
      "10\n",
      "12\n",
      "15\n"
     ]
    }
   ],
   "source": [
    "items={\n",
    "    \"Name\":\"Ram\",\n",
    "    \"Class\":10,\n",
    "    \"Roll no\":12,\n",
    "    \"Age\":15\n",
    "    \n",
    "}\n",
    "for i in items:\n",
    "    print(items[i])"
   ]
  },
  {
   "cell_type": "code",
   "execution_count": 38,
   "id": "a3d1376e",
   "metadata": {},
   "outputs": [
    {
     "name": "stdout",
     "output_type": "stream",
     "text": [
      "Ram\n",
      "10\n",
      "12\n",
      "15\n"
     ]
    }
   ],
   "source": [
    "items={\n",
    "    \"Name\":\"Ram\",\n",
    "    \"Class\":10,\n",
    "    \"Roll no\":12,\n",
    "    \"Age\":15\n",
    "    \n",
    "}\n",
    "for i in items.values():\n",
    "    print(i)"
   ]
  },
  {
   "cell_type": "code",
   "execution_count": 40,
   "id": "679664a9",
   "metadata": {},
   "outputs": [
    {
     "name": "stdout",
     "output_type": "stream",
     "text": [
      "Name\n",
      "Class\n",
      "Roll no\n",
      "Age\n"
     ]
    }
   ],
   "source": [
    "items={\n",
    "    \"Name\":\"Ram\",\n",
    "    \"Class\":10,\n",
    "    \"Roll no\":12,\n",
    "    \"Age\":15\n",
    "    \n",
    "}\n",
    "for i in items.keys():\n",
    "    print(i)"
   ]
  },
  {
   "cell_type": "code",
   "execution_count": null,
   "id": "34170fda",
   "metadata": {},
   "outputs": [],
   "source": []
  }
 ],
 "metadata": {
  "kernelspec": {
   "display_name": "Python 3 (ipykernel)",
   "language": "python",
   "name": "python3"
  },
  "language_info": {
   "codemirror_mode": {
    "name": "ipython",
    "version": 3
   },
   "file_extension": ".py",
   "mimetype": "text/x-python",
   "name": "python",
   "nbconvert_exporter": "python",
   "pygments_lexer": "ipython3",
   "version": "3.9.12"
  }
 },
 "nbformat": 4,
 "nbformat_minor": 5
}
