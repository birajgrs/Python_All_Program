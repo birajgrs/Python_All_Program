{
 "cells": [
  {
   "cell_type": "code",
   "execution_count": 8,
   "id": "08a93654",
   "metadata": {},
   "outputs": [],
   "source": [
    "'''\n",
    "A Python module is a python file with .py extension incluing statements and definitions.\n",
    "It contains code that we can reuse in several programs.\n",
    "\n",
    "For Example:\n",
    "A file containing python code, demo.py, called a module, an its module name would be demo.\n",
    "\n",
    "'''\n",
    "pass"
   ]
  },
  {
   "cell_type": "markdown",
   "id": "3e9e1fe8",
   "metadata": {},
   "source": [
    "# __future__ — Future statement definitions "
   ]
  },
  {
   "cell_type": "code",
   "execution_count": 10,
   "id": "47b05858",
   "metadata": {},
   "outputs": [],
   "source": [
    "from __future__ import annotations"
   ]
  },
  {
   "cell_type": "code",
   "execution_count": 15,
   "id": "39b63686",
   "metadata": {},
   "outputs": [],
   "source": [
    "import typing\n",
    "\n",
    "class Node:\n",
    "    data: int\n",
    "    next: typing.Optional[\"Node\"]\n",
    "        "
   ]
  },
  {
   "cell_type": "code",
   "execution_count": 16,
   "id": "19380a5b",
   "metadata": {},
   "outputs": [
    {
     "name": "stdout",
     "output_type": "stream",
     "text": [
      "{'data': 'int', 'next': \"typing.Optional['Node']\"}\n"
     ]
    }
   ],
   "source": [
    "print(Node.__annotations__)"
   ]
  },
  {
   "cell_type": "code",
   "execution_count": 17,
   "id": "4d245ef3",
   "metadata": {},
   "outputs": [
    {
     "name": "stdout",
     "output_type": "stream",
     "text": [
      "{'data': <class 'int'>, 'next': typing.Optional[__main__.Node]}\n"
     ]
    }
   ],
   "source": [
    "print(typing.get_type_hints(Node))"
   ]
  },
  {
   "cell_type": "code",
   "execution_count": 27,
   "id": "361633fa",
   "metadata": {},
   "outputs": [
    {
     "name": "stdout",
     "output_type": "stream",
     "text": [
      "2.0\n"
     ]
    }
   ],
   "source": [
    "# Example 2\n",
    "\n",
    "from __future__ import division   \n",
    "\n",
    "#  Gives in floating point\n",
    "res=5/2.5\n",
    "print(res)\n"
   ]
  },
  {
   "cell_type": "markdown",
   "id": "de41eebe",
   "metadata": {},
   "source": [
    "<!-- Built in modules\n",
    "--> "
   ]
  },
  {
   "cell_type": "code",
   "execution_count": 38,
   "id": "7a823626",
   "metadata": {},
   "outputs": [
    {
     "name": "stdout",
     "output_type": "stream",
     "text": [
      "Windows\n"
     ]
    }
   ],
   "source": [
    "# Built in modules\n",
    "\n",
    "import platform \n",
    "X=platform.system()\n",
    "print(X)"
   ]
  },
  {
   "cell_type": "markdown",
   "id": "dc3ee9f6",
   "metadata": {},
   "source": [
    "# Calender--- Date and time  "
   ]
  },
  {
   "cell_type": "code",
   "execution_count": 43,
   "id": "09bb5cab",
   "metadata": {
    "scrolled": true
   },
   "outputs": [
    {
     "name": "stdout",
     "output_type": "stream",
     "text": [
      "     March 2002\n",
      "Mo Tu We Th Fr Sa Su\n",
      "             1  2  3\n",
      " 4  5  6  7  8  9 10\n",
      "11 12 13 14 15 16 17\n",
      "18 19 20 21 22 23 24\n",
      "25 26 27 28 29 30 31\n",
      "\n"
     ]
    }
   ],
   "source": [
    "#  Predefine module\n",
    "\n",
    "\n",
    "import calendar  \n",
    "\n",
    "print(calendar.month(2002, 3))  "
   ]
  },
  {
   "cell_type": "code",
   "execution_count": 65,
   "id": "9174cbea",
   "metadata": {},
   "outputs": [
    {
     "name": "stdout",
     "output_type": "stream",
     "text": [
      "   December 2000\n",
      "Mo Tu We Th Fr Sa Su\n",
      "             1  2  3\n",
      " 4  5  6  7  8  9 10\n",
      "11 12 13 14 15 16 17\n",
      "18 19 20 21 22 23 24\n",
      "25 26 27 28 29 30 31\n",
      "\n",
      "    January 2005\n",
      "Mo Tu We Th Fr Sa Su\n",
      "                1  2\n",
      " 3  4  5  6  7  8  9\n",
      "10 11 12 13 14 15 16\n",
      "17 18 19 20 21 22 23\n",
      "24 25 26 27 28 29 30\n",
      "31\n",
      "\n"
     ]
    }
   ],
   "source": [
    "print(calendar.month(2000, 12))  \n",
    "\n",
    "\n",
    "\n",
    "print(calendar.month(2005,1))"
   ]
  },
  {
   "cell_type": "markdown",
   "id": "b2753041",
   "metadata": {},
   "source": [
    "#  Now Datetime"
   ]
  },
  {
   "cell_type": "code",
   "execution_count": 45,
   "id": "42771521",
   "metadata": {},
   "outputs": [],
   "source": [
    "import datetime\n",
    "\n",
    "x=datetime.datetime.now()"
   ]
  },
  {
   "cell_type": "code",
   "execution_count": 47,
   "id": "994e4272",
   "metadata": {},
   "outputs": [
    {
     "name": "stdout",
     "output_type": "stream",
     "text": [
      "2023-09-12 16:07:54.141061\n"
     ]
    }
   ],
   "source": [
    "print(x)"
   ]
  },
  {
   "cell_type": "code",
   "execution_count": 48,
   "id": "47594a0e",
   "metadata": {},
   "outputs": [
    {
     "name": "stdout",
     "output_type": "stream",
     "text": [
      "2023\n",
      "Tuesday\n"
     ]
    }
   ],
   "source": [
    "# year and name of weekday\n",
    "import datetime\n",
    "\n",
    "x = datetime.datetime.now()\n",
    "\n",
    "print(x.year)\n",
    "print(x.strftime(\"%A\"))"
   ]
  },
  {
   "cell_type": "code",
   "execution_count": 50,
   "id": "92a6151a",
   "metadata": {
    "scrolled": true
   },
   "outputs": [
    {
     "name": "stdout",
     "output_type": "stream",
     "text": [
      "2002-03-23 00:00:00\n"
     ]
    }
   ],
   "source": [
    "# Creating Date Objects\n",
    "import datetime\n",
    "\n",
    "x = datetime.datetime(2002, 3, 23)\n",
    "print(x)"
   ]
  },
  {
   "cell_type": "code",
   "execution_count": 51,
   "id": "eba17095",
   "metadata": {},
   "outputs": [
    {
     "name": "stdout",
     "output_type": "stream",
     "text": [
      "['False', 'None', 'True', '__peg_parser__', 'and', 'as', 'assert', 'async', 'await', 'break', 'class', 'continue', 'def', 'del', 'elif', 'else', 'except', 'finally', 'for', 'from', 'global', 'if', 'import', 'in', 'is', 'lambda', 'nonlocal', 'not', 'or', 'pass', 'raise', 'return', 'try', 'while', 'with', 'yield']\n"
     ]
    }
   ],
   "source": [
    "#  Predefine module \n",
    "#  Show all keywords in python\n",
    "\n",
    "import keyword \n",
    "print(keyword.kwlist)"
   ]
  },
  {
   "cell_type": "markdown",
   "id": "b6518ed5",
   "metadata": {},
   "source": [
    "#  Math modules in python"
   ]
  },
  {
   "cell_type": "code",
   "execution_count": 52,
   "id": "8341cb76",
   "metadata": {},
   "outputs": [
    {
     "name": "stdout",
     "output_type": "stream",
     "text": [
      "5\n",
      "20\n"
     ]
    }
   ],
   "source": [
    "a=min(5,10,15,20)\n",
    "b=max(5,10,15,20)\n",
    "print(a)\n",
    "print(b)"
   ]
  },
  {
   "cell_type": "code",
   "execution_count": 54,
   "id": "4f325887",
   "metadata": {},
   "outputs": [
    {
     "name": "stdout",
     "output_type": "stream",
     "text": [
      "5.5555\n"
     ]
    }
   ],
   "source": [
    "x=abs(05.5555)\n",
    "print(x)"
   ]
  },
  {
   "cell_type": "code",
   "execution_count": 56,
   "id": "ba53e4a4",
   "metadata": {},
   "outputs": [
    {
     "name": "stdout",
     "output_type": "stream",
     "text": [
      "64\n"
     ]
    }
   ],
   "source": [
    "x = pow(4, 3)\n",
    "\n",
    "print(x)"
   ]
  },
  {
   "cell_type": "code",
   "execution_count": 58,
   "id": "de0c2d3b",
   "metadata": {},
   "outputs": [
    {
     "name": "stdout",
     "output_type": "stream",
     "text": [
      "2.449489742783178\n"
     ]
    }
   ],
   "source": [
    "import math\n",
    "sq=math.sqrt(6)\n",
    "print(sq)"
   ]
  },
  {
   "cell_type": "code",
   "execution_count": 62,
   "id": "07900284",
   "metadata": {},
   "outputs": [
    {
     "name": "stdout",
     "output_type": "stream",
     "text": [
      "2\n",
      "1\n"
     ]
    }
   ],
   "source": [
    "ce=math.ceil(1.66)\n",
    "print(ce)\n",
    "\n",
    "fl=math.floor(1.66)\n",
    "print(fl)"
   ]
  },
  {
   "cell_type": "code",
   "execution_count": 64,
   "id": "9b4c5a4c",
   "metadata": {},
   "outputs": [
    {
     "name": "stdout",
     "output_type": "stream",
     "text": [
      "value of pi: 3.141592653589793\n"
     ]
    }
   ],
   "source": [
    "Val_of_pi=math.pi\n",
    "print(\"value of pi:\",Val_of_pi)"
   ]
  },
  {
   "cell_type": "code",
   "execution_count": null,
   "id": "41ed8403",
   "metadata": {},
   "outputs": [],
   "source": []
  }
 ],
 "metadata": {
  "kernelspec": {
   "display_name": "Python 3 (ipykernel)",
   "language": "python",
   "name": "python3"
  },
  "language_info": {
   "codemirror_mode": {
    "name": "ipython",
    "version": 3
   },
   "file_extension": ".py",
   "mimetype": "text/x-python",
   "name": "python",
   "nbconvert_exporter": "python",
   "pygments_lexer": "ipython3",
   "version": "3.9.12"
  }
 },
 "nbformat": 4,
 "nbformat_minor": 5
}
