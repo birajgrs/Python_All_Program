{
 "cells": [
  {
   "cell_type": "markdown",
   "id": "9626f31e",
   "metadata": {},
   "source": [
    "# Python Boolean"
   ]
  },
  {
   "cell_type": "code",
   "execution_count": 4,
   "id": "4b01e957",
   "metadata": {},
   "outputs": [
    {
     "name": "stdout",
     "output_type": "stream",
     "text": [
      "True\n",
      "1\n",
      "0\n"
     ]
    }
   ],
   "source": [
    "#Boolan in Python --->True/False\n",
    "\n",
    "print(True)\n",
    "\n",
    "print(int(True))\n",
    "print(int(False))\n"
   ]
  },
  {
   "cell_type": "code",
   "execution_count": 12,
   "id": "6ce51ac4",
   "metadata": {},
   "outputs": [
    {
     "name": "stdout",
     "output_type": "stream",
     "text": [
      "True\n",
      "False\n",
      "True\n",
      "False\n",
      "True\n",
      "False\n"
     ]
    }
   ],
   "source": [
    "a=\"Hello World\"\n",
    "print(bool(a))\n",
    "\n",
    "b=\"\"\n",
    "print(bool(b))\n",
    "b=\" \"\n",
    "print(bool(b))\n",
    "\n",
    "b=0\n",
    "print(bool(b))\n",
    "\n",
    "b=\"0\"\n",
    "print(bool(b))\n",
    "\n",
    "print(bool([]))\n"
   ]
  },
  {
   "cell_type": "code",
   "execution_count": 17,
   "id": "568ef27c",
   "metadata": {},
   "outputs": [
    {
     "name": "stdout",
     "output_type": "stream",
     "text": [
      "2\n",
      "0\n",
      "False\n",
      "True\n"
     ]
    }
   ],
   "source": [
    "#Operation on Boolean\n",
    "# print(True+False)   #1+0\n",
    "print(True+True)    #1+1\n",
    "print(True*False)   #1*1\n",
    "print(True<False)\n",
    "print(True!=False)\n"
   ]
  },
  {
   "cell_type": "code",
   "execution_count": 21,
   "id": "7c46a532",
   "metadata": {},
   "outputs": [
    {
     "name": "stdout",
     "output_type": "stream",
     "text": [
      "<class 'bool'>\n",
      "True\n",
      "\n",
      "False\n",
      "False\n"
     ]
    }
   ],
   "source": [
    "print(type(10>9))\n",
    "print(10>9)\n",
    "print()\n",
    "print(10 == 9)\n",
    "print(10 < 9)"
   ]
  },
  {
   "cell_type": "code",
   "execution_count": 23,
   "id": "8f9976c0",
   "metadata": {},
   "outputs": [
    {
     "name": "stdout",
     "output_type": "stream",
     "text": [
      "b is greater than a\n"
     ]
    }
   ],
   "source": [
    "a=6\n",
    "b=7\n",
    "if b>a:\n",
    "    print(\"b is greater than a\")\n",
    "else:\n",
    "    print(\"b is not greater than a\")"
   ]
  },
  {
   "cell_type": "markdown",
   "id": "0f5dc593",
   "metadata": {},
   "source": [
    "# Operators in Python"
   ]
  },
  {
   "cell_type": "code",
   "execution_count": null,
   "id": "e04d9d97",
   "metadata": {},
   "outputs": [],
   "source": [
    "\"\"\"The operator is a symbol that performs a certain operation between two operands, according to one definition.\n",
    "In a particular programming language, operators serve as the foundation upon which logic is constructed in a programme.\n",
    "The different operators that Python offers are listed here.\n",
    "\n",
    "--->Arithmetic operators\n",
    "--->Comparison operators\n",
    "--->Assignment Operators\n",
    "--->Logical Operators\n",
    "--->Bitwise Operators\n",
    "--->Membership Operators\n",
    "--->Identity Operators\n",
    "\"\"\""
   ]
  },
  {
   "cell_type": "markdown",
   "id": "9d8850e4",
   "metadata": {},
   "source": [
    "# Artihmatic Operators"
   ]
  },
  {
   "cell_type": "code",
   "execution_count": 29,
   "id": "76e6c604",
   "metadata": {},
   "outputs": [
    {
     "name": "stdout",
     "output_type": "stream",
     "text": [
      "30\n",
      "20\n",
      "125\n",
      "5.0\n",
      "0\n",
      "12\n",
      "9765625\n",
      "5\n",
      "3\n"
     ]
    }
   ],
   "source": [
    "a=25\n",
    "b=5\n",
    "print(a+b)   #Addition +\n",
    "print(a-b)   #Subtraction  -\n",
    "print(a*b)   #multiplication *\n",
    "print(a/b)   #division /\n",
    "print(a%b)   #modulus %\n",
    "print(77%13)\n",
    "print(a**b)   #Exponentiation   //\n",
    "print(a//b)  #Floor division\n",
    "print(11//3)"
   ]
  },
  {
   "cell_type": "markdown",
   "id": "b825e26a",
   "metadata": {},
   "source": [
    "# Comparison Operators"
   ]
  },
  {
   "cell_type": "code",
   "execution_count": null,
   "id": "45083b8f",
   "metadata": {},
   "outputs": [],
   "source": [
    "#Equal to ==\n",
    "\n",
    "x=5\n",
    "y=7\n",
    "print(x==y)\n",
    "\n",
    "a=7\n",
    "b=7\n",
    "if a==b:\n",
    "    print(\"a is equal to b\")\n",
    "else:\n",
    "    print(\"a is not equal to b\")\n",
    "\n",
    "\n",
    "a=7\n",
    "b=7.5\n",
    "if a==b:\n",
    "    print(\"a is equal to b\")\n",
    "else:\n",
    "    print(\"a is not equal to b\")"
   ]
  },
  {
   "cell_type": "code",
   "execution_count": 37,
   "id": "eab5f95d",
   "metadata": {},
   "outputs": [
    {
     "name": "stdout",
     "output_type": "stream",
     "text": [
      "True\n",
      "a is equal to b\n",
      "a is equal to b\n"
     ]
    }
   ],
   "source": [
    "#Not equal to !=\n",
    "\n",
    "x=5\n",
    "y=7\n",
    "print(x!=y)\n",
    "\n",
    "a=7\n",
    "b=7\n",
    "if a!=b:\n",
    "    print(\"a is not equal to b\")\n",
    "else:\n",
    "    print(\"a is equal to b\")\n",
    "\n",
    "\n",
    "a=7\n",
    "b=7.5\n",
    "if a!=b:\n",
    "    print(\"a is not equal to b\")\n",
    "else:\n",
    "    print(\"a is equal to b\")"
   ]
  },
  {
   "cell_type": "code",
   "execution_count": 38,
   "id": "1bd67984",
   "metadata": {},
   "outputs": [
    {
     "name": "stdout",
     "output_type": "stream",
     "text": [
      "False\n",
      "a is greater than b\n",
      "a is not greater than b\n"
     ]
    }
   ],
   "source": [
    "#Greater than >\n",
    "\n",
    "x=5\n",
    "y=7\n",
    "print(x>y)\n",
    "\n",
    "a=8\n",
    "b=7\n",
    "if a>b:\n",
    "    print(\"a is greater than b\")\n",
    "else:\n",
    "    print(\"a is not greater than b\")\n",
    "\n",
    "\n",
    "a=7\n",
    "b=7.5\n",
    "\n",
    "if a>b:\n",
    "    print(\"a is greater than b\")\n",
    "else:\n",
    "    print(\"a is not greater than b\")\n",
    "\n",
    "\n"
   ]
  },
  {
   "cell_type": "code",
   "execution_count": 40,
   "id": "12c4f8a6",
   "metadata": {},
   "outputs": [
    {
     "name": "stdout",
     "output_type": "stream",
     "text": [
      "True\n",
      "a is not less than b\n",
      "a is less than b\n"
     ]
    }
   ],
   "source": [
    "#less than <\n",
    "\n",
    "x=5\n",
    "y=7\n",
    "print(x<y)\n",
    "\n",
    "a=8\n",
    "b=7\n",
    "if a<b:\n",
    "    print(\"a is less than b\")\n",
    "else:\n",
    "    print(\"a is not less than b\")\n",
    "\n",
    "\n",
    "a=7\n",
    "b=7.5\n",
    "\n",
    "if a<b:\n",
    "    print(\"a is less than b\")\n",
    "else:\n",
    "    print(\"a is not less than b\")\n",
    "\n",
    "\n"
   ]
  },
  {
   "cell_type": "markdown",
   "id": "1ac5d648",
   "metadata": {},
   "source": [
    "# Assignment Operators"
   ]
  },
  {
   "cell_type": "code",
   "execution_count": 54,
   "id": "e10133de",
   "metadata": {},
   "outputs": [
    {
     "name": "stdout",
     "output_type": "stream",
     "text": [
      "10\n",
      "20\n",
      "30\n",
      "30\n",
      "10\n",
      "100\n",
      "15\n",
      "3\n",
      "1\n",
      "3\n",
      "3\n"
     ]
    }
   ],
   "source": [
    "a=10\n",
    "b=20\n",
    "print(a)\n",
    "print(b)\n",
    "print(a+b)\n",
    "\n",
    "# a=a+20\n",
    "# print(a)\n",
    "\n",
    "# b=b-10\n",
    "# print(b)\n",
    "\n",
    "# b=b*10\n",
    "# print(b)\n",
    "\n",
    "# a=int(a/2)\n",
    "# print(a)\n",
    "\n",
    "\n",
    "a+=20\n",
    "print(a)\n",
    "\n",
    "b-=10\n",
    "print(b)\n",
    "\n",
    "b*=10\n",
    "print(b)\n",
    "\n",
    "a/=2\n",
    "print(int(a))\n",
    "\n",
    "a%=4\n",
    "print(int(a))\n",
    "\n",
    "x = 5\n",
    "\n",
    "x//=3\n",
    "\n",
    "print(x)\n",
    "\n",
    "\n",
    "x=7\n",
    "\n",
    "x &= 3\n",
    "print(x)\n",
    "\n",
    "x != 3\n",
    "print(x)\n",
    "\n"
   ]
  },
  {
   "cell_type": "markdown",
   "id": "b447a248",
   "metadata": {},
   "source": [
    "# Logical Operators"
   ]
  },
  {
   "cell_type": "code",
   "execution_count": 59,
   "id": "14757875",
   "metadata": {},
   "outputs": [
    {
     "name": "stdout",
     "output_type": "stream",
     "text": [
      "Enter First value:11\n",
      "11\n",
      "Enter Second value:4\n",
      "4\n",
      "Enter Third value:7\n",
      "7\n",
      "False\n"
     ]
    }
   ],
   "source": [
    "#Logical AND\n",
    "\n",
    "\n",
    "a=int(input((\"Enter First value:\")))\n",
    "print(a)\n",
    "b=int(input((\"Enter Second value:\")))\n",
    "print(b)\n",
    "c=int(input((\"Enter Third value:\")))\n",
    "print(c)\n",
    "d=a>b and c<b and a>c\n",
    "if d:\n",
    "    print(True)\n",
    "else:\n",
    "    print(False)\n"
   ]
  },
  {
   "cell_type": "code",
   "execution_count": 58,
   "id": "15411622",
   "metadata": {},
   "outputs": [
    {
     "name": "stdout",
     "output_type": "stream",
     "text": [
      "Enter First value:7\n",
      "7\n",
      "Enter Second value:4\n",
      "4\n",
      "Enter Third value:13\n",
      "13\n",
      "True\n"
     ]
    }
   ],
   "source": [
    "#Logical OR\n",
    "\n",
    "\n",
    "a=int(input((\"Enter First value:\")))\n",
    "print(a)\n",
    "b=int(input((\"Enter Second value:\")))\n",
    "print(b)\n",
    "c=int(input((\"Enter Third value:\")))\n",
    "print(c)\n",
    "d=a>b or c<b or a>c\n",
    "if d:\n",
    "    print(True)\n",
    "else:\n",
    "    print(False)"
   ]
  },
  {
   "cell_type": "code",
   "execution_count": 60,
   "id": "800ee40e",
   "metadata": {},
   "outputs": [
    {
     "name": "stdout",
     "output_type": "stream",
     "text": [
      "Enter First value:5\n",
      "5\n",
      "Enter Second value:7\n",
      "7\n",
      "Enter Third value:11\n",
      "11\n",
      "True\n"
     ]
    }
   ],
   "source": [
    "#Logical not\n",
    "\n",
    "\n",
    "a=int(input((\"Enter First value:\")))\n",
    "print(a)\n",
    "b=int(input((\"Enter Second value:\")))\n",
    "print(b)\n",
    "c=int(input((\"Enter Third value:\")))\n",
    "print(c)\n",
    "d=!(a>b and c<b and a>c)\n",
    "if d:\n",
    "    print(True)\n",
    "else:\n",
    "    print(False)"
   ]
  },
  {
   "cell_type": "markdown",
   "id": "847673f1",
   "metadata": {},
   "source": [
    "# Bitwise Operators"
   ]
  },
  {
   "cell_type": "code",
   "execution_count": 66,
   "id": "c203c40a",
   "metadata": {},
   "outputs": [
    {
     "name": "stdout",
     "output_type": "stream",
     "text": [
      "~a= -11\n",
      "a &b = 10\n",
      "a|b= 15\n",
      "a^b= 5\n",
      "a<<2= 40\n",
      "a>>2= 2\n"
     ]
    }
   ],
   "source": [
    "a=10   #0000 1010\n",
    "b=15   #0000 1111\n",
    "\n",
    "\n",
    "print('~a=',~a)     #NOT \t Inverts all the bits\n",
    "print('a &b =',a & b)  #  AND\tSets each bit to 1 if both bits are 1\n",
    "print('a|b=',a|b)   #OR  \tSets each bit to 1 if one of two bits is 1\n",
    "print('a^b=',a^b)  #XOR\tSets each bit to 1 if only one of two bits is 1\n",
    "print('a<<2=',a<<2) #Zero fill left shift\tShift left by pushing zeros in from the right and let the leftmost bits fall off\n",
    "print('a>>2=',a>>2) #Signed right shift\t  Shift right by pushing copies of the leftmost bit in from the left, and let the rightmost bits fall off"
   ]
  },
  {
   "cell_type": "markdown",
   "id": "09fd8de9",
   "metadata": {},
   "source": [
    "# Membership Operators"
   ]
  },
  {
   "cell_type": "code",
   "execution_count": 67,
   "id": "9fe84ab9",
   "metadata": {},
   "outputs": [
    {
     "name": "stdout",
     "output_type": "stream",
     "text": [
      "False\n"
     ]
    }
   ],
   "source": [
    "\"\"\"\n",
    "Membership operators are used to test \n",
    "if a sequence is presented in an object.\n",
    "The result is true if the value is in the data structure;\n",
    "otherwise, it returns false.\n",
    "\"\"\"\n",
    "\n",
    "\n",
    "# in \tReturns True if a sequence with the specified value is present in the object\n",
    "str1=\"Hello World\"\n",
    "str2=\"This is Python program.\"\n",
    "print(str1 in str2)"
   ]
  },
  {
   "cell_type": "code",
   "execution_count": 68,
   "id": "4a4bc6aa",
   "metadata": {},
   "outputs": [
    {
     "name": "stdout",
     "output_type": "stream",
     "text": [
      "True\n"
     ]
    }
   ],
   "source": [
    "# not in\tReturns True if a sequence with the specified value is not present in the object\n",
    "str1=\"Hello World\"\n",
    "str2=\"This is Python program.\"\n",
    "print(str1 not in str2)"
   ]
  },
  {
   "cell_type": "code",
   "execution_count": null,
   "id": "56cabeb8",
   "metadata": {},
   "outputs": [],
   "source": []
  },
  {
   "cell_type": "code",
   "execution_count": null,
   "id": "2ec0e16a",
   "metadata": {},
   "outputs": [],
   "source": []
  },
  {
   "cell_type": "code",
   "execution_count": null,
   "id": "b68209ce",
   "metadata": {},
   "outputs": [],
   "source": []
  },
  {
   "cell_type": "code",
   "execution_count": null,
   "id": "c2fc9f6e",
   "metadata": {},
   "outputs": [],
   "source": []
  },
  {
   "cell_type": "code",
   "execution_count": null,
   "id": "bd16d6c1",
   "metadata": {},
   "outputs": [],
   "source": []
  },
  {
   "cell_type": "code",
   "execution_count": null,
   "id": "f5e6e158",
   "metadata": {},
   "outputs": [],
   "source": []
  },
  {
   "cell_type": "code",
   "execution_count": null,
   "id": "94f8a02e",
   "metadata": {},
   "outputs": [],
   "source": []
  },
  {
   "cell_type": "code",
   "execution_count": null,
   "id": "3dcfa0bd",
   "metadata": {},
   "outputs": [],
   "source": []
  },
  {
   "cell_type": "code",
   "execution_count": null,
   "id": "8ead5bac",
   "metadata": {},
   "outputs": [],
   "source": [
    "\n"
   ]
  }
 ],
 "metadata": {
  "kernelspec": {
   "display_name": "Python 3 (ipykernel)",
   "language": "python",
   "name": "python3"
  },
  "language_info": {
   "codemirror_mode": {
    "name": "ipython",
    "version": 3
   },
   "file_extension": ".py",
   "mimetype": "text/x-python",
   "name": "python",
   "nbconvert_exporter": "python",
   "pygments_lexer": "ipython3",
   "version": "3.9.12"
  }
 },
 "nbformat": 4,
 "nbformat_minor": 5
}
