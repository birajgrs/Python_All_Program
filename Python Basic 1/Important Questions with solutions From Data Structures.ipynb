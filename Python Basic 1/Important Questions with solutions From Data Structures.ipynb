{
 "cells": [
  {
   "cell_type": "code",
   "execution_count": 3,
   "id": "28bdc36e",
   "metadata": {},
   "outputs": [
    {
     "name": "stdout",
     "output_type": "stream",
     "text": [
      "[1, 2, 3, 4, 5, 6, 7, 8]\n"
     ]
    }
   ],
   "source": [
    "#  Hash Tables- Data Duplication\n",
    "\n",
    "def deduplicate_data(input_list):\n",
    "    deduplicated_data = {}\n",
    "    for item in input_list:\n",
    "        deduplicated_data[item] = True\n",
    "\n",
    "    # Return the unique elements as a list\n",
    "    return list(deduplicated_data.keys())\n",
    "\n",
    "\n",
    "input_list = [1, 2, 3, 2, 4, 5, 1, 6, 7, 8, 7]\n",
    "\n",
    "# Deduplicate the data using a dictionary\n",
    "deduplicated_list = deduplicate_data(input_list)\n",
    "\n",
    "# Print the deduplicated list\n",
    "print(deduplicated_list)\n"
   ]
  },
  {
   "cell_type": "code",
   "execution_count": null,
   "id": "443c4f66",
   "metadata": {},
   "outputs": [],
   "source": []
  }
 ],
 "metadata": {
  "kernelspec": {
   "display_name": "Python 3 (ipykernel)",
   "language": "python",
   "name": "python3"
  },
  "language_info": {
   "codemirror_mode": {
    "name": "ipython",
    "version": 3
   },
   "file_extension": ".py",
   "mimetype": "text/x-python",
   "name": "python",
   "nbconvert_exporter": "python",
   "pygments_lexer": "ipython3",
   "version": "3.9.12"
  }
 },
 "nbformat": 4,
 "nbformat_minor": 5
}
