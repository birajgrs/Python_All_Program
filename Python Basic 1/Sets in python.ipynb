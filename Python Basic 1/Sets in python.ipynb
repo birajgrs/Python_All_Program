{
 "cells": [
  {
   "cell_type": "code",
   "execution_count": 3,
   "id": "c1d79654",
   "metadata": {},
   "outputs": [
    {
     "name": "stdout",
     "output_type": "stream",
     "text": [
      "Help on built-in function add:\n",
      "\n",
      "add(...) method of builtins.set instance\n",
      "    Add an element to a set.\n",
      "    \n",
      "    This has no effect if the element is already present.\n",
      "\n"
     ]
    }
   ],
   "source": [
    "example=set()\n",
    "dir(example)\n"
   ]
  },
  {
   "cell_type": "code",
   "execution_count": 4,
   "id": "1b6d4eb0",
   "metadata": {},
   "outputs": [
    {
     "name": "stdout",
     "output_type": "stream",
     "text": [
      "Help on built-in function add:\n",
      "\n",
      "add(...) method of builtins.set instance\n",
      "    Add an element to a set.\n",
      "    \n",
      "    This has no effect if the element is already present.\n",
      "\n"
     ]
    }
   ],
   "source": [
    "help(example.add)"
   ]
  },
  {
   "cell_type": "code",
   "execution_count": 5,
   "id": "23a1ddc0",
   "metadata": {},
   "outputs": [
    {
     "data": {
      "text/plain": [
       "{3.14159, 42, False, 'Hari', 'Ram', 'Shyam'}"
      ]
     },
     "execution_count": 5,
     "metadata": {},
     "output_type": "execute_result"
    }
   ],
   "source": [
    "#This has no effct if the element is alrady present.\n",
    "example.add(42)\n",
    "example.add(False)\n",
    "example.add(3.14159)\n",
    "example.add(\"Ram\")\n",
    "example.add(\"Shyam\")\n",
    "example.add(\"Hari\")\n",
    "example\n"
   ]
  },
  {
   "cell_type": "code",
   "execution_count": 7,
   "id": "b5ab1a3a",
   "metadata": {},
   "outputs": [
    {
     "name": "stdout",
     "output_type": "stream",
     "text": [
      "{False, 'Hari', 3.14159, 'Shyam', 42, 'Ram'}\n",
      "6\n"
     ]
    },
    {
     "data": {
      "text/plain": [
       "'\\nSet Items\\nSet items are unordered, unchangeable, \\nand do not allow duplicate values.\\n'"
      ]
     },
     "execution_count": 7,
     "metadata": {},
     "output_type": "execute_result"
    }
   ],
   "source": [
    "#Set\n",
    "#Sets are used to store multiple items in a single variable.\n",
    "sets={3.14159, 42, False, 'Hari', 'Ram', 'Shyam'}\n",
    "print(sets)\n",
    "print(len(sets))\n",
    "\n",
    "\"\"\"\n",
    "Set Items\n",
    "Set items are unordered, unchangeable, \n",
    "and do not allow duplicate values.\n",
    "\"\"\""
   ]
  },
  {
   "cell_type": "code",
   "execution_count": 10,
   "id": "c4ab3b57",
   "metadata": {},
   "outputs": [
    {
     "name": "stdout",
     "output_type": "stream",
     "text": [
      "{False, 'Hari', 3.14159, 'Shyam', 42, 'Ram'}\n",
      "<class 'set'>\n"
     ]
    }
   ],
   "source": [
    "#A set can contain different data types:\n",
    "sets={3.14159, 42, False, 'Hari', 'Ram', 'Shyam'}\n",
    "print(sets)\n",
    "print(type(sets))\n"
   ]
  },
  {
   "cell_type": "code",
   "execution_count": 12,
   "id": "e08d2688",
   "metadata": {},
   "outputs": [
    {
     "name": "stdout",
     "output_type": "stream",
     "text": [
      "<class 'set'>\n",
      "<class 'set'>\n",
      "<class 'set'>\n",
      "<class 'set'>\n"
     ]
    }
   ],
   "source": [
    "#Data types\n",
    "\n",
    "set1={1,2,3,4,5}\n",
    "set2={1.1,1.2,1.3,1.4,1.5}\n",
    "set3={\"Ram\",\"Shyam\",\"Hari\"}\n",
    "set4={True,False,True,False}\n",
    "print(type(set1))\n",
    "print(type(set2))\n",
    "print(type(set3))\n",
    "print(type(set4))\n",
    "\n",
    "#Note::: A Set own  is a data type."
   ]
  },
  {
   "cell_type": "code",
   "execution_count": 14,
   "id": "03258726",
   "metadata": {},
   "outputs": [
    {
     "name": "stdout",
     "output_type": "stream",
     "text": [
      "('Ram', 'Shyam', 'Hari')\n",
      "<class 'tuple'>\n"
     ]
    }
   ],
   "source": [
    "\"\"\"\n",
    "The set() Constructor\n",
    "It is also possible to use the set() constructor to make a set.\n",
    "\"\"\"\n",
    "set3=((\"Ram\",\"Shyam\",\"Hari\"))\n",
    "print(set3)\n",
    "print(type(set3))"
   ]
  },
  {
   "cell_type": "markdown",
   "id": "3f1c372e",
   "metadata": {},
   "source": [
    "# Python - Access Set Items"
   ]
  },
  {
   "cell_type": "code",
   "execution_count": 2,
   "id": "b836cb1e",
   "metadata": {},
   "outputs": [
    {
     "name": "stdout",
     "output_type": "stream",
     "text": [
      "Shyam\n",
      "Ram\n",
      "Hari\n",
      "\n",
      "----------------------------\n",
      "False\n",
      "True\n"
     ]
    }
   ],
   "source": [
    "\"\"\"\n",
    "Access Items:::\n",
    "            \n",
    "We cannot access items in a set by referring to an index or a key.\n",
    "\n",
    "But we can loop through the set items using a for loop, or ask if a specified value is present in a \n",
    "set, by using the in keyword.\n",
    "\n",
    "\"\"\"\n",
    "set3={\"Ram\",\"Shyam\",\"Hari\"}\n",
    "for i in set3:\n",
    "    print(i)\n",
    "    \n",
    "set3={\"Ram\",\"Shyam\",\"Hari\"}\n",
    "\n",
    "\n",
    "print(\"\\n----------------------------\")\n",
    "print(\"Sita\" in set3)\n",
    "print(\"Ram\" in set3)"
   ]
  },
  {
   "cell_type": "markdown",
   "id": "fea7ad44",
   "metadata": {},
   "source": [
    "# Python - Add Set Items"
   ]
  },
  {
   "cell_type": "code",
   "execution_count": 22,
   "id": "8d58b671",
   "metadata": {},
   "outputs": [
    {
     "name": "stdout",
     "output_type": "stream",
     "text": [
      "{'banana', 'apple', 'Cherry', 'mango'}\n"
     ]
    }
   ],
   "source": [
    "# To add one item to a set use the add() method.\n",
    "\n",
    "\n",
    "fruits={\"apple\",\"banana\",\"Cherry\"}\n",
    "fruits.add(\"mango\")\n",
    "print(fruits)"
   ]
  },
  {
   "cell_type": "code",
   "execution_count": 23,
   "id": "5d2ccfb9",
   "metadata": {},
   "outputs": [
    {
     "name": "stdout",
     "output_type": "stream",
     "text": [
      "{'jackfruit', 'mango', 'apple', 'Cherry', 'banana', 'grapes'}\n"
     ]
    }
   ],
   "source": [
    "#Using update method\n",
    "\n",
    "fruits={\"apple\",\"banana\",\"Cherry\"}\n",
    "fruit={\"mango\",\"jackfruit\",\"grapes\"}\n",
    "fruits.update(fruit)\n",
    "print(fruits)"
   ]
  },
  {
   "cell_type": "markdown",
   "id": "0faf0955",
   "metadata": {},
   "source": [
    "# Python - Remove Set Items"
   ]
  },
  {
   "cell_type": "code",
   "execution_count": 28,
   "id": "7d161aaa",
   "metadata": {},
   "outputs": [
    {
     "name": "stdout",
     "output_type": "stream",
     "text": [
      "{'apple', 'Cherry', 'banana', 'grapes'}\n"
     ]
    }
   ],
   "source": [
    "fruits={'jackfruit', 'mango', 'apple', 'Cherry', 'banana', 'grapes'}\n",
    "fruits.remove(\"jackfruit\")\n",
    "fruits.discard(\"mango\")\n",
    "print(fruits)\n",
    "\n",
    "\n",
    "# Note::: To remove an item in a set, use the remove(),or the discard() method.\n",
    "\n",
    "           \n"
   ]
  },
  {
   "cell_type": "code",
   "execution_count": 29,
   "id": "ccf057ad",
   "metadata": {},
   "outputs": [
    {
     "name": "stdout",
     "output_type": "stream",
     "text": [
      "jackfruit\n",
      "{'mango', 'apple', 'Cherry', 'banana', 'grapes'}\n"
     ]
    }
   ],
   "source": [
    "#Using pop method  (Stack method)\n",
    "fruits={'jackfruit', 'mango', 'apple', 'Cherry', 'banana', 'grapes'}\n",
    "i=fruits.pop()\n",
    "print(i)\n",
    "print(fruits)"
   ]
  },
  {
   "cell_type": "code",
   "execution_count": 30,
   "id": "cbad8986",
   "metadata": {},
   "outputs": [
    {
     "name": "stdout",
     "output_type": "stream",
     "text": [
      "set()\n"
     ]
    }
   ],
   "source": [
    "#Using Clear method  (It empties the set.)\n",
    "fruits={'jackfruit', 'mango', 'apple', 'Cherry', 'banana', 'grapes'}\n",
    "fruits.clear()\n",
    "print(fruits)"
   ]
  },
  {
   "cell_type": "code",
   "execution_count": 1,
   "id": "25a8152a",
   "metadata": {},
   "outputs": [],
   "source": [
    "# #Using del keyword   (The del keyword will delete the set completely.)\n",
    "# fruits={'jackfruit', 'mango', 'apple', 'Cherry', 'banana', 'grapes'}\n",
    "# del fruits\n",
    "# print(fruits)\n"
   ]
  },
  {
   "cell_type": "code",
   "execution_count": 36,
   "id": "5c424b47",
   "metadata": {},
   "outputs": [
    {
     "data": {
      "text/plain": [
       "{1, 2, 3, 4, 5, 6, 7, 8, 9, 10}"
      ]
     },
     "execution_count": 36,
     "metadata": {},
     "output_type": "execute_result"
    }
   ],
   "source": [
    "#Set methods\n",
    "\n",
    "#\tReturn a set containing the union of sets\n",
    "#Union\n",
    "set1={1,3,5,7,9}\n",
    "set2={2,4,6,8,10}\n",
    "set1.union(set2)\n"
   ]
  },
  {
   "cell_type": "code",
   "execution_count": 35,
   "id": "c10cd2dd",
   "metadata": {},
   "outputs": [
    {
     "data": {
      "text/plain": [
       "{6, 9}"
      ]
     },
     "execution_count": 35,
     "metadata": {},
     "output_type": "execute_result"
    }
   ],
   "source": [
    "\n",
    "#Returns a set, that is the intersection of two or more sets\n",
    "#Intersection\n",
    "set3={1,3,5,6,9}\n",
    "set4={2,4,6,8,9,10}\n",
    "set3.intersection(set4)\n"
   ]
  },
  {
   "cell_type": "code",
   "execution_count": 38,
   "id": "74e4e15a",
   "metadata": {},
   "outputs": [
    {
     "data": {
      "text/plain": [
       "{1, 3, 5}"
      ]
     },
     "execution_count": 38,
     "metadata": {},
     "output_type": "execute_result"
    }
   ],
   "source": [
    "#difference\n",
    "#\tReturns a set containing the difference between two or more sets\n",
    "\n",
    "set3={1,3,5,6,9}\n",
    "set4={2,4,6,8,9,10}\n",
    "set3.difference(set4)"
   ]
  },
  {
   "cell_type": "code",
   "execution_count": null,
   "id": "259d46db",
   "metadata": {},
   "outputs": [],
   "source": []
  },
  {
   "cell_type": "code",
   "execution_count": null,
   "id": "f7c171f2",
   "metadata": {},
   "outputs": [],
   "source": []
  }
 ],
 "metadata": {
  "kernelspec": {
   "display_name": "Python 3 (ipykernel)",
   "language": "python",
   "name": "python3"
  },
  "language_info": {
   "codemirror_mode": {
    "name": "ipython",
    "version": 3
   },
   "file_extension": ".py",
   "mimetype": "text/x-python",
   "name": "python",
   "nbconvert_exporter": "python",
   "pygments_lexer": "ipython3",
   "version": "3.9.12"
  }
 },
 "nbformat": 4,
 "nbformat_minor": 5
}
