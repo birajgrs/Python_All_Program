{
 "cells": [
  {
   "cell_type": "code",
   "execution_count": 2,
   "id": "b1b949f5",
   "metadata": {},
   "outputs": [
    {
     "name": "stdout",
     "output_type": "stream",
     "text": [
      "<class 'tuple'>\n"
     ]
    }
   ],
   "source": [
    "# Tuple\n",
    "# Tuples are used to store multiple items in a single variable.\n",
    "#use () braces for tuple\n",
    "#A tuple is a collection which is ordered and unchangeable.\n",
    "tupl=(\"apple\",\"banana\",\"cherry\")\n",
    "print(type(tupl))"
   ]
  },
  {
   "cell_type": "code",
   "execution_count": 3,
   "id": "7ab3b504",
   "metadata": {},
   "outputs": [
    {
     "name": "stdout",
     "output_type": "stream",
     "text": [
      "('Ram', 'Shyam', 'Hari', 'Sita', 'Hari', 'Gita', 'Ram', 'Sarita')\n"
     ]
    }
   ],
   "source": [
    "\"\"\"\n",
    "---> Ordered\n",
    "\n",
    "When we say that tuples are ordered, \n",
    "it means that the items have a defined order, \n",
    "and that order will not change.\n",
    "\n",
    "---> Unchangeable\n",
    "\n",
    "Tuples are unchangeable, meaning that we cannot change,\n",
    "add or remove items after the tuple has been created.\n",
    "\n",
    "---> Allow Duplicates\n",
    "\n",
    "Since tuples are indexed, they can have items \n",
    "with the same value.\n",
    "\"\"\"\n",
    "\n",
    "#Allow Duplication\n",
    "tupl=(\"Ram\",\"Shyam\",\"Hari\",\"Sita\",\"Hari\",\"Gita\",\"Ram\",\"Sarita\")\n",
    "print(tupl)\n",
    "\n"
   ]
  },
  {
   "cell_type": "code",
   "execution_count": 4,
   "id": "3d02d43e",
   "metadata": {},
   "outputs": [
    {
     "name": "stdout",
     "output_type": "stream",
     "text": [
      "('Ram', 'Shyam', 'Hari', 'Sita', 'Hari', 'Gita', 'Ram', 'Sarita')\n",
      "8\n"
     ]
    }
   ],
   "source": [
    "#Length of tuple\n",
    "tupl=(\"Ram\",\"Shyam\",\"Hari\",\"Sita\",\"Hari\",\"Gita\",\"Ram\",\"Sarita\")\n",
    "print(tupl)\n",
    "print(len(tupl))"
   ]
  },
  {
   "cell_type": "code",
   "execution_count": 5,
   "id": "91ca679c",
   "metadata": {},
   "outputs": [
    {
     "name": "stdout",
     "output_type": "stream",
     "text": [
      "<class 'tuple'>\n",
      "<class 'str'>\n"
     ]
    }
   ],
   "source": [
    "# Create Tuple With One Item\n",
    "thistuple = (\"apple\",)\n",
    "print(type(thistuple))\n",
    "\n",
    "#NOT a tuple\n",
    "thistuple = (\"apple\")\n",
    "print(type(thistuple))\n"
   ]
  },
  {
   "cell_type": "code",
   "execution_count": 6,
   "id": "05fe2e74",
   "metadata": {},
   "outputs": [
    {
     "name": "stdout",
     "output_type": "stream",
     "text": [
      "('apple', 'banana', 'cherry')\n",
      "(1, 5, 7, 9, 3)\n",
      "(True, False, False)\n"
     ]
    }
   ],
   "source": [
    "#Tuple items-Data Types\n",
    "tuple1 = (\"apple\", \"banana\", \"cherry\")\n",
    "tuple2 = (1, 5, 7, 9, 3)\n",
    "tuple3 = (True, False, False)\n",
    "print(tuple1)\n",
    "print(tuple2)\n",
    "print(tuple3)"
   ]
  },
  {
   "cell_type": "markdown",
   "id": "0a729dc5",
   "metadata": {},
   "source": [
    "# Access Tuple Items"
   ]
  },
  {
   "cell_type": "code",
   "execution_count": 7,
   "id": "cda8e616",
   "metadata": {},
   "outputs": [
    {
     "name": "stdout",
     "output_type": "stream",
     "text": [
      "Ball\n"
     ]
    }
   ],
   "source": [
    "tuples=(\"Apple\",\"Ball\",\"Cat\",\"Dog\",\"Egg\")\n",
    "print(tuples[1])\n",
    "#  The first item has index 0."
   ]
  },
  {
   "cell_type": "code",
   "execution_count": 8,
   "id": "a29c37e8",
   "metadata": {},
   "outputs": [
    {
     "name": "stdout",
     "output_type": "stream",
     "text": [
      "Egg\n"
     ]
    }
   ],
   "source": [
    "#Negative indexing\n",
    "tuples=(\"Apple\",\"Ball\",\"Cat\",\"Dog\",\"Egg\")\n",
    "print(tuples[-1])"
   ]
  },
  {
   "cell_type": "code",
   "execution_count": 14,
   "id": "10724e21",
   "metadata": {},
   "outputs": [
    {
     "name": "stdout",
     "output_type": "stream",
     "text": [
      "('Cat', 'Dog', 'Egg')\n",
      "('Apple', 'Ball', 'Cat', 'Dog')\n",
      "('Dog', 'Egg', 'Flag', 'Goat')\n",
      "('Cat', 'Dog', 'Egg')\n"
     ]
    }
   ],
   "source": [
    "# Range of indexes\n",
    "tuples=(\"Apple\",\"Ball\",\"Cat\",\"Dog\",\"Egg\",\"Flag\",\"Goat\")\n",
    "print(tuples[2:5])\n",
    "print(tuples[:4])\n",
    "print(tuples[3:])\n",
    "print(tuples[-5:-2])"
   ]
  },
  {
   "cell_type": "code",
   "execution_count": 16,
   "id": "e18275c9",
   "metadata": {},
   "outputs": [
    {
     "name": "stdout",
     "output_type": "stream",
     "text": [
      "Yes, 'apple' is in the fruits tuple\n"
     ]
    }
   ],
   "source": [
    "# Chick if item exists\n",
    "tuples=(\"Apple\",\"Ball\",\"Cat\",\"Dog\",\"Egg\",\"Flag\",\"Goat\")\n",
    "if \"Apple\" in tuples:\n",
    "    print(\"Yes, 'apple' is in the fruits tuple\")"
   ]
  },
  {
   "cell_type": "markdown",
   "id": "dc4059c2",
   "metadata": {},
   "source": [
    "# Update Tuples"
   ]
  },
  {
   "cell_type": "code",
   "execution_count": 17,
   "id": "f0641771",
   "metadata": {},
   "outputs": [
    {
     "name": "stdout",
     "output_type": "stream",
     "text": [
      "('apple', 'kiwi', 'cherry')\n"
     ]
    }
   ],
   "source": [
    "# Once a tuple is created, you cannot change its values. Tuples are unchangeable, or immutable as it also is called.\n",
    "\n",
    "# But there is a workaround. You can convert the tuple into a list, change the list, and convert the list back into a tuple.\n",
    "x = (\"apple\", \"banana\", \"cherry\")\n",
    "y = list(x)\n",
    "y[1] = \"kiwi\"\n",
    "x = tuple(y)\n",
    "\n",
    "print(x)\n"
   ]
  },
  {
   "cell_type": "code",
   "execution_count": 21,
   "id": "f44b383b",
   "metadata": {},
   "outputs": [
    {
     "name": "stdout",
     "output_type": "stream",
     "text": [
      "('Ram', 'Shyam', 'Hari', 'Sita', 'Gita')\n",
      "('Ram', 'Shyam', 'Hari', 'Sita', 'Sarita')\n"
     ]
    }
   ],
   "source": [
    "#add items\n",
    "# Convert into a list\n",
    "tuples=(\"Ram\",\"Shyam\",\"Hari\",\"Sita\")\n",
    "y=list(tuples)\n",
    "y.append(\"Gita\")\n",
    "tuples=tuple(y)\n",
    "print(tuples)\n",
    "\n",
    "#  Add tuple to tuple\n",
    "tuples=(\"Ram\",\"Shyam\",\"Hari\",\"Sita\")\n",
    "z=(\"Sarita\",)\n",
    "tuples +=z\n",
    "print(tuples)"
   ]
  },
  {
   "cell_type": "code",
   "execution_count": 23,
   "id": "5e018a66",
   "metadata": {},
   "outputs": [
    {
     "name": "stdout",
     "output_type": "stream",
     "text": [
      "('Ram', 'Shyam', 'Sita', 'Sarita')\n"
     ]
    }
   ],
   "source": [
    "#Remove items\n",
    "tuples=('Ram', 'Shyam', 'Hari', 'Sita', 'Sarita')\n",
    "x=list(tuples)\n",
    "x.remove(\"Hari\")\n",
    "tuples=tuple(x)\n",
    "print(tuples)"
   ]
  },
  {
   "cell_type": "code",
   "execution_count": null,
   "id": "60eea279",
   "metadata": {},
   "outputs": [],
   "source": [
    "#using \n",
    "thistuple = (\"apple\", \"banana\", \"cherry\")\n",
    "del thistuple\n",
    "print(thistuple)"
   ]
  },
  {
   "cell_type": "code",
   "execution_count": 1,
   "id": "826413bf",
   "metadata": {},
   "outputs": [
    {
     "name": "stdout",
     "output_type": "stream",
     "text": [
      "Brahma\n",
      "Brishnu\n",
      "Maheshwor\n"
     ]
    }
   ],
   "source": [
    "#Loop in tuple\n",
    "tuples=(\"Brahma\",\"Brishnu\",\"Maheshwor\")\n",
    "for i in tuples:\n",
    "    print(i)"
   ]
  },
  {
   "cell_type": "code",
   "execution_count": 2,
   "id": "e870ec99",
   "metadata": {},
   "outputs": [
    {
     "name": "stdout",
     "output_type": "stream",
     "text": [
      "0\n",
      "1\n",
      "2\n"
     ]
    }
   ],
   "source": [
    "#Loop through the index numbers\n",
    "tuples=(\"Brahma\",\"Brishnu\",\"Maheshwor\")\n",
    "for i in range(len(tuples)):\n",
    "    print(i)"
   ]
  },
  {
   "cell_type": "code",
   "execution_count": 7,
   "id": "9c2edb03",
   "metadata": {},
   "outputs": [
    {
     "name": "stdout",
     "output_type": "stream",
     "text": [
      "Brahma\n",
      "Brishnu\n",
      "Maheshwor\n"
     ]
    }
   ],
   "source": [
    "#Use while loop\n",
    "tuples=(\"Brahma\",\"Brishnu\",\"Maheshwor\")\n",
    "i=0\n",
    "while i<len(tuples):\n",
    "    print(tuples[i])\n",
    "    i=i+1\n",
    "\n"
   ]
  },
  {
   "cell_type": "markdown",
   "id": "66d2312a",
   "metadata": {},
   "source": [
    "# Join Two Tuples"
   ]
  },
  {
   "cell_type": "code",
   "execution_count": 8,
   "id": "f9c8e745",
   "metadata": {},
   "outputs": [
    {
     "name": "stdout",
     "output_type": "stream",
     "text": [
      "('apple', 'Ball', 'Cat', 'Dog', 'Egg', 'Fruit')\n"
     ]
    }
   ],
   "source": [
    "tuple1=(\"apple\",\"Ball\",\"Cat\")\n",
    "tuple2=(\"Dog\",\"Egg\",\"Fruit\")\n",
    "tuple3=tuple1+tuple2\n",
    "print(tuple3)"
   ]
  },
  {
   "cell_type": "code",
   "execution_count": 9,
   "id": "6f4145f3",
   "metadata": {},
   "outputs": [
    {
     "name": "stdout",
     "output_type": "stream",
     "text": [
      "('apple', 'Ball', 'Cat', 'apple', 'Ball', 'Cat')\n"
     ]
    }
   ],
   "source": [
    "#multiply tuples\n",
    "tuple1=(\"apple\",\"Ball\",\"Cat\")\n",
    "tuples=tuple1*2\n",
    "print(tuples)"
   ]
  },
  {
   "cell_type": "markdown",
   "id": "4b4d594f",
   "metadata": {},
   "source": [
    "# Methods in tuples"
   ]
  },
  {
   "cell_type": "code",
   "execution_count": 10,
   "id": "7cddaa58",
   "metadata": {},
   "outputs": [
    {
     "name": "stdout",
     "output_type": "stream",
     "text": [
      "2\n"
     ]
    }
   ],
   "source": [
    "#Count\n",
    "\"\"\"\n",
    "The count() method returns the number of times a specified value \n",
    "appears in the tuple.\n",
    "Syntax::::\n",
    "tuple.count(value)\n",
    "\"\"\"\n",
    "thistuple = (1, 3, 7, 8, 7, 5, 4, 6, 8, 5)\n",
    "\n",
    "x = thistuple.count(5)\n",
    "\n",
    "print(x)"
   ]
  },
  {
   "cell_type": "code",
   "execution_count": 12,
   "id": "45cd70c7",
   "metadata": {},
   "outputs": [
    {
     "name": "stdout",
     "output_type": "stream",
     "text": [
      "3\n"
     ]
    }
   ],
   "source": [
    "#Indexes\n",
    "\"\"\"\n",
    "The index() method finds the first occurrence of the specified value.\n",
    "The index() method raises an exception if the value is not found.\n",
    "Syntax:::\n",
    "tuple.index(value)\n",
    "\"\"\"\n",
    "\n",
    "thistuple = (1, 3, 7, 8, 7, 5, 4, 6, 8, 5)\n",
    "\n",
    "x = thistuple.index(8)\n",
    "\n",
    "print(x)"
   ]
  },
  {
   "cell_type": "code",
   "execution_count": null,
   "id": "a79f2bd5",
   "metadata": {},
   "outputs": [],
   "source": []
  }
 ],
 "metadata": {
  "kernelspec": {
   "display_name": "Python 3 (ipykernel)",
   "language": "python",
   "name": "python3"
  },
  "language_info": {
   "codemirror_mode": {
    "name": "ipython",
    "version": 3
   },
   "file_extension": ".py",
   "mimetype": "text/x-python",
   "name": "python",
   "nbconvert_exporter": "python",
   "pygments_lexer": "ipython3",
   "version": "3.9.12"
  }
 },
 "nbformat": 4,
 "nbformat_minor": 5
}
