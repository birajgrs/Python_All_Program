{
 "cells": [
  {
   "cell_type": "markdown",
   "id": "3d39edd9",
   "metadata": {},
   "source": [
    "# Python Introduction"
   ]
  },
  {
   "cell_type": "code",
   "execution_count": 1,
   "id": "34e8c8cf",
   "metadata": {},
   "outputs": [
    {
     "name": "stdout",
     "output_type": "stream",
     "text": [
      "Hello World\n"
     ]
    }
   ],
   "source": [
    "print(\"Hello World\")"
   ]
  },
  {
   "cell_type": "code",
   "execution_count": 4,
   "id": "ad22359e",
   "metadata": {},
   "outputs": [
    {
     "name": "stdout",
     "output_type": "stream",
     "text": [
      "This is my first program in python.\n"
     ]
    }
   ],
   "source": [
    "print(\"This is my first program in python.\")"
   ]
  },
  {
   "cell_type": "code",
   "execution_count": 12,
   "id": "b191c6a5",
   "metadata": {},
   "outputs": [
    {
     "name": "stdout",
     "output_type": "stream",
     "text": [
      "30\n"
     ]
    }
   ],
   "source": [
    "print(10+20)"
   ]
  },
  {
   "cell_type": "markdown",
   "id": "d8cd38a9",
   "metadata": {},
   "source": [
    "# Variables in Python"
   ]
  },
  {
   "cell_type": "code",
   "execution_count": 6,
   "id": "b77bdb7e",
   "metadata": {},
   "outputs": [
    {
     "name": "stdout",
     "output_type": "stream",
     "text": [
      "9\n"
     ]
    }
   ],
   "source": [
    "a=5\n",
    "b=4\n",
    "print(a+b)"
   ]
  },
  {
   "cell_type": "code",
   "execution_count": null,
   "id": "910bf86e",
   "metadata": {},
   "outputs": [],
   "source": [
    "\"\"\"\n",
    "This is multiline comment\n",
    "in python.\n",
    "\"\"\"\n",
    "#this is singleline comment in python.\n"
   ]
  },
  {
   "cell_type": "code",
   "execution_count": 13,
   "id": "d84e5a72",
   "metadata": {},
   "outputs": [
    {
     "name": "stdout",
     "output_type": "stream",
     "text": [
      "Biraj\n"
     ]
    }
   ],
   "source": [
    "b=\"Biraj\"\n",
    "print(b)"
   ]
  },
  {
   "cell_type": "code",
   "execution_count": 15,
   "id": "6d3f2b55",
   "metadata": {},
   "outputs": [
    {
     "name": "stdout",
     "output_type": "stream",
     "text": [
      "This is variable Demo.\n"
     ]
    }
   ],
   "source": [
    "#Camel Case\n",
    "myVariableDemo=\"This is variable Demo.\"\n",
    "print(myVariableDemo)"
   ]
  },
  {
   "cell_type": "code",
   "execution_count": 18,
   "id": "5a84a9bc",
   "metadata": {},
   "outputs": [
    {
     "name": "stdout",
     "output_type": "stream",
     "text": [
      "This is variable Demo.\n"
     ]
    }
   ],
   "source": [
    "#snake Case\n",
    "my_Variable_Demo=\"This is variable Demo.\"\n",
    "print(my_Variable_Demo)"
   ]
  },
  {
   "cell_type": "code",
   "execution_count": 20,
   "id": "ac1dddb8",
   "metadata": {},
   "outputs": [
    {
     "name": "stdout",
     "output_type": "stream",
     "text": [
      "This is variable Demo.\n"
     ]
    }
   ],
   "source": [
    "#pascal Case\n",
    "MyVariableDemo=\"This is variable Demo.\"\n",
    "print(MyVariableDemo)"
   ]
  },
  {
   "cell_type": "code",
   "execution_count": 25,
   "id": "044cec1e",
   "metadata": {},
   "outputs": [],
   "source": [
    "# str x=10\n",
    "# y=\"hello\"\n",
    "# print(x+y)"
   ]
  },
  {
   "cell_type": "code",
   "execution_count": 29,
   "id": "5ca72ad3",
   "metadata": {},
   "outputs": [
    {
     "name": "stdout",
     "output_type": "stream",
     "text": [
      "10\n",
      "hello\n"
     ]
    }
   ],
   "source": [
    "x=10\n",
    "y=\"hello\"\n",
    "print(x)\n",
    "print(y)"
   ]
  },
  {
   "cell_type": "code",
   "execution_count": 36,
   "id": "56a48fce",
   "metadata": {},
   "outputs": [
    {
     "name": "stdout",
     "output_type": "stream",
     "text": [
      "10hello\n"
     ]
    }
   ],
   "source": [
    "x=str(10)\n",
    "y=\"hello\"\n",
    "\n",
    "print(x+y)"
   ]
  },
  {
   "cell_type": "code",
   "execution_count": 38,
   "id": "51e93fa3",
   "metadata": {},
   "outputs": [
    {
     "name": "stdout",
     "output_type": "stream",
     "text": [
      "<class 'int'>\n",
      "<class 'str'>\n",
      "<class 'float'>\n",
      "<class 'bool'>\n"
     ]
    }
   ],
   "source": [
    "#Get the type\n",
    "a=5\n",
    "b=\"Hello World\"\n",
    "c=5.5\n",
    "d=True\n",
    "print(type(a))\n",
    "print(type(b))\n",
    "print(type(c))\n",
    "print(type(d))\n"
   ]
  },
  {
   "cell_type": "code",
   "execution_count": 40,
   "id": "a0e3b8f8",
   "metadata": {},
   "outputs": [
    {
     "name": "stdout",
     "output_type": "stream",
     "text": [
      "I\n",
      "am\n",
      "Python\n",
      "Programmer.\n"
     ]
    }
   ],
   "source": [
    "#Assigning multiple variables\n",
    "a,b,c,d=\"I\",\"am\",\"Python\",\"Programmer.\"\n",
    "print(a)\n",
    "print(b)\n",
    "print(c)\n",
    "print(d)"
   ]
  },
  {
   "cell_type": "code",
   "execution_count": 41,
   "id": "0f1f2db8",
   "metadata": {},
   "outputs": [
    {
     "name": "stdout",
     "output_type": "stream",
     "text": [
      "Biraj Ghorasaine\n",
      "Biraj Ghorasaine\n",
      "Biraj Ghorasaine\n"
     ]
    }
   ],
   "source": [
    "a=b=c=\"Biraj Ghorasaine\"\n",
    "print(a)\n",
    "print(b)\n",
    "print(c)"
   ]
  },
  {
   "cell_type": "code",
   "execution_count": 42,
   "id": "6c27fd2b",
   "metadata": {},
   "outputs": [
    {
     "name": "stdout",
     "output_type": "stream",
     "text": [
      "Python is awesome\n"
     ]
    }
   ],
   "source": [
    "x = \"Python \"\n",
    "y = \"is \"\n",
    "z = \"awesome\"\n",
    "print(x + y + z)"
   ]
  },
  {
   "cell_type": "code",
   "execution_count": 57,
   "id": "92aa11a9",
   "metadata": {},
   "outputs": [
    {
     "name": "stdout",
     "output_type": "stream",
     "text": [
      "12\n",
      "2\n",
      "35\n",
      "1.4\n"
     ]
    }
   ],
   "source": [
    "a=7\n",
    "b=5\n",
    "c=float(a/b)\n",
    "\n",
    "\n",
    "print(a+b)\n",
    "print(a-b)\n",
    "print(a*b)\n",
    "print(c)\n",
    "\n"
   ]
  },
  {
   "cell_type": "markdown",
   "id": "366222e4",
   "metadata": {},
   "source": [
    "# #Global Variables"
   ]
  },
  {
   "cell_type": "code",
   "execution_count": null,
   "id": "94e88370",
   "metadata": {},
   "outputs": [],
   "source": [
    "\"\"\"\n",
    "Variables that are created outside of a function (as in all of the examples above) are known as global variables.\n",
    "\n",
    "Global variables can be used by everyone, both inside of functions and outside.\n",
    "\"\"\""
   ]
  },
  {
   "cell_type": "code",
   "execution_count": 60,
   "id": "3eacc67c",
   "metadata": {},
   "outputs": [
    {
     "name": "stdout",
     "output_type": "stream",
     "text": [
      "I am python Programmer.\n"
     ]
    }
   ],
   "source": [
    "a=\"Programmer.\"\n",
    "def myfunc():\n",
    "    print(\"I am python \" +a)\n",
    "myfunc()"
   ]
  },
  {
   "cell_type": "code",
   "execution_count": 62,
   "id": "65749894",
   "metadata": {},
   "outputs": [
    {
     "name": "stdout",
     "output_type": "stream",
     "text": [
      "I am python student\n",
      "I am python Programmer.\n"
     ]
    }
   ],
   "source": [
    "# Create a variable inside a function\n",
    "a=\"Programmer.\"\n",
    "def myfunc():\n",
    "    a=\"student\"\n",
    "    print(\"I am python \" +a)\n",
    "    \n",
    "myfunc()\n",
    "\n",
    "print(\"I am python \" +a)"
   ]
  },
  {
   "cell_type": "code",
   "execution_count": null,
   "id": "358e5fea",
   "metadata": {},
   "outputs": [],
   "source": []
  },
  {
   "cell_type": "code",
   "execution_count": null,
   "id": "d69e6e4b",
   "metadata": {},
   "outputs": [],
   "source": []
  },
  {
   "cell_type": "code",
   "execution_count": null,
   "id": "3663c89c",
   "metadata": {},
   "outputs": [],
   "source": []
  },
  {
   "cell_type": "code",
   "execution_count": null,
   "id": "09f77b7a",
   "metadata": {},
   "outputs": [],
   "source": []
  },
  {
   "cell_type": "code",
   "execution_count": null,
   "id": "1ffcbac2",
   "metadata": {},
   "outputs": [],
   "source": []
  },
  {
   "cell_type": "code",
   "execution_count": null,
   "id": "c6550777",
   "metadata": {},
   "outputs": [],
   "source": []
  }
 ],
 "metadata": {
  "kernelspec": {
   "display_name": "Python 3 (ipykernel)",
   "language": "python",
   "name": "python3"
  },
  "language_info": {
   "codemirror_mode": {
    "name": "ipython",
    "version": 3
   },
   "file_extension": ".py",
   "mimetype": "text/x-python",
   "name": "python",
   "nbconvert_exporter": "python",
   "pygments_lexer": "ipython3",
   "version": "3.9.12"
  }
 },
 "nbformat": 4,
 "nbformat_minor": 5
}
