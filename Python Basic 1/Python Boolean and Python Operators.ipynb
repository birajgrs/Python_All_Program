{
 "cells": [
  {
   "cell_type": "markdown",
   "id": "1f3b4e13",
   "metadata": {},
   "source": [
    "# Python Boolean"
   ]
  },
  {
   "cell_type": "code",
   "execution_count": 4,
   "id": "950444a3",
   "metadata": {},
   "outputs": [
    {
     "name": "stdout",
     "output_type": "stream",
     "text": [
      "True\n",
      "1\n",
      "0\n"
     ]
    }
   ],
   "source": [
    "#Boolean in Python --->True/False\n",
    "\n",
    "print(True)\n",
    "\n",
    "print(int(True))\n",
    "print(int(False))\n"
   ]
  },
  {
   "cell_type": "code",
   "execution_count": 15,
   "id": "f64f0145",
   "metadata": {},
   "outputs": [
    {
     "name": "stdout",
     "output_type": "stream",
     "text": [
      "True\n",
      "False\n",
      "True\n",
      "False\n",
      "True\n",
      "False\n"
     ]
    }
   ],
   "source": [
    "a=\"Hello World\"\n",
    "print(bool(a))\n",
    "\n",
    "b=\"\"\n",
    "print(bool(b))\n",
    "b=\" \"\n",
    "print(bool(b))\n",
    "\n",
    "b=0\n",
    "print(bool(b))\n",
    "\n",
    "b=\"0\"\n",
    "print(bool(b))\n",
    "\n",
    "print(bool([]))\n"
   ]
  },
  {
   "cell_type": "code",
   "execution_count": 16,
   "id": "87f65ef3",
   "metadata": {},
   "outputs": [
    {
     "name": "stdout",
     "output_type": "stream",
     "text": [
      "2\n",
      "0\n",
      "False\n",
      "True\n"
     ]
    }
   ],
   "source": [
    "#Operation on Boolean\n",
    "# print(True+False)   #1+0\n",
    "print(True+True)    #1+1\n",
    "print(True*False)   #1*1\n",
    "print(True<False)\n",
    "print(True!=False)\n"
   ]
  },
  {
   "cell_type": "code",
   "execution_count": 17,
   "id": "73cd67c4",
   "metadata": {},
   "outputs": [
    {
     "name": "stdout",
     "output_type": "stream",
     "text": [
      "<class 'bool'>\n",
      "True\n",
      "\n",
      "False\n",
      "False\n"
     ]
    }
   ],
   "source": [
    "print(type(10>9))\n",
    "print(10>9)\n",
    "print()\n",
    "print(10 == 9)\n",
    "print(10 < 9)"
   ]
  },
  {
   "cell_type": "code",
   "execution_count": 18,
   "id": "76e447cf",
   "metadata": {},
   "outputs": [
    {
     "name": "stdout",
     "output_type": "stream",
     "text": [
      "b is greater than a\n"
     ]
    }
   ],
   "source": [
    "a=6\n",
    "b=7\n",
    "if b>a:\n",
    "    print(\"b is greater than a\")\n",
    "else:\n",
    "    print(\"b is not greater than a\")"
   ]
  },
  {
   "cell_type": "markdown",
   "id": "86a019ac",
   "metadata": {},
   "source": [
    "# Operators in Python"
   ]
  },
  {
   "cell_type": "code",
   "execution_count": 19,
   "id": "36a57fc7",
   "metadata": {},
   "outputs": [
    {
     "data": {
      "text/plain": [
       "'The operator is a symbol that performs a certain operation between two operands, according to one definition.\\nIn a particular programming language, operators serve as the foundation upon which logic is constructed in a programme.\\nThe different operators that Python offers are listed here.\\n\\n--->Arithmetic operators\\n--->Comparison operators\\n--->Assignment Operators\\n--->Logical Operators\\n--->Bitwise Operators\\n--->Membership Operators\\n--->Identity Operators\\n'"
      ]
     },
     "execution_count": 19,
     "metadata": {},
     "output_type": "execute_result"
    }
   ],
   "source": [
    "\"\"\"The operator is a symbol that performs a certain operation between two operands, according to one definition.\n",
    "In a particular programming language, operators serve as the foundation upon which logic is constructed in a programme.\n",
    "The different operators that Python offers are listed here.\n",
    "\n",
    "--->Arithmetic operators\n",
    "--->Comparison operators\n",
    "--->Assignment Operators\n",
    "--->Logical Operators\n",
    "--->Bitwise Operators\n",
    "--->Membership Operators\n",
    "--->Identity Operators\n",
    "\"\"\""
   ]
  },
  {
   "cell_type": "markdown",
   "id": "49a29808",
   "metadata": {},
   "source": [
    "# Artihmatic Operators"
   ]
  },
  {
   "cell_type": "code",
   "execution_count": 20,
   "id": "e0b3d85f",
   "metadata": {},
   "outputs": [
    {
     "name": "stdout",
     "output_type": "stream",
     "text": [
      "30\n",
      "20\n",
      "125\n",
      "5.0\n",
      "0\n",
      "12\n",
      "9765625\n",
      "5\n",
      "3\n"
     ]
    }
   ],
   "source": [
    "a=25\n",
    "b=5\n",
    "print(a+b)   #Addition +\n",
    "print(a-b)   #Subtraction  -\n",
    "print(a*b)   #multiplication *\n",
    "print(a/b)   #division /\n",
    "print(a%b)   #modulus %\n",
    "print(77%13)\n",
    "print(a**b)   #Exponentiation   //\n",
    "print(a//b)  #Floor division\n",
    "print(11//3)"
   ]
  },
  {
   "cell_type": "markdown",
   "id": "f6ca4c7b",
   "metadata": {},
   "source": [
    "# Comparison Operators"
   ]
  },
  {
   "cell_type": "code",
   "execution_count": 21,
   "id": "c7951e18",
   "metadata": {},
   "outputs": [
    {
     "name": "stdout",
     "output_type": "stream",
     "text": [
      "False\n",
      "a is equal to b\n",
      "a is not equal to b\n"
     ]
    }
   ],
   "source": [
    "#Equal to ==\n",
    "\n",
    "x=5\n",
    "y=7\n",
    "print(x==y)\n",
    "\n",
    "a=7\n",
    "b=7\n",
    "if a==b:\n",
    "    print(\"a is equal to b\")\n",
    "else:\n",
    "    print(\"a is not equal to b\")\n",
    "\n",
    "\n",
    "a=7\n",
    "b=7.5\n",
    "if a==b:\n",
    "    print(\"a is equal to b\")\n",
    "else:\n",
    "    print(\"a is not equal to b\")"
   ]
  },
  {
   "cell_type": "code",
   "execution_count": 22,
   "id": "82ae328b",
   "metadata": {},
   "outputs": [
    {
     "name": "stdout",
     "output_type": "stream",
     "text": [
      "True\n",
      "a is equal to b\n",
      "a is not equal to b\n"
     ]
    }
   ],
   "source": [
    "#Not equal to !=\n",
    "\n",
    "x=5\n",
    "y=7\n",
    "print(x!=y)\n",
    "\n",
    "a=7\n",
    "b=7\n",
    "if a!=b:\n",
    "    print(\"a is not equal to b\")\n",
    "else:\n",
    "    print(\"a is equal to b\")\n",
    "\n",
    "\n",
    "a=7\n",
    "b=7.5\n",
    "if a!=b:\n",
    "    print(\"a is not equal to b\")\n",
    "else:\n",
    "    print(\"a is equal to b\")"
   ]
  },
  {
   "cell_type": "code",
   "execution_count": 23,
   "id": "ab35b992",
   "metadata": {},
   "outputs": [
    {
     "name": "stdout",
     "output_type": "stream",
     "text": [
      "False\n",
      "a is greater than b\n",
      "a is not greater than b\n"
     ]
    }
   ],
   "source": [
    "#Greater than >\n",
    "\n",
    "x=5\n",
    "y=7\n",
    "print(x>y)\n",
    "\n",
    "a=8\n",
    "b=7\n",
    "if a>b:\n",
    "    print(\"a is greater than b\")\n",
    "else:\n",
    "    print(\"a is not greater than b\")\n",
    "\n",
    "\n",
    "a=7\n",
    "b=7.5\n",
    "\n",
    "if a>b:\n",
    "    print(\"a is greater than b\")\n",
    "else:\n",
    "    print(\"a is not greater than b\")\n",
    "\n",
    "\n"
   ]
  },
  {
   "cell_type": "code",
   "execution_count": 24,
   "id": "ebedbac3",
   "metadata": {},
   "outputs": [
    {
     "name": "stdout",
     "output_type": "stream",
     "text": [
      "True\n",
      "a is not less than b\n",
      "a is less than b\n"
     ]
    }
   ],
   "source": [
    "#less than <\n",
    "\n",
    "x=5\n",
    "y=7\n",
    "print(x<y)\n",
    "\n",
    "a=8\n",
    "b=7\n",
    "if a<b:\n",
    "    print(\"a is less than b\")\n",
    "else:\n",
    "    print(\"a is not less than b\")\n",
    "\n",
    "\n",
    "a=7\n",
    "b=7.5\n",
    "\n",
    "if a<b:\n",
    "    print(\"a is less than b\")\n",
    "else:\n",
    "    print(\"a is not less than b\")\n",
    "\n",
    "\n"
   ]
  },
  {
   "cell_type": "markdown",
   "id": "8fcb0407",
   "metadata": {},
   "source": [
    "# Assignment Operators"
   ]
  },
  {
   "cell_type": "code",
   "execution_count": 25,
   "id": "eb8481af",
   "metadata": {},
   "outputs": [
    {
     "name": "stdout",
     "output_type": "stream",
     "text": [
      "10\n",
      "20\n",
      "30\n",
      "30\n",
      "10\n",
      "100\n",
      "15\n",
      "3\n",
      "1\n",
      "3\n",
      "3\n"
     ]
    }
   ],
   "source": [
    "a=10\n",
    "b=20\n",
    "print(a)\n",
    "print(b)\n",
    "print(a+b)\n",
    "\n",
    "\n",
    "a+=20\n",
    "print(a)\n",
    "\n",
    "b-=10\n",
    "print(b)\n",
    "\n",
    "b*=10\n",
    "print(b)\n",
    "\n",
    "a/=2\n",
    "print(int(a))\n",
    "\n",
    "a%=4\n",
    "print(int(a))\n",
    "\n",
    "x = 5\n",
    "\n",
    "x//=3\n",
    "\n",
    "print(x)\n",
    "\n",
    "\n",
    "x=7\n",
    "\n",
    "x &= 3\n",
    "print(x)\n",
    "\n",
    "x != 3\n",
    "print(x)\n",
    "\n"
   ]
  },
  {
   "cell_type": "markdown",
   "id": "4e3cac0a",
   "metadata": {},
   "source": [
    "# Logical Operators"
   ]
  },
  {
   "cell_type": "code",
   "execution_count": null,
   "id": "18865e29",
   "metadata": {},
   "outputs": [],
   "source": [
    "#Logical AND\n",
    "\n",
    "\n",
    "a=int(input((\"Enter First value:\")))\n",
    "print(a)\n",
    "b=int(input((\"Enter Second value:\")))\n",
    "print(b)\n",
    "c=int(input((\"Enter Third value:\")))\n",
    "print(c)\n",
    "d=a>b and c<b and a>c\n",
    "if d:\n",
    "    print(True)\n",
    "else:\n",
    "    print(False)\n"
   ]
  },
  {
   "cell_type": "code",
   "execution_count": null,
   "id": "5f9fb34f",
   "metadata": {},
   "outputs": [],
   "source": [
    "#Logical OR\n",
    "\n",
    "\n",
    "a=int(input((\"Enter First value:\")))\n",
    "print(a)\n",
    "b=int(input((\"Enter Second value:\")))\n",
    "print(b)\n",
    "c=int(input((\"Enter Third value:\")))\n",
    "print(c)\n",
    "d=a>b or c<b or a>c\n",
    "if d:\n",
    "    print(True)\n",
    "else:\n",
    "    print(False)"
   ]
  },
  {
   "cell_type": "code",
   "execution_count": null,
   "id": "811dc7de",
   "metadata": {},
   "outputs": [],
   "source": [
    "#Logical not\n",
    "\n",
    "\n",
    "a=int(input((\"Enter First value:\")))\n",
    "print(a)\n",
    "b=int(input((\"Enter Second value:\")))\n",
    "print(b)\n",
    "c=int(input((\"Enter Third value:\")))\n",
    "print(c)\n",
    "d=!(a>b and c<b and a>c)\n",
    "if d:\n",
    "    print(True)\n",
    "else:\n",
    "    print(False)"
   ]
  },
  {
   "cell_type": "markdown",
   "id": "ee7d049b",
   "metadata": {},
   "source": [
    "# Bitwise Operators"
   ]
  },
  {
   "cell_type": "code",
   "execution_count": null,
   "id": "3adc02bc",
   "metadata": {},
   "outputs": [],
   "source": [
    "a=10   #0000 1010\n",
    "b=15   #0000 1111\n",
    "\n",
    "\n",
    "print('~a=',~a)     #NOT \t Inverts all the bits\n",
    "print('a &b =',a & b)  #  AND\tSets each bit to 1 if both bits are 1\n",
    "print('a|b=',a|b)   #OR  \tSets each bit to 1 if one of two bits is 1\n",
    "print('a^b=',a^b)  #XOR\tSets each bit to 1 if only one of two bits is 1\n",
    "print('a<<2=',a<<2) #Zero fill left shift\tShift left by pushing zeros in from the right and let the leftmost bits fall off\n",
    "print('a>>2=',a>>2) #Signed right shift\t  Shift right by pushing copies of the leftmost bit in from the left,and let the rightmost bits fall off"
   ]
  },
  {
   "cell_type": "markdown",
   "id": "c3e8cb63",
   "metadata": {},
   "source": [
    "# Membership Operators"
   ]
  },
  {
   "cell_type": "code",
   "execution_count": null,
   "id": "c72d757a",
   "metadata": {},
   "outputs": [],
   "source": [
    "\"\"\"\n",
    "Membership operators are used to test \n",
    "if a sequence is presented in an object.\n",
    "The result is true if the value is in the data structure;\n",
    "otherwise, it returns false.\n",
    "\"\"\"\n",
    "\n",
    "\n",
    "# in \tReturns True if a sequence with the specified value is present in the object\n",
    "str1=\"Hello World\"\n",
    "str2=\"This is Python program.\"\n",
    "print(str1 in str2)"
   ]
  },
  {
   "cell_type": "code",
   "execution_count": null,
   "id": "930a6337",
   "metadata": {},
   "outputs": [],
   "source": [
    "# not in\tReturns True if a sequence with the specified value is not present in the object\n",
    "str1=\"Hello World\"\n",
    "str2=\"This is Python program.\"\n",
    "print(str1 not in str2)"
   ]
  },
  {
   "cell_type": "markdown",
   "id": "b6b2ffc8",
   "metadata": {},
   "source": [
    "# Identity Operators\n",
    "Identity operators are used to compare the objects,\n",
    "not if they are equal, but if they are actually the same object, \n",
    "with the same memory location.\n",
    "is \tReturns True if both variables are the same object.\n",
    "is not\tReturns True if both variables are not the same object\n"
   ]
  },
  {
   "cell_type": "code",
   "execution_count": 1,
   "id": "13665081",
   "metadata": {},
   "outputs": [
    {
     "name": "stdout",
     "output_type": "stream",
     "text": [
      "True\n",
      "False\n",
      "True\n"
     ]
    }
   ],
   "source": [
    "x=10\n",
    "y=10\n",
    "print(x is y)\n",
    "\n",
    "x=10\n",
    "y='10'\n",
    "print(x is y)\n",
    "\n",
    "\n",
    "a=10\n",
    "b='10'\n",
    "print(a is not b)"
   ]
  },
  {
   "cell_type": "code",
   "execution_count": 2,
   "id": "f4962008",
   "metadata": {},
   "outputs": [
    {
     "name": "stdout",
     "output_type": "stream",
     "text": [
      "True\n",
      "False\n",
      "True\n"
     ]
    }
   ],
   "source": [
    "x = [\"apple\", \"banana\"]\n",
    "y = [\"apple\", \"banana\"]\n",
    "z = x\n",
    "\n",
    "print(x is z)\n",
    "\n",
    "# returns True because z is the same object as x\n",
    "\n",
    "print(x is y)\n",
    "\n",
    "# returns False because x is not the same object as y, even if they have the same content\n",
    "\n",
    "print(x == y)\n",
    "\n",
    "# to demonstrate the difference betweeen \"is\" and \"==\": this comparison returns True because x is equal to y\n"
   ]
  },
  {
   "cell_type": "code",
   "execution_count": null,
   "id": "2075c93e",
   "metadata": {},
   "outputs": [],
   "source": []
  },
  {
   "cell_type": "markdown",
   "id": "cb01160e",
   "metadata": {},
   "source": [
    "# Operator Precedence"
   ]
  },
  {
   "cell_type": "code",
   "execution_count": null,
   "id": "8f2c0d04",
   "metadata": {},
   "outputs": [],
   "source": [
    "\"\"\"\n",
    "Precedence order:::\n",
    "() ---> Parenthesis\n",
    "**   ---> Exponentiation\n",
    "+x  -x  ~x\t Unary plus, unary minus, and bitwise NOT\n",
    "*  /  //  %\t  Multiplication, division, floor division, and modulus\n",
    "+  -\tAddition and subtraction\n",
    "<<  >>\tBitwise left and right shifts\n",
    "&\tBitwise AND\n",
    "^\tBitwise XOR\n",
    "==  !=  >  >=  <  <=  is  is not  in  not in \tComparisons, identity, \n",
    "and membership operators\n",
    "\n",
    "\n",
    "not\tLogical NOT\n",
    "and\tAND\n",
    "or\tOR\n",
    "\n",
    "\"\"\"\n",
    "print((5+7*3-1/2))\n"
   ]
  },
  {
   "cell_type": "code",
   "execution_count": null,
   "id": "4fd9253b",
   "metadata": {},
   "outputs": [],
   "source": [
    "print((1+1)*2**4//3+4-1)"
   ]
  },
  {
   "cell_type": "code",
   "execution_count": null,
   "id": "0a25df63",
   "metadata": {},
   "outputs": [],
   "source": []
  },
  {
   "cell_type": "code",
   "execution_count": null,
   "id": "2b8052f1",
   "metadata": {},
   "outputs": [],
   "source": [
    "\n"
   ]
  }
 ],
 "metadata": {
  "kernelspec": {
   "display_name": "Python 3 (ipykernel)",
   "language": "python",
   "name": "python3"
  },
  "language_info": {
   "codemirror_mode": {
    "name": "ipython",
    "version": 3
   },
   "file_extension": ".py",
   "mimetype": "text/x-python",
   "name": "python",
   "nbconvert_exporter": "python",
   "pygments_lexer": "ipython3",
   "version": "3.9.12"
  }
 },
 "nbformat": 4,
 "nbformat_minor": 5
}
