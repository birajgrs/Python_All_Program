{
 "cells": [
  {
   "cell_type": "code",
   "execution_count": 3,
   "id": "bb074595",
   "metadata": {},
   "outputs": [
    {
     "ename": "IndentationError",
     "evalue": "unexpected indent (807798768.py, line 38)",
     "output_type": "error",
     "traceback": [
      "\u001b[1;36m  Input \u001b[1;32mIn [3]\u001b[1;36m\u001b[0m\n\u001b[1;33m    OS.getcwd()      Find current directory\u001b[0m\n\u001b[1;37m    ^\u001b[0m\n\u001b[1;31mIndentationError\u001b[0m\u001b[1;31m:\u001b[0m unexpected indent\n"
     ]
    }
   ],
   "source": [
    "\"\"\"\n",
    "Opening a file\n",
    "Python provides an open() function that accepts two arguments, file name and access mode in which the file is accessed. \n",
    "The function returns a file object which can be used to perform various operations like reading, writing, etc.\n",
    "\n",
    "Syntax:\n",
    "\n",
    "file object = open(<file-name>, <access-mode>, <buffering>)  \n",
    "\n",
    "\n",
    "The files can be accessed using various modes like read, write, or append. The following are the details about the access mode\n",
    "to open a file.\n",
    "\n",
    "SN\tAccess mode\tDescription\n",
    "1\tr\tIt opens the file to read-only mode. The file pointer exists at the beginning. \n",
    "The file is by default open in this mode if no access mode is passed.\n",
    "2\trb\tIt opens the file to read-only in binary format. The file pointer exists at the beginning of the file.\n",
    "3\tr+\tIt opens the file to read and write both. The file pointer exists at the beginning of the file.\n",
    "4\trb+\tIt opens the file to read and write both in binary format. The file pointer exists at the beginning of the file.\n",
    "5\tw\tIt opens the file to write only. It overwrites the file if previously exists or creates a new one if no file exists \n",
    "with the same name. The file pointer exists at the beginning of the file.\n",
    "6\twb\tIt opens the file to write only in binary format. It overwrites the file if it exists previously or creates a new one\n",
    "if no file exists. The file pointer exists at the beginning of the file.\n",
    "7\tw+\tIt opens the file to write and read both. It is different from r+ in the sense that it overwrites the previous file if \n",
    "one exists whereas r+ doesn't overwrite the previously written file. It creates a new file if no file exists. The file pointer \n",
    "exists at the beginning of the file.\n",
    "8\twb+\tIt opens the file to write and read both in binary format. The file pointer exists at the beginning of the file.\n",
    "9\ta\tIt opens the file in the append mode. The file pointer exists at the end of the previously written file if exists any.\n",
    "It creates a new file if no file exists with the same name.\n",
    "10\tab\tIt opens the file in the append mode in binary format. The pointer exists at the end of the previously written file.\n",
    "It creates a new file in binary format if no file exists with the same name.\n",
    "11\ta+\tIt opens a file to append and read both. The file pointer remains at the end of the file if a file exists. \n",
    "It creates a new file if no file exists with the same name.\n",
    "12\tab+\tIt opens a file to append and read both in binary format. The file pointer remains at the end of the file.\n",
    "Let's look at the simple \n",
    "\"\"\"\n",
    "import OS\n",
    " OS.getcwd()      Find current directory"
   ]
  },
  {
   "cell_type": "code",
   "execution_count": 1,
   "id": "d5f34c02",
   "metadata": {},
   "outputs": [],
   "source": []
  },
  {
   "cell_type": "code",
   "execution_count": null,
   "id": "ccf84361",
   "metadata": {},
   "outputs": [],
   "source": []
  },
  {
   "cell_type": "code",
   "execution_count": null,
   "id": "e3a2dbc8",
   "metadata": {},
   "outputs": [],
   "source": []
  },
  {
   "cell_type": "code",
   "execution_count": null,
   "id": "ebbe7967",
   "metadata": {},
   "outputs": [],
   "source": []
  },
  {
   "cell_type": "code",
   "execution_count": null,
   "id": "0a4f9f75",
   "metadata": {},
   "outputs": [],
   "source": []
  },
  {
   "cell_type": "code",
   "execution_count": null,
   "id": "b538b9c4",
   "metadata": {},
   "outputs": [],
   "source": []
  },
  {
   "cell_type": "code",
   "execution_count": null,
   "id": "31c74204",
   "metadata": {},
   "outputs": [],
   "source": []
  },
  {
   "cell_type": "code",
   "execution_count": null,
   "id": "727851f2",
   "metadata": {},
   "outputs": [],
   "source": []
  },
  {
   "cell_type": "code",
   "execution_count": null,
   "id": "b571974b",
   "metadata": {},
   "outputs": [],
   "source": []
  },
  {
   "cell_type": "code",
   "execution_count": null,
   "id": "8f20bc2f",
   "metadata": {},
   "outputs": [],
   "source": []
  },
  {
   "cell_type": "code",
   "execution_count": null,
   "id": "e51f91d4",
   "metadata": {},
   "outputs": [],
   "source": []
  },
  {
   "cell_type": "code",
   "execution_count": null,
   "id": "3c9e9370",
   "metadata": {},
   "outputs": [],
   "source": []
  },
  {
   "cell_type": "code",
   "execution_count": null,
   "id": "5b16fc6c",
   "metadata": {},
   "outputs": [],
   "source": []
  },
  {
   "cell_type": "code",
   "execution_count": null,
   "id": "5941124c",
   "metadata": {},
   "outputs": [],
   "source": []
  },
  {
   "cell_type": "code",
   "execution_count": null,
   "id": "a811adcd",
   "metadata": {},
   "outputs": [],
   "source": []
  },
  {
   "cell_type": "code",
   "execution_count": null,
   "id": "a75c3a25",
   "metadata": {},
   "outputs": [],
   "source": []
  },
  {
   "cell_type": "code",
   "execution_count": null,
   "id": "d176eaf8",
   "metadata": {},
   "outputs": [],
   "source": []
  },
  {
   "cell_type": "code",
   "execution_count": null,
   "id": "3401a4ad",
   "metadata": {},
   "outputs": [],
   "source": []
  },
  {
   "cell_type": "code",
   "execution_count": null,
   "id": "c7ebff52",
   "metadata": {},
   "outputs": [],
   "source": []
  },
  {
   "cell_type": "code",
   "execution_count": null,
   "id": "a54be6fd",
   "metadata": {},
   "outputs": [],
   "source": []
  },
  {
   "cell_type": "code",
   "execution_count": null,
   "id": "20d566c8",
   "metadata": {},
   "outputs": [],
   "source": []
  },
  {
   "cell_type": "code",
   "execution_count": null,
   "id": "e98daab5",
   "metadata": {},
   "outputs": [],
   "source": []
  },
  {
   "cell_type": "code",
   "execution_count": null,
   "id": "54f65f28",
   "metadata": {},
   "outputs": [],
   "source": []
  },
  {
   "cell_type": "code",
   "execution_count": null,
   "id": "c624d993",
   "metadata": {},
   "outputs": [],
   "source": []
  },
  {
   "cell_type": "code",
   "execution_count": null,
   "id": "c435bd55",
   "metadata": {},
   "outputs": [],
   "source": []
  },
  {
   "cell_type": "code",
   "execution_count": null,
   "id": "b02236ea",
   "metadata": {},
   "outputs": [],
   "source": []
  },
  {
   "cell_type": "code",
   "execution_count": null,
   "id": "a8c58a51",
   "metadata": {},
   "outputs": [],
   "source": []
  },
  {
   "cell_type": "code",
   "execution_count": null,
   "id": "63cd8cf6",
   "metadata": {},
   "outputs": [],
   "source": []
  }
 ],
 "metadata": {
  "kernelspec": {
   "display_name": "Python 3 (ipykernel)",
   "language": "python",
   "name": "python3"
  },
  "language_info": {
   "codemirror_mode": {
    "name": "ipython",
    "version": 3
   },
   "file_extension": ".py",
   "mimetype": "text/x-python",
   "name": "python",
   "nbconvert_exporter": "python",
   "pygments_lexer": "ipython3",
   "version": "3.9.12"
  }
 },
 "nbformat": 4,
 "nbformat_minor": 5
}
