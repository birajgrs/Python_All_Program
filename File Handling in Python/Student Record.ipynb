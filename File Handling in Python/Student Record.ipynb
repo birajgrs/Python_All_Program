{
 "cells": [
  {
   "cell_type": "code",
   "execution_count": 7,
   "id": "d8605c86",
   "metadata": {},
   "outputs": [
    {
     "name": "stdout",
     "output_type": "stream",
     "text": [
      "\n",
      " 1.Add Record\n",
      "\n",
      " 2.Display All Record\n",
      "\n",
      " 3.Search STUDENT RECORD By NAME\n",
      "\n",
      " 4.Search STUDENT RECORD By ROLLNO.\n",
      "\n",
      " 5.DELETE STUDENT RECORD By NAME\n",
      "\n",
      " 6.Update Student Record\n",
      "\n",
      " 7.Exit\n",
      "Enter your Choice:1\n",
      "\n",
      " Enter Student Details \n",
      "\n",
      "Enter Name=Biraj\n",
      "Enter Roll No=1\n",
      "Enter class=14\n",
      "Enter Fees=50000\n",
      "Enter Percentage=86\n",
      "\n",
      " 1.Add Record\n",
      "\n",
      " 2.Display All Record\n",
      "\n",
      " 3.Search STUDENT RECORD By NAME\n",
      "\n",
      " 4.Search STUDENT RECORD By ROLLNO.\n",
      "\n",
      " 5.DELETE STUDENT RECORD By NAME\n",
      "\n",
      " 6.Update Student Record\n",
      "\n",
      " 7.Exit\n",
      "Enter your Choice:2\n",
      "\n",
      "\n",
      " List of present records\n",
      "\n",
      "\n",
      "NAME-ROLLNO-CLASS-FEES-PER\n"
     ]
    },
    {
     "ename": "AttributeError",
     "evalue": "'str' object has no attribute 'stip'",
     "output_type": "error",
     "traceback": [
      "\u001b[1;31m---------------------------------------------------------------------------\u001b[0m",
      "\u001b[1;31mAttributeError\u001b[0m                            Traceback (most recent call last)",
      "Input \u001b[1;32mIn [7]\u001b[0m, in \u001b[0;36m<cell line: 4>\u001b[1;34m()\u001b[0m\n\u001b[0;32m     33\u001b[0m     \u001b[38;5;28;01mif\u001b[39;00m(l\u001b[38;5;241m==\u001b[39m\u001b[38;5;241m0\u001b[39m):\n\u001b[0;32m     34\u001b[0m         \u001b[38;5;28;01mbreak\u001b[39;00m\n\u001b[1;32m---> 35\u001b[0m     \u001b[38;5;28mprint\u001b[39m(\u001b[43md\u001b[49m\u001b[38;5;241;43m.\u001b[39;49m\u001b[43mstip\u001b[49m())\n\u001b[0;32m     36\u001b[0m f\u001b[38;5;241m.\u001b[39mclose()\n",
      "\u001b[1;31mAttributeError\u001b[0m: 'str' object has no attribute 'stip'"
     ]
    }
   ],
   "source": [
    "import os\n",
    "x=1\n",
    "while(True):\n",
    "    print(\"\\n 1.Add Record\")\n",
    "    print(\"\\n 2.Display All Record\")\n",
    "    print(\"\\n 3.Search STUDENT RECORD By NAME\")\n",
    "    print(\"\\n 4.Search STUDENT RECORD By ROLLNO.\")\n",
    "    print(\"\\n 5.DELETE STUDENT RECORD By NAME\")\n",
    "    print(\"\\n 6.Update Student Record\")\n",
    "    print(\"\\n 7.Exit\")\n",
    "    \n",
    "    n=int(input(\"Enter your Choice:\"))\n",
    "    if(n==7):\n",
    "        break\n",
    "    elif(n==1):\n",
    "        print(\"\\n Enter Student Details \\n\")\n",
    "        n=input(\"Enter Name=\")\n",
    "        r=input(\"Enter Roll No=\")\n",
    "        cl=input(\"Enter class=\")\n",
    "        fees=input(\"Enter Fees=\")\n",
    "        per=input(\"Enter Percentage=\")\n",
    "        f=open(\"Student_Record.txt\",\"a\") #Open in append mode\n",
    "        f.write(n+\"-\"+r+\"-\"+cl+\"-\"+fees+\"-\"+per+\"\\n\")\n",
    "        f.close()\n",
    "    elif(n==2):\n",
    "        print(\"\\n\\n List of present records\\n\\n\")\n",
    "        print(\"NAME-ROLLNO-CLASS-FEES-PER\")\n",
    "        f=open(\"Student_Record.txt\",\"r\")\n",
    "        \n",
    "        while(True):\n",
    "            d=f.readline() \n",
    "            l=len(d)\n",
    "            if(l==0):\n",
    "                break\n",
    "            print(d.stip())\n",
    "        f.close()\n",
    "        \n",
    "    \n",
    " "
   ]
  },
  {
   "cell_type": "code",
   "execution_count": null,
   "id": "d7d393cd",
   "metadata": {},
   "outputs": [],
   "source": []
  },
  {
   "cell_type": "code",
   "execution_count": null,
   "id": "d5aa1d82",
   "metadata": {},
   "outputs": [],
   "source": []
  },
  {
   "cell_type": "code",
   "execution_count": null,
   "id": "d69cad56",
   "metadata": {},
   "outputs": [],
   "source": []
  },
  {
   "cell_type": "code",
   "execution_count": null,
   "id": "feae9056",
   "metadata": {},
   "outputs": [],
   "source": []
  },
  {
   "cell_type": "code",
   "execution_count": null,
   "id": "b050a413",
   "metadata": {},
   "outputs": [],
   "source": []
  },
  {
   "cell_type": "code",
   "execution_count": null,
   "id": "ed543852",
   "metadata": {},
   "outputs": [],
   "source": []
  },
  {
   "cell_type": "code",
   "execution_count": null,
   "id": "52eecee2",
   "metadata": {},
   "outputs": [],
   "source": []
  },
  {
   "cell_type": "code",
   "execution_count": null,
   "id": "6d6f89e7",
   "metadata": {},
   "outputs": [],
   "source": []
  },
  {
   "cell_type": "code",
   "execution_count": null,
   "id": "0d55d32d",
   "metadata": {},
   "outputs": [],
   "source": []
  },
  {
   "cell_type": "code",
   "execution_count": null,
   "id": "fd1b5dbb",
   "metadata": {},
   "outputs": [],
   "source": []
  },
  {
   "cell_type": "code",
   "execution_count": null,
   "id": "8405d2b9",
   "metadata": {},
   "outputs": [],
   "source": []
  },
  {
   "cell_type": "code",
   "execution_count": null,
   "id": "f27745d9",
   "metadata": {},
   "outputs": [],
   "source": []
  },
  {
   "cell_type": "code",
   "execution_count": null,
   "id": "ade919b2",
   "metadata": {},
   "outputs": [],
   "source": []
  },
  {
   "cell_type": "code",
   "execution_count": null,
   "id": "e5fc40c0",
   "metadata": {},
   "outputs": [],
   "source": []
  }
 ],
 "metadata": {
  "kernelspec": {
   "display_name": "Python 3 (ipykernel)",
   "language": "python",
   "name": "python3"
  },
  "language_info": {
   "codemirror_mode": {
    "name": "ipython",
    "version": 3
   },
   "file_extension": ".py",
   "mimetype": "text/x-python",
   "name": "python",
   "nbconvert_exporter": "python",
   "pygments_lexer": "ipython3",
   "version": "3.9.12"
  }
 },
 "nbformat": 4,
 "nbformat_minor": 5
}
