{
 "cells": [
  {
   "cell_type": "code",
   "execution_count": 2,
   "id": "8726a248",
   "metadata": {},
   "outputs": [
    {
     "data": {
      "text/plain": [
       "'\\nFile handling is an important part of any web application.\\n\\nPython has several functions for creating, reading, updating, and deleting files.\\n\\n\\nFile Handling\\nThe key function for working with files in Python is the open() function.\\n\\nThe open() function takes two parameters; filename, and mode.\\n\\nThere are four different methods (modes) for opening a file:\\n\\n\"r\" - Read - Default value. Opens a file for reading, error if the file does not exist\\n\\n\"a\" - Append - Opens a file for appending, creates the file if it does not exist\\n\\n\"w\" - Write - Opens a file for writing, creates the file if it does not exist\\n\\n\"x\" - Create - Creates the specified file, returns an error if the file exists\\n\\nIn addition you can specify if the file should be handled as binary or text mode\\n\\n\"t\" - Text - Default value. Text mode\\n\\n\"b\" - Binary - Binary mode (e.g. images)\\n\\nSyntax\\nTo open a file for reading it is enough to specify the name of the file:\\n\\nf = open(\"demofile.txt\")\\nThe code above is the same as:\\n\\nf = open(\"demofile.txt\", \"rt\")\\nBecause \"r\" for read, and \"t\" for text are the default values, you do not need to specify them.\\n'"
      ]
     },
     "execution_count": 2,
     "metadata": {},
     "output_type": "execute_result"
    }
   ],
   "source": [
    "\"\"\"\n",
    "File handling is an important part of any web application.\n",
    "\n",
    "Python has several functions for creating, reading, updating, and deleting files.\n",
    "\n",
    "\n",
    "File Handling\n",
    "The key function for working with files in Python is the open() function.\n",
    "\n",
    "The open() function takes two parameters; filename, and mode.\n",
    "\n",
    "There are four different methods (modes) for opening a file:\n",
    "\n",
    "\"r\" - Read - Default value. Opens a file for reading, error if the file does not exist\n",
    "\n",
    "\"a\" - Append - Opens a file for appending, creates the file if it does not exist\n",
    "\n",
    "\"w\" - Write - Opens a file for writing, creates the file if it does not exist\n",
    "\n",
    "\"x\" - Create - Creates the specified file, returns an error if the file exists\n",
    "\n",
    "In addition you can specify if the file should be handled as binary or text mode\n",
    "\n",
    "\"t\" - Text - Default value. Text mode\n",
    "\n",
    "\"b\" - Binary - Binary mode (e.g. images)\n",
    "\n",
    "Syntax\n",
    "To open a file for reading it is enough to specify the name of the file:\n",
    "\n",
    "f = open(\"demofile.txt\")\n",
    "The code above is the same as:\n",
    "\n",
    "f = open(\"demofile.txt\", \"rt\")\n",
    "Because \"r\" for read, and \"t\" for text are the default values, you do not need to specify them.\n",
    "\"\"\"\n"
   ]
  },
  {
   "cell_type": "code",
   "execution_count": 3,
   "id": "80c642ca",
   "metadata": {},
   "outputs": [],
   "source": [
    "import os\n",
    "# os.getcwd()      Find current directory"
   ]
  },
  {
   "cell_type": "code",
   "execution_count": 4,
   "id": "85f44b9f",
   "metadata": {},
   "outputs": [
    {
     "name": "stdout",
     "output_type": "stream",
     "text": [
      "Data Written successfully\n"
     ]
    }
   ],
   "source": [
    "f=open('file.txt','w')   #write\n",
    "f.write('I love programming.')\n",
    "f.write('\\n Python is the best programming language.')\n",
    "print(\"Data Written successfully\")"
   ]
  },
  {
   "cell_type": "code",
   "execution_count": 5,
   "id": "d1498dac",
   "metadata": {},
   "outputs": [
    {
     "name": "stdout",
     "output_type": "stream",
     "text": [
      "Data written successfully again\n"
     ]
    }
   ],
   "source": [
    "f=open('file.txt','a')   #append\n",
    "f.write('\\n I am a student of CSIT and Data analyst.')\n",
    "print(\"Data written successfully again\")"
   ]
  },
  {
   "cell_type": "code",
   "execution_count": 6,
   "id": "b65d7fe2",
   "metadata": {},
   "outputs": [],
   "source": [
    "f=open('file.txt','w')\n",
    "lists=[\"My name is Biraj Ghorasaine\\n, I am a CSIT student.\"]\n"
   ]
  },
  {
   "cell_type": "code",
   "execution_count": null,
   "id": "ce4bbcf3",
   "metadata": {},
   "outputs": [
    {
     "name": "stdout",
     "output_type": "stream",
     "text": [
      "Enter Roll No for student 1: 1\n",
      "Enter Name for student 1: Ram\n",
      "Enter Percentage for student 1: 2\n"
     ]
    }
   ],
   "source": [
    "# WAP in python  to create a file 'RECORD.TXT' then store roll no,name,and percentage of 10 students.\n",
    "\n",
    "# Open the file for writing\n",
    "\n",
    "with open('RECORD.TXT', 'w') as file:\n",
    "\n",
    "    # Write header line\n",
    "    file.write('Roll No\\tName\\tPercentage\\n')\n",
    "\n",
    "    # Write data for 10 students\n",
    "    for i in range(1, 11):\n",
    "        roll_no = input(f'Enter Roll No for student {i}: ')\n",
    "        name = input(f'Enter Name for student {i}: ')\n",
    "        percentage = input(f'Enter Percentage for student {i}: ')\n",
    "        file.write(f'{roll_no}\\t{name}\\t{percentage}\\n')\n",
    "\n",
    "# Print message to confirm file creation\n",
    "print('File created successfully!')\n"
   ]
  },
  {
   "cell_type": "code",
   "execution_count": null,
   "id": "feb4705d",
   "metadata": {},
   "outputs": [],
   "source": []
  },
  {
   "cell_type": "code",
   "execution_count": null,
   "id": "39616091",
   "metadata": {},
   "outputs": [],
   "source": []
  },
  {
   "cell_type": "code",
   "execution_count": null,
   "id": "56e7300d",
   "metadata": {},
   "outputs": [],
   "source": []
  },
  {
   "cell_type": "code",
   "execution_count": null,
   "id": "3ad99438",
   "metadata": {},
   "outputs": [],
   "source": []
  }
 ],
 "metadata": {
  "kernelspec": {
   "display_name": "Python 3 (ipykernel)",
   "language": "python",
   "name": "python3"
  },
  "language_info": {
   "codemirror_mode": {
    "name": "ipython",
    "version": 3
   },
   "file_extension": ".py",
   "mimetype": "text/x-python",
   "name": "python",
   "nbconvert_exporter": "python",
   "pygments_lexer": "ipython3",
   "version": "3.9.12"
  }
 },
 "nbformat": 4,
 "nbformat_minor": 5
}
