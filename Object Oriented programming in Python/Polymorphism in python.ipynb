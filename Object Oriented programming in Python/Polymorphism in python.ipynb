{
 "cells": [
  {
   "cell_type": "code",
   "execution_count": 2,
   "id": "1419fa4d",
   "metadata": {},
   "outputs": [],
   "source": [
    "\n",
    "'''\n",
    "Polymorphism means same function name(but different signatures) being uses for different types.\n",
    "\n",
    "Polymorphism refers to having multiple forms. Polymorphism is a programming term that refers to the use of the \n",
    "same function name, but with different signatures, for multiple types.\n",
    "'''\n",
    "pass"
   ]
  },
  {
   "cell_type": "code",
   "execution_count": 5,
   "id": "693e2513",
   "metadata": {},
   "outputs": [
    {
     "name": "stdout",
     "output_type": "stream",
     "text": [
      "4\n",
      "11\n"
     ]
    }
   ],
   "source": [
    "#Built in polymorphism\n",
    "l=[10,20,30,40]\n",
    "print(len(l))\n",
    "Str=\"Hello World\"\n",
    "print(len(Str))"
   ]
  },
  {
   "cell_type": "code",
   "execution_count": 6,
   "id": "9b293764",
   "metadata": {},
   "outputs": [
    {
     "name": "stdout",
     "output_type": "stream",
     "text": [
      "This is overloadingDemo.\n"
     ]
    }
   ],
   "source": [
    "#Function overloading\n",
    "class OverloadingDemo:\n",
    "    def displayinfo(self,name=''):\n",
    "        print(\"This is overloadingDemo.\"+name)\n",
    "obj=OverloadingDemo()\n",
    "obj.displayinfo()\n",
    "    "
   ]
  },
  {
   "cell_type": "code",
   "execution_count": 9,
   "id": "f9801951",
   "metadata": {},
   "outputs": [
    {
     "name": "stdout",
     "output_type": "stream",
     "text": [
      "Second Method: 75\n"
     ]
    }
   ],
   "source": [
    "class FunctionOverloading:\n",
    "    def sum(self,a,b):\n",
    "        print(\"First Mrthod:\",a+b)\n",
    "    def sum(self,a,b,c):\n",
    "        print(\"Second Method:\",a+b+c)\n",
    "obj=FunctionOverloading()\n",
    "obj.sum(20,25,30)"
   ]
  },
  {
   "cell_type": "code",
   "execution_count": 10,
   "id": "0c3e3ad7",
   "metadata": {},
   "outputs": [
    {
     "name": "stdout",
     "output_type": "stream",
     "text": [
      "This is overloadingDemo.BIRAJ\n"
     ]
    }
   ],
   "source": [
    "#Function overloading\n",
    "class OverloadingDemo:\n",
    "    def displayinfo(self,name=''):\n",
    "        print(\"This is overloadingDemo.\"+name)\n",
    "obj=OverloadingDemo()\n",
    "obj.displayinfo('BIRAJ')"
   ]
  },
  {
   "cell_type": "code",
   "execution_count": 12,
   "id": "e2e0435c",
   "metadata": {},
   "outputs": [],
   "source": [
    "'''\n",
    "Function Overriding in Python\n",
    "Function overriding in Python is the ability of a subclass to provide a different implementation of a method that is already\n",
    "defined in its superclass. In other words, it is the process of redefining a method in a derived class that already exists \n",
    "in the base class. This is useful when a subclass wants to change the behavior of a method inherited from its superclass.\n",
    "The method in the subclass is said to override the method in the superclass and the subclass method is called instead of the \n",
    "superclass method when the method is called on an instance of the subclass.\n",
    "'''\n",
    "class Overriding:\n",
    "    pass"
   ]
  },
  {
   "cell_type": "code",
   "execution_count": 18,
   "id": "669a6fbd",
   "metadata": {},
   "outputs": [
    {
     "name": "stdout",
     "output_type": "stream",
     "text": [
      "This is function override demo.\n"
     ]
    }
   ],
   "source": [
    "class FunctionOverride:\n",
    "    def displayinfo(self):\n",
    "#         super().displayinfo()\n",
    "        print(\"This is function override demo.\")\n",
    "class AnotherclassDemo(FunctionOverride):  #Inherit method   \n",
    "    def function(self):\n",
    "        print(\"This is another sentence as a sample.\")\n",
    "obj=AnotherclassDemo()\n",
    "obj.displayinfo()\n",
    "        "
   ]
  },
  {
   "cell_type": "code",
   "execution_count": 14,
   "id": "bba037bf",
   "metadata": {},
   "outputs": [
    {
     "name": "stdout",
     "output_type": "stream",
     "text": [
      "Total Working Hrs :  50\n",
      "Total Working Hrs :  60\n",
      "Total Working Hrs :  50\n"
     ]
    }
   ],
   "source": [
    "# Function Overriding\n",
    "class Employee:\n",
    "    def WorkingHrs(self):\n",
    "        self.hrs = 50\n",
    " \n",
    "    def printHrs(self):\n",
    "        print(\"Total Working Hrs : \", self.hrs)\n",
    " \n",
    " \n",
    "class Trainee(Employee):\n",
    "    def WorkingHrs(self):\n",
    "        self.hrs = 60\n",
    " \n",
    "    def resetHrs(self):\n",
    "        super().WorkingHrs()\n",
    " \n",
    " \n",
    "employee = Employee()\n",
    "employee.WorkingHrs()\n",
    "employee.printHrs()\n",
    " \n",
    "trainee=Trainee()\n",
    "trainee.WorkingHrs()\n",
    "trainee.printHrs()\n",
    "# Reset Trainee Hrs\n",
    "trainee.resetHrs()\n",
    "trainee.printHrs()"
   ]
  },
  {
   "cell_type": "code",
   "execution_count": null,
   "id": "10339582",
   "metadata": {},
   "outputs": [],
   "source": []
  },
  {
   "cell_type": "code",
   "execution_count": null,
   "id": "2d18f944",
   "metadata": {},
   "outputs": [],
   "source": []
  },
  {
   "cell_type": "code",
   "execution_count": null,
   "id": "d1da6aea",
   "metadata": {},
   "outputs": [],
   "source": []
  },
  {
   "cell_type": "code",
   "execution_count": null,
   "id": "9485bff7",
   "metadata": {},
   "outputs": [],
   "source": []
  },
  {
   "cell_type": "code",
   "execution_count": null,
   "id": "92d30bb0",
   "metadata": {},
   "outputs": [],
   "source": []
  },
  {
   "cell_type": "code",
   "execution_count": null,
   "id": "2297f915",
   "metadata": {},
   "outputs": [],
   "source": []
  },
  {
   "cell_type": "code",
   "execution_count": null,
   "id": "cd1fd505",
   "metadata": {},
   "outputs": [],
   "source": []
  },
  {
   "cell_type": "code",
   "execution_count": null,
   "id": "9d043070",
   "metadata": {},
   "outputs": [],
   "source": [
    "\n"
   ]
  }
 ],
 "metadata": {
  "kernelspec": {
   "display_name": "Python 3 (ipykernel)",
   "language": "python",
   "name": "python3"
  },
  "language_info": {
   "codemirror_mode": {
    "name": "ipython",
    "version": 3
   },
   "file_extension": ".py",
   "mimetype": "text/x-python",
   "name": "python",
   "nbconvert_exporter": "python",
   "pygments_lexer": "ipython3",
   "version": "3.9.12"
  }
 },
 "nbformat": 4,
 "nbformat_minor": 5
}
