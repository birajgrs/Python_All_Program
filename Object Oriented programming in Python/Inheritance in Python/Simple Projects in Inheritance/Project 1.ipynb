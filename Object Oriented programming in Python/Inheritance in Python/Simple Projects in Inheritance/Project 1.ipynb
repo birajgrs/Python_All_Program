{
 "cells": [
  {
   "cell_type": "code",
   "execution_count": 1,
   "id": "0481ba87",
   "metadata": {},
   "outputs": [
    {
     "data": {
      "text/plain": [
       "'\\nCreate a class author with attributes name and qualification. Also create a class publication with pname.\\nFrom these classes derive a classes derive a class book having attributes title and price. \\nEach of the three classes should have getdata() method to get their data from user.\\nThe classes should have putdata() method to display the data. Create instance of the class book in main.\\n'"
      ]
     },
     "execution_count": 1,
     "metadata": {},
     "output_type": "execute_result"
    }
   ],
   "source": [
    "\"\"\"\n",
    "Create a class author with attributes name and qualification. Also create a class publication with pname.\n",
    "From these classes derive a classes derive a class book having attributes title and price. \n",
    "Each of the three classes should have getdata() method to get their data from user.\n",
    "The classes should have putdata() method to display the data. Create instance of the class book in main.\n",
    "\"\"\""
   ]
  },
  {
   "cell_type": "code",
   "execution_count": 2,
   "id": "11b61988",
   "metadata": {},
   "outputs": [
    {
     "name": "stdout",
     "output_type": "stream",
     "text": [
      "Enter author name: Biraj\n",
      "Enter author qualification: MSc.CSIT\n",
      "Enter publication name: Asmeeta Book Publication\n",
      "Enter book title: DSA In Python\n",
      "Enter book price: 500.00\n",
      "Author name: Biraj\n",
      "Author qualification: MSc.CSIT\n",
      "Publication name: Asmeeta Book Publication\n",
      "Book title: DSA In Python\n",
      "Book price: 500.0\n"
     ]
    }
   ],
   "source": [
    "class Author:\n",
    "    def __init__(self):\n",
    "        self.name = \"\"\n",
    "        self.qualification = \"\"\n",
    "        \n",
    "    def getdata(self):\n",
    "        self.name = input(\"Enter author name: \")\n",
    "        self.qualification = input(\"Enter author qualification: \")\n",
    "        \n",
    "    def putdata(self):\n",
    "        print(\"Author name:\", self.name)\n",
    "        print(\"Author qualification:\", self.qualification)\n",
    "        \n",
    "\n",
    "class Publication:\n",
    "    def __init__(self):\n",
    "        self.pname = \"\"\n",
    "        \n",
    "    def getdata(self):\n",
    "        self.pname = input(\"Enter publication name: \")\n",
    "        \n",
    "    def putdata(self):\n",
    "        print(\"Publication name:\", self.pname)\n",
    "        \n",
    "\n",
    "class Book(Author, Publication):\n",
    "    def __init__(self):\n",
    "        Author.__init__(self)\n",
    "        Publication.__init__(self)\n",
    "        self.title = \"\"\n",
    "        self.price = 0.0\n",
    "        \n",
    "    def getdata(self):\n",
    "        Author.getdata(self)\n",
    "        Publication.getdata(self)\n",
    "        self.title = input(\"Enter book title: \")\n",
    "        self.price = float(input(\"Enter book price: \"))\n",
    "        \n",
    "    def putdata(self):\n",
    "        Author.putdata(self)\n",
    "        Publication.putdata(self)\n",
    "        print(\"Book title:\", self.title)\n",
    "        print(\"Book price:\", self.price)\n",
    "        \n",
    "\n",
    "# example usage\n",
    "book = Book()\n",
    "book.getdata()\n",
    "book.putdata()\n"
   ]
  },
  {
   "cell_type": "code",
   "execution_count": null,
   "id": "c752ed23",
   "metadata": {},
   "outputs": [],
   "source": []
  }
 ],
 "metadata": {
  "kernelspec": {
   "display_name": "Python 3 (ipykernel)",
   "language": "python",
   "name": "python3"
  },
  "language_info": {
   "codemirror_mode": {
    "name": "ipython",
    "version": 3
   },
   "file_extension": ".py",
   "mimetype": "text/x-python",
   "name": "python",
   "nbconvert_exporter": "python",
   "pygments_lexer": "ipython3",
   "version": "3.9.12"
  }
 },
 "nbformat": 4,
 "nbformat_minor": 5
}
