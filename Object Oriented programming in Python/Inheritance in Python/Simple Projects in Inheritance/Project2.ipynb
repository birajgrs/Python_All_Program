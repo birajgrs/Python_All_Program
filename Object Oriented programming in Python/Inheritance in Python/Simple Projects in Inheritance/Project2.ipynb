{
 "cells": [
  {
   "cell_type": "code",
   "execution_count": 1,
   "id": "e60a6694",
   "metadata": {},
   "outputs": [],
   "source": [
    "# School Project using inheritance\n",
    "# Student details:name,age,address,gender,phone_no\n",
    "#Student marks  and course\n",
    "# Teacher's Details\n",
    "\n",
    "\n",
    "\n"
   ]
  },
  {
   "cell_type": "code",
   "execution_count": 2,
   "id": "9e759535",
   "metadata": {},
   "outputs": [
    {
     "name": "stdout",
     "output_type": "stream",
     "text": [
      "Name: Shandya\n",
      "Age: 14\n",
      "Gender: Female\n",
      "Roll no: 101\n",
      "Grade: 10th Grade\n",
      "Name: Ramesh\n",
      "Age: 35\n",
      "Gender: Male\n",
      "Subject: Math\n",
      "Salary: 50000\n",
      "Name: Sishir\n",
      "Age: 45\n",
      "Gender: Male\n",
      "Department: Accounts\n",
      "Designation: Manager\n"
     ]
    }
   ],
   "source": [
    "class Person:\n",
    "    def __init__(self, name, age, gender):\n",
    "        self.name = name\n",
    "        self.age = age\n",
    "        self.gender = gender\n",
    "        \n",
    "    def display(self):\n",
    "        print(\"Name:\", self.name)\n",
    "        print(\"Age:\", self.age)\n",
    "        print(\"Gender:\", self.gender)\n",
    "        \n",
    "\n",
    "class Student(Person):\n",
    "    def __init__(self, name, age, gender, roll_no, grade):\n",
    "        Person.__init__(self, name, age, gender)\n",
    "        self.roll_no = roll_no\n",
    "        self.grade = grade\n",
    "        \n",
    "    def display(self):\n",
    "        Person.display(self)\n",
    "        print(\"Roll no:\", self.roll_no)\n",
    "        print(\"Grade:\", self.grade)\n",
    "        \n",
    "\n",
    "class Teacher(Person):\n",
    "    def __init__(self, name, age, gender, subject, salary):\n",
    "        Person.__init__(self, name, age, gender)\n",
    "        self.subject = subject\n",
    "        self.salary = salary\n",
    "        \n",
    "    def display(self):\n",
    "        Person.display(self)\n",
    "        print(\"Subject:\", self.subject)\n",
    "        print(\"Salary:\", self.salary)\n",
    "        \n",
    "\n",
    "class Admin(Person):\n",
    "    def __init__(self, name, age, gender, department, designation):\n",
    "        Person.__init__(self, name, age, gender)\n",
    "        self.department = department\n",
    "        self.designation = designation\n",
    "        \n",
    "    def display(self):\n",
    "        Person.display(self)\n",
    "        print(\"Department:\", self.department)\n",
    "        print(\"Designation:\", self.designation)\n",
    "        \n",
    "\n",
    "# example usage\n",
    "student = Student(\"Shandya\", 14, \"Female\", 101, \"10th Grade\")\n",
    "student.display()\n",
    "\n",
    "teacher = Teacher(\"Ramesh\", 35, \"Male\", \"Math\", 50000)\n",
    "teacher.display()\n",
    "\n",
    "admin = Admin(\"Sishir\", 45, \"Male\", \"Accounts\", \"Manager\")\n",
    "admin.display()\n"
   ]
  },
  {
   "cell_type": "code",
   "execution_count": null,
   "id": "6f75f4c4",
   "metadata": {},
   "outputs": [],
   "source": []
  }
 ],
 "metadata": {
  "kernelspec": {
   "display_name": "Python 3 (ipykernel)",
   "language": "python",
   "name": "python3"
  },
  "language_info": {
   "codemirror_mode": {
    "name": "ipython",
    "version": 3
   },
   "file_extension": ".py",
   "mimetype": "text/x-python",
   "name": "python",
   "nbconvert_exporter": "python",
   "pygments_lexer": "ipython3",
   "version": "3.9.12"
  }
 },
 "nbformat": 4,
 "nbformat_minor": 5
}
