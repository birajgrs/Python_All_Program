{
 "cells": [
  {
   "cell_type": "code",
   "execution_count": 11,
   "id": "a30efc2e",
   "metadata": {},
   "outputs": [],
   "source": [
    "'''\n",
    "\n",
    "There are five types of inheritances:\n",
    "Single Inheritance.\n",
    "Multiple Inheritance.\n",
    "Multilevel Inheritance.\n",
    "Hierarchical Inheritance.\n",
    "Hybrid Inheritance.\n",
    "\n",
    "'''\n",
    "\"\"\"\n",
    "Types of inheritance in python:::\n",
    "Employee Details\n",
    " (Employee having eid,name,salary,position and department) also another class for department id,\n",
    " work\n",
    " \n",
    "\"\"\"\n",
    "class Employee:\n",
    "#     Constructor creation\n",
    "    def __init__(self,eid,name,salary,position,department):\n",
    "        self.eid=eid\n",
    "        self.name=name\n",
    "        self.salary=salary\n",
    "        self.position=position\n",
    "        self.department=department\n",
    "        \n",
    "    def get_details(self):\n",
    "        \n",
    "        return f\"{self.eid} - {self.name} ({self.position}) - {self.salary} - {self.department}\"\n",
    "    \n",
    "class Department:\n",
    "    def __init__(self,did,work):\n",
    "        self.did=did\n",
    "        self.work=work\n",
    "    def get_details(self):\n",
    "        return f\"{self.did} -{self.work}\"\n",
    "        \n",
    "\n"
   ]
  },
  {
   "cell_type": "code",
   "execution_count": 15,
   "id": "1627e45b",
   "metadata": {},
   "outputs": [
    {
     "name": "stdout",
     "output_type": "stream",
     "text": [
      "100 - Suman (Manager) - 100000 - IT - 15000\n"
     ]
    }
   ],
   "source": [
    "\"\"\"\n",
    "1.Single Inheritance:::\n",
    "Single inheritance allows a derivate class to inherit properties of one parent class, and this allows \n",
    "code reuse and the introduction of additional features in existing code.\n",
    "\"\"\"\n",
    "class Manager(Employee):\n",
    "    def __init__(self,eid, name, salary, department, bonus):\n",
    "        super().__init__(eid,name,salary,\"Manager\",department)\n",
    "        self.bonus=bonus\n",
    "    def get_details(self):\n",
    "        return f\"{super().get_details()} - {self.bonus}\"\n",
    "    \n",
    "manager=Manager(100,\"Suman\",100000,\"IT\",15000)\n",
    "print(manager.get_details())\n",
    "        \n"
   ]
  },
  {
   "cell_type": "code",
   "execution_count": 17,
   "id": "2bdd4435",
   "metadata": {},
   "outputs": [
    {
     "name": "stdout",
     "output_type": "stream",
     "text": [
      "1002 - Rajesh (Engineer) - 60000 - IT - D001 -Software Development\n"
     ]
    }
   ],
   "source": [
    "\"\"\"\n",
    "Multiple Inheritance:::\n",
    "If a class is able to be created from multiple base classes, this kind of Inheritance is known as multiple Inheritance. \n",
    "When there is multiple Inheritance, each of the attributes that are present in the classes of the base has been passed \n",
    "on to the class that is derived from it.\n",
    "\n",
    "\n",
    "\"\"\"\n",
    "class FullTime(Employee, Department):\n",
    "    def __init__(self, eid, name, salary, position, department, did, work):\n",
    "        Employee.__init__(self, eid, name, salary, position, department)\n",
    "        Department.__init__(self, did, work)\n",
    "\n",
    "    def get_details(self):\n",
    "        return f\"{super().get_details()} - {Department.get_details(self)}\"\n",
    "fulltime = FullTime(1002, \"Rajesh\", 60000, \"Engineer\", \"IT\", \"D001\", \"Software Development\")\n",
    "print(fulltime.get_details()) "
   ]
  },
  {
   "cell_type": "code",
   "execution_count": 18,
   "id": "43656fac",
   "metadata": {},
   "outputs": [
    {
     "name": "stdout",
     "output_type": "stream",
     "text": [
      "1001 - Asmee (Engineer) - 50000 - IT - D001 -Software Development\n"
     ]
    }
   ],
   "source": [
    "\"\"\"\n",
    "Multilevel inheritance, \n",
    "the features that are part of the original class, as well as the class that is derived from it, are passed on to the new class.\n",
    "It is similar to a relationship involving grandparents and children.\n",
    "\"\"\"\n",
    "class FullTime(Employee):\n",
    "    def __init__(self, eid, name, salary, position, department, did, work):\n",
    "        super().__init__(eid, name, salary, position, department)\n",
    "        self.department_obj = Department(did, work)\n",
    "\n",
    "    def get_details(self):\n",
    "        return f\"{super().get_details()} - {self.department_obj.get_details()}\"\n",
    "fulltime = FullTime(1001, \"Asmee\", 50000, \"Engineer\", \"IT\", \"D001\", \"Software Development\")\n",
    "print(fulltime.get_details()) "
   ]
  },
  {
   "cell_type": "code",
   "execution_count": 20,
   "id": "6c29c824",
   "metadata": {},
   "outputs": [
    {
     "name": "stdout",
     "output_type": "stream",
     "text": [
      "1001 - Suman (Manager) - 50000 - IT - Team A\n",
      "1004 - Radhika (Supervisor) - 40000 - HR - Night Shift\n"
     ]
    }
   ],
   "source": [
    "\n",
    "\"\"\"\n",
    "Hierarchical Inheritance:::\n",
    "If multiple derived classes are created from the same base, this kind of Inheritance is known as hierarchical inheritance.\n",
    "In this instance, we have two base classes as a parent (base) class as well as two children (derived) classes.\n",
    "\"\"\"\n",
    "class Manager(Employee):\n",
    "    def __init__(self, eid, name, salary, position, department, team):\n",
    "        super().__init__(eid, name, salary, position, department)\n",
    "        self.team = team\n",
    "\n",
    "    def get_details(self):\n",
    "        return f\"{super().get_details()} - {self.team}\"\n",
    "    \n",
    "class Supervisor(Employee):\n",
    "    def __init__(self, eid, name, salary, position, department, shift):\n",
    "        super().__init__(eid, name, salary, position, department)\n",
    "        self.shift = shift\n",
    "\n",
    "    def get_details(self):\n",
    "        return f\"{super().get_details()} - {self.shift}\"\n",
    "manager = Manager(1001, \"Suman\", 50000, \"Manager\", \"IT\", \"Team A\")\n",
    "print(manager.get_details())\n",
    "\n",
    "supervisor = Supervisor(1004, \"Radhika\", 40000, \"Supervisor\", \"HR\", \"Night Shift\")\n",
    "print(supervisor.get_details()) "
   ]
  },
  {
   "cell_type": "code",
   "execution_count": 21,
   "id": "468b280c",
   "metadata": {},
   "outputs": [
    {
     "name": "stdout",
     "output_type": "stream",
     "text": [
      "Employee ID: 101\n",
      "Name: Sandeep\n",
      "Salary: 100000\n",
      "Position: Manager\n",
      "Department: IT\n",
      "Department ID: IT\n",
      "Department Work: Software\n",
      "Bonus: 20000\n",
      "Employee ID: 102\n",
      "Name: Rekha\n",
      "Salary: 50000\n",
      "Position: Trainee\n",
      "Department: Marketing\n",
      "Department ID: Marketing\n",
      "Department Work: Marketing Research\n",
      "Training Duration: 6\n"
     ]
    }
   ],
   "source": [
    "\"\"\"\n",
    "Hybrid Inheritance:::\n",
    "The process of combining more than one type of Inheritance together while deriving \n",
    "subclasses in a program is called a Hybrid Inheritance.\n",
    "\"\"\"\n",
    "class Department:\n",
    "    def __init__(self, department_id, work):\n",
    "        self.department_id = department_id\n",
    "        self.work = work\n",
    "\n",
    "class Employee:\n",
    "    def __init__(self, eid, name, salary, position, department):\n",
    "        self.eid = eid\n",
    "        self.name = name\n",
    "        self.salary = salary\n",
    "        self.position = position\n",
    "        self.department = department\n",
    "\n",
    "class Manager(Employee, Department):\n",
    "    def __init__(self, eid, name, salary, position, department_id, work, bonus):\n",
    "        Employee.__init__(self, eid, name, salary, position, department_id)\n",
    "        Department.__init__(self, department_id, work)\n",
    "        self.bonus = bonus\n",
    "\n",
    "    def display_manager_details(self):\n",
    "        print(\"Employee ID:\", self.eid)\n",
    "        print(\"Name:\", self.name)\n",
    "        print(\"Salary:\", self.salary)\n",
    "        print(\"Position:\", self.position)\n",
    "        print(\"Department:\", self.department)\n",
    "        print(\"Department ID:\", self.department_id)\n",
    "        print(\"Department Work:\", self.work)\n",
    "        print(\"Bonus:\", self.bonus)\n",
    "\n",
    "class Trainee(Employee, Department):\n",
    "    def __init__(self, eid, name, salary, position, department_id, work, training_duration):\n",
    "        Employee.__init__(self, eid, name, salary, position, department_id)\n",
    "        Department.__init__(self, department_id, work)\n",
    "        self.training_duration = training_duration\n",
    "\n",
    "    def display_trainee_details(self):\n",
    "        print(\"Employee ID:\", self.eid)\n",
    "        print(\"Name:\", self.name)\n",
    "        print(\"Salary:\", self.salary)\n",
    "        print(\"Position:\", self.position)\n",
    "        print(\"Department:\", self.department)\n",
    "        print(\"Department ID:\", self.department_id)\n",
    "        print(\"Department Work:\", self.work)\n",
    "        print(\"Training Duration:\", self.training_duration)\n",
    "\n",
    "\n",
    "# example usage\n",
    "manager = Manager(101, \"Sandeep\", 100000, \"Manager\", \"IT\", \"Software\", 20000)\n",
    "manager.display_manager_details()\n",
    "\n",
    "trainee = Trainee(102, \"Rekha\", 50000, \"Trainee\", \"Marketing\", \"Marketing Research\", 6)\n",
    "trainee.display_trainee_details()\n",
    "\n"
   ]
  },
  {
   "cell_type": "code",
   "execution_count": null,
   "id": "016efa5d",
   "metadata": {},
   "outputs": [],
   "source": [
    "\n"
   ]
  },
  {
   "cell_type": "code",
   "execution_count": null,
   "id": "1c636617",
   "metadata": {},
   "outputs": [],
   "source": []
  },
  {
   "cell_type": "code",
   "execution_count": null,
   "id": "83445142",
   "metadata": {},
   "outputs": [],
   "source": []
  },
  {
   "cell_type": "code",
   "execution_count": null,
   "id": "b9a814ee",
   "metadata": {},
   "outputs": [],
   "source": []
  },
  {
   "cell_type": "code",
   "execution_count": null,
   "id": "92ce0fed",
   "metadata": {},
   "outputs": [],
   "source": []
  },
  {
   "cell_type": "code",
   "execution_count": null,
   "id": "1261023f",
   "metadata": {},
   "outputs": [],
   "source": []
  }
 ],
 "metadata": {
  "kernelspec": {
   "display_name": "Python 3 (ipykernel)",
   "language": "python",
   "name": "python3"
  },
  "language_info": {
   "codemirror_mode": {
    "name": "ipython",
    "version": 3
   },
   "file_extension": ".py",
   "mimetype": "text/x-python",
   "name": "python",
   "nbconvert_exporter": "python",
   "pygments_lexer": "ipython3",
   "version": "3.9.12"
  }
 },
 "nbformat": 4,
 "nbformat_minor": 5
}
