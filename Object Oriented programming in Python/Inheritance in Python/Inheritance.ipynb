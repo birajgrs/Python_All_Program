{
 "cells": [
  {
   "cell_type": "code",
   "execution_count": 9,
   "id": "b6fde989",
   "metadata": {},
   "outputs": [
    {
     "name": "stdout",
     "output_type": "stream",
     "text": [
      "Ram 100\n"
     ]
    }
   ],
   "source": [
    "'''\n",
    "Python Inheritance\n",
    "Inheritance is an important aspect of the object-oriented paradigm. Inheritance provides code reusability to the\n",
    "program because we can use an existing class to create a new class instead of creating it from scratch.\n",
    "\n",
    "In inheritance, the child class acquires the properties and can access all the data members and functions defined\n",
    "in the parent class. A child class can also provide its specific implementation to the functions of the parent class.\n",
    "\n",
    "Syntax\n",
    "class derived-class(base class):  \n",
    "    <class-suite>  \n",
    "    \n",
    "    \n",
    "    Benefits of inheritance are: \n",
    "It represents real-world relationships well.\n",
    "It provides the reusability of a code. We don’t have to write the same code again and again. Also, it allows us to add more features to a class without modifying it.\n",
    "It is transitive in nature, which means that if class B inherits from another class A, then all the subclasses of B would automatically inherit from class A.\n",
    "Inheritance offers a simple, understandable model structure. \n",
    "Less development and maintenance expenses result from an inheritance. \n",
    "Python Inheritance Syntax\n",
    "Class BaseClass:\n",
    "    {Body}\n",
    "Class DerivedClass(BaseClass):\n",
    "    {Body}\n",
    "\n",
    "    '''\n",
    "\n",
    "\n",
    "#Creating a parent class\n",
    "class Person(object\n",
    "            ):\n",
    "    \n",
    "    #Constructor \n",
    "    def __init__(self,name,id):\n",
    "        self.name=name\n",
    "        self.id=id\n",
    "    \n",
    "    def disp(self):\n",
    "        print(\n",
    "            self.name,self.id)\n",
    "emp=Person(\"Ram\",100)\n",
    "emp.disp()\n",
    "\n",
    "\n"
   ]
  },
  {
   "cell_type": "code",
   "execution_count": 14,
   "id": "2736ecf8",
   "metadata": {},
   "outputs": [
    {
     "name": "stdout",
     "output_type": "stream",
     "text": [
      "Shyam 101\n",
      "Empl class called\n"
     ]
    }
   ],
   "source": [
    "#Creating a child class\n",
    "class Empl(Person):\n",
    "    def print(self):\n",
    "        print(\"Empl class called\")\n",
    "\n",
    "obj=Empl('Shyam',101)\n",
    "# Calling parent class function\n",
    "obj.disp()\n",
    "#calling child class function\n",
    "obj.print()\n"
   ]
  },
  {
   "cell_type": "code",
   "execution_count": 2,
   "id": "7744a6a4",
   "metadata": {},
   "outputs": [
    {
     "name": "stdout",
     "output_type": "stream",
     "text": [
      "Ram Dahal 21 Boudha\n"
     ]
    }
   ],
   "source": [
    "\"\"\"\n",
    "Python Inheritance\n",
    "Inheritance allows us to define a class that inherits all the methods and properties from another class.\n",
    "\n",
    "Parent class is the class being inherited from, also called base class.\n",
    "\n",
    "Child class is the class that inherits from another class, also called derived class.\n",
    "\"\"\"\n",
    "\n",
    "\n",
    "# Create a parent class\n",
    "class Person:\n",
    "    def __init__(self,fname,lname,age,address):\n",
    "        self.fname=fname\n",
    "        self.lname=lname\n",
    "        self.age=age\n",
    "        self.address=address\n",
    "    def printDetails(self):\n",
    "        print(self.fname,self.lname,self.age,self.address)\n",
    "        \n",
    "obj=Person(\"Ram\",\"Dahal\",21,\"Boudha\")\n",
    "obj.printDetails()"
   ]
  },
  {
   "cell_type": "code",
   "execution_count": 3,
   "id": "40421c2b",
   "metadata": {},
   "outputs": [],
   "source": [
    "#Create a child class\n",
    "# To create a class that inherits the functionality from another class, send the parent \n",
    "# class as a parameter when creating the child class\n",
    "class Student(Person):\n",
    "    \n",
    "    pass\n",
    "\"\"\"\n",
    " the pass keyword when you do not want to add any other properties or methods to the class.\n",
    "\"\"\""
   ]
  },
  {
   "cell_type": "code",
   "execution_count": 4,
   "id": "b3a3b3cf",
   "metadata": {},
   "outputs": [
    {
     "name": "stdout",
     "output_type": "stream",
     "text": [
      "Shyam Kafle 19 Chabhil\n"
     ]
    }
   ],
   "source": [
    "obj=Student(\"Shyam\",\"Kafle\",19,\"Chabhil\")\n",
    "obj.printDetails()"
   ]
  },
  {
   "cell_type": "code",
   "execution_count": 12,
   "id": "e63dba2e",
   "metadata": {},
   "outputs": [
    {
     "name": "stdout",
     "output_type": "stream",
     "text": [
      "Arushi Joshi 20 Bhaktapur\n"
     ]
    }
   ],
   "source": [
    "\"\"\"\n",
    "dd the __init__() Function:::\n",
    "\n",
    "So far we have created a child class that inherits the properties and methods from its parent.\n",
    "\n",
    "We want to add the __init__() function to the child class (instead of the pass keyword).\n",
    "\n",
    "Note: The __init__() function is called automatically every time the class is being used to create a new object.\n",
    "\"\"\"\n",
    "class Student(Person):\n",
    "    def __init__(self,fname,lname,age,address):\n",
    "        Person.__init__(self,fname,lname,age,address)\n",
    "obj=Student(\"Arushi\",\"Joshi\",20,\"Bhaktapur\")\n",
    "obj.printDetails()\n",
    "        "
   ]
  },
  {
   "cell_type": "code",
   "execution_count": 10,
   "id": "8a20b778",
   "metadata": {},
   "outputs": [
    {
     "name": "stdout",
     "output_type": "stream",
     "text": [
      "2023\n"
     ]
    }
   ],
   "source": [
    "\"\"\"Use the super() Function\n",
    "Python also has a super() function that will make the child class inherit all the methods and properties from its parent:\n",
    "\"\"\"\n",
    "class Student(Person):\n",
    "    def __init__(self, fname, lname,age,address):\n",
    "        super().__init__(fname, lname,age,address)\n",
    "        self.graduationYear=2023\n",
    "obj=Student(\"Sita\",\"Chaudhary\",23,\"Lokanthali\")\n",
    "print(obj.graduationYear)"
   ]
  },
  {
   "cell_type": "code",
   "execution_count": null,
   "id": "83ca7a02",
   "metadata": {},
   "outputs": [],
   "source": []
  },
  {
   "cell_type": "code",
   "execution_count": null,
   "id": "9227b7aa",
   "metadata": {},
   "outputs": [],
   "source": []
  },
  {
   "cell_type": "code",
   "execution_count": null,
   "id": "1b52a4bc",
   "metadata": {},
   "outputs": [],
   "source": []
  },
  {
   "cell_type": "code",
   "execution_count": null,
   "id": "937ab26c",
   "metadata": {},
   "outputs": [],
   "source": []
  }
 ],
 "metadata": {
  "kernelspec": {
   "display_name": "Python 3 (ipykernel)",
   "language": "python",
   "name": "python3"
  },
  "language_info": {
   "codemirror_mode": {
    "name": "ipython",
    "version": 3
   },
   "file_extension": ".py",
   "mimetype": "text/x-python",
   "name": "python",
   "nbconvert_exporter": "python",
   "pygments_lexer": "ipython3",
   "version": "3.9.12"
  }
 },
 "nbformat": 4,
 "nbformat_minor": 5
}
