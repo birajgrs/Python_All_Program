{
 "cells": [
  {
   "cell_type": "code",
   "execution_count": null,
   "id": "a89ce217",
   "metadata": {},
   "outputs": [],
   "source": [
    "'''\n",
    "Magic methods in Python are the special methods that start and end with the double underscores.\n",
    "They are also called dunder methods. \n",
    "'''"
   ]
  },
  {
   "cell_type": "code",
   "execution_count": 5,
   "id": "7c1873f2",
   "metadata": {},
   "outputs": [
    {
     "name": "stdout",
     "output_type": "stream",
     "text": [
      "5\n",
      "5\n",
      "1234\n",
      "<class 'int'>\n"
     ]
    }
   ],
   "source": [
    "a=[1,2,3,4,5]\n",
    "print(len(a))\n",
    "\n",
    "Str='abcde'\n",
    "print(len(Str))\n",
    "\n",
    "string=1234\n",
    "print(str(string))\n",
    "print(type(string))"
   ]
  },
  {
   "cell_type": "code",
   "execution_count": 26,
   "id": "4f84c527",
   "metadata": {},
   "outputs": [
    {
     "name": "stdout",
     "output_type": "stream",
     "text": [
      "5\n",
      "Student is destroyed\n"
     ]
    }
   ],
   "source": [
    "class Student:\n",
    "    def __init__(self,rollno,name):\n",
    "        \n",
    "        self.rollno=rollno\n",
    "        self.name=name\n",
    "    \n",
    "    \n",
    "#magic method\n",
    "    def __str__(self):\n",
    "        print(\"Class str is called\")\n",
    "    def __len__(self):\n",
    "        return len(self.name)\n",
    "    \n",
    "    def __del__(self):\n",
    "        print(\"Student is destroyed\")\n",
    "        \n",
    "student=Student(12,\"Biraj\")\n",
    "# print(len(student))\n",
    "# print(str(student))\n",
    "# str(student)\n",
    "# print(str(Student))\n",
    "print(len(student))\n",
    "del student\n",
    "\n",
    "# print(student)\n"
   ]
  },
  {
   "cell_type": "code",
   "execution_count": 31,
   "id": "67dbb599",
   "metadata": {},
   "outputs": [
    {
     "name": "stdout",
     "output_type": "stream",
     "text": [
      "<class '__main__.Data'>\n",
      "200\n"
     ]
    }
   ],
   "source": [
    "class Data:\n",
    "    def __init__(self,value):\n",
    "        self.value=value\n",
    "    \n",
    "    def __mul__(self,other):\n",
    "        return Data(self.value*other.value)\n",
    "    \n",
    "a=Data(10)\n",
    "b=Data(20)\n",
    "c=a*b\n",
    "print(type(c))\n",
    "print(c.value)\n"
   ]
  },
  {
   "cell_type": "code",
   "execution_count": null,
   "id": "e521cd5f",
   "metadata": {},
   "outputs": [],
   "source": []
  },
  {
   "cell_type": "code",
   "execution_count": null,
   "id": "169d1bf0",
   "metadata": {},
   "outputs": [],
   "source": []
  },
  {
   "cell_type": "code",
   "execution_count": null,
   "id": "1c3c315b",
   "metadata": {},
   "outputs": [],
   "source": []
  }
 ],
 "metadata": {
  "kernelspec": {
   "display_name": "Python 3 (ipykernel)",
   "language": "python",
   "name": "python3"
  },
  "language_info": {
   "codemirror_mode": {
    "name": "ipython",
    "version": 3
   },
   "file_extension": ".py",
   "mimetype": "text/x-python",
   "name": "python",
   "nbconvert_exporter": "python",
   "pygments_lexer": "ipython3",
   "version": "3.9.12"
  }
 },
 "nbformat": 4,
 "nbformat_minor": 5
}
