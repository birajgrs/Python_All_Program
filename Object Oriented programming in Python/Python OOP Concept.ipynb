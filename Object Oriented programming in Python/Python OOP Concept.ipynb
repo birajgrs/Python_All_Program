{
 "cells": [
  {
   "cell_type": "code",
   "execution_count": 1,
   "id": "7e047b27",
   "metadata": {},
   "outputs": [
    {
     "name": "stdout",
     "output_type": "stream",
     "text": [
      "Ram\n",
      "20\n"
     ]
    }
   ],
   "source": [
    "\"\"\"\n",
    "Python Classes/Objects\n",
    "Python is an object oriented programming language.\n",
    "\n",
    "Almost everything in Python is an object, with its properties and methods.\n",
    "\n",
    " A Class is like an object constructor, or a \"blueprint\" for creating objects.\n",
    "Major principles of object-oriented programming system are given below.\n",
    "\n",
    "Class\n",
    "Object\n",
    "Method\n",
    "Inheritance\n",
    "Polymorphism\n",
    "Data Abstraction\n",
    "Encapsulation\n",
    "\n",
    "Class:::\n",
    "\n",
    "The class can be defined as a collection of objects. It is a logical entity that has some specific \n",
    "attributes and methods. \n",
    "\n",
    "Syntax:::\n",
    "\n",
    "class ClassName:     \n",
    "        <statement-1>     \n",
    "        .     \n",
    "        .      \n",
    "        <statement-N>     \n",
    "\n",
    "Object\n",
    "The object is an entity that has state and behavior. It may be any real-world object like the mouse, keyboard, \n",
    "chair, table, pen, etc.\n",
    "All classes have a function called __init__(), which is always executed when the class is being initiated.\n",
    "\n",
    "Use the __init__() function to assign values to object properties, or other operations that are necessary \n",
    "to do when the object is being created.\n",
    "\n",
    "\n",
    "Note: The __init__() function is called automatically every time the class is being used to create a new object.\n",
    "\n",
    "\"\"\"\n",
    "class Person:\n",
    "    def __init__(self,name,age):\n",
    "        self.name=name\n",
    "        self.age=age\n",
    "p1=Person(\"Ram\",20)\n",
    "print(p1.name)\n",
    "print(p1.age)\n"
   ]
  },
  {
   "cell_type": "code",
   "execution_count": 3,
   "id": "f0120bf0",
   "metadata": {},
   "outputs": [
    {
     "name": "stdout",
     "output_type": "stream",
     "text": [
      "Ram\n",
      "20\n"
     ]
    }
   ],
   "source": [
    "\"\"\"\n",
    "The __str__() Function:::\n",
    "The __str__() function controls what should be returned when the class object is represented as a string.\n",
    "\n",
    "If the __str__() function is not set, the string representation of the object is returned.\n",
    "\"\"\"\n",
    "class Person:\n",
    "    def __init__(self,name,age):\n",
    "        self.name=name\n",
    "        self.age=age\n",
    "    def __str__(self):\n",
    "        return f\"{self.name}({self.age})\"\n",
    "p1=Person(\"Ram\",20)\n",
    "print(p1.name)\n",
    "print(p1.age)\n"
   ]
  },
  {
   "cell_type": "code",
   "execution_count": 5,
   "id": "67f66efc",
   "metadata": {},
   "outputs": [
    {
     "name": "stdout",
     "output_type": "stream",
     "text": [
      "Hello my name is Ram\n"
     ]
    }
   ],
   "source": [
    "\"\"\"\n",
    "Object methods:::\n",
    "Objects can also contain methods. Methods in objects are functions \n",
    "that belong to the object.\n",
    "\"\"\"\n",
    "\"\"\"\n",
    "Python Classes/Objects\n",
    "Python is an object oriented programming language.\n",
    "\n",
    "Almost everything in Python is an object, with its properties and methods.\n",
    "\n",
    " A Class is like an object constructor, or a \"blueprint\" for creating objects.\n",
    "Major principles of object-oriented programming system are given below.\n",
    "\n",
    "Class\n",
    "Object\n",
    "Method\n",
    "Inheritance\n",
    "Polymorphism\n",
    "Data Abstraction\n",
    "Encapsulation\n",
    "\n",
    "Class:::\n",
    "\n",
    "The class can be defined as a collection of objects. It is a logical entity that has some specific \n",
    "attributes and methods. \n",
    "\n",
    "Syntax:::\n",
    "\n",
    "class ClassName:     \n",
    "        <statement-1>     \n",
    "        .     \n",
    "        .      \n",
    "        <statement-N>     \n",
    "\n",
    "Object\n",
    "The object is an entity that has state and behavior. It may be any real-world object like the mouse, keyboard, \n",
    "chair, table, pen, etc.\n",
    "All classes have a function called __init__(), which is always executed when the class is being initiated.\n",
    "\n",
    "Use the __init__() function to assign values to object properties, or other operations that are necessary \n",
    "to do when the object is being created.\n",
    "\n",
    "\n",
    "Note: The __init__() function is called automatically every time the class is being used to create a new object.\n",
    "\n",
    "\"\"\"\n",
    "class Person:\n",
    "    def __init__(self,name,age):\n",
    "        self.name=name\n",
    "        self.age=age\n",
    "    def func(self):\n",
    "        print(\"Hello my name is \" + self.name)\n",
    "p1=Person(\"Ram\",20)\n",
    "p1.func()\n",
    "\n"
   ]
  },
  {
   "cell_type": "code",
   "execution_count": 6,
   "id": "314e86a4",
   "metadata": {},
   "outputs": [],
   "source": [
    "\"\"\"\n",
    "The pass Statement\n",
    "class definitions cannot be empty, but if you for some reason have a class definition with no content, \n",
    "put in the pass statement to avoid getting an error.\n",
    "\n",
    "\"\"\"\n",
    "class Person:\n",
    "    pass"
   ]
  },
  {
   "cell_type": "code",
   "execution_count": 9,
   "id": "b9ee3e02",
   "metadata": {},
   "outputs": [
    {
     "name": "stdout",
     "output_type": "stream",
     "text": [
      "BMW 2018\n"
     ]
    }
   ],
   "source": [
    "class Car:\n",
    "    def __init__(self,modelname,year):\n",
    "        self.modelname=modelname\n",
    "        self.year=year\n",
    "    def display(self):\n",
    "        print(self.modelname,self.year)\n",
    "c1=Car(\"BMW\",2018)\n",
    "c1.display()"
   ]
  },
  {
   "cell_type": "code",
   "execution_count": 10,
   "id": "b2832b95",
   "metadata": {},
   "outputs": [
    {
     "name": "stdout",
     "output_type": "stream",
     "text": [
      "10\n"
     ]
    }
   ],
   "source": [
    "class MaxNumber:\n",
    "    def __init__(self, num1, num2):\n",
    "        self.num1 = num1\n",
    "        self.num2 = num2\n",
    "    \n",
    "    def get_max(self):\n",
    "        return max(self.num1, self.num2)\n",
    "\n",
    "# example usage\n",
    "max_num = MaxNumber(5, 10)\n",
    "print(max_num.get_max())  # output: 10\n"
   ]
  },
  {
   "cell_type": "code",
   "execution_count": 11,
   "id": "a66ebfbe",
   "metadata": {},
   "outputs": [
    {
     "name": "stdout",
     "output_type": "stream",
     "text": [
      "Enter the units consumed: 5000\n",
      "Electricity bill: $7345.00\n"
     ]
    }
   ],
   "source": [
    "# Python Program To Calculate Electricity Bill Of Person using Class\n",
    "class ElectricityBill:\n",
    "    def __init__(self, units):\n",
    "        self.units = units\n",
    "    \n",
    "    def calculate_bill(self):\n",
    "        if self.units <= 50:\n",
    "            return self.units * 0.50\n",
    "        elif self.units <= 150:\n",
    "            return (50 * 0.50) + ((self.units - 50) * 0.75)\n",
    "        elif self.units <= 250:\n",
    "            return (50 * 0.50) + (100 * 0.75) + ((self.units - 150) * 1.20)\n",
    "        else:\n",
    "            return (50 * 0.50) + (100 * 0.75) + (100 * 1.20) + ((self.units - 250) * 1.50)\n",
    "\n",
    "# example usage\n",
    "units = int(input(\"Enter the units consumed: \"))\n",
    "bill = ElectricityBill(units)\n",
    "print(f\"Electricity bill: ${bill.calculate_bill():.2f}\")\n"
   ]
  },
  {
   "cell_type": "code",
   "execution_count": 12,
   "id": "0111d5f4",
   "metadata": {},
   "outputs": [
    {
     "name": "stdout",
     "output_type": "stream",
     "text": [
      "Distance in meters: 1.72m\n"
     ]
    }
   ],
   "source": [
    "# Write a program that converts object of another distance class with data members feet and inch.\n",
    "# (Assume 1m=3.3 feet and 1cm=0.4 inch)\n",
    "\n",
    "class Distance:\n",
    "    def __init__(self, feet, inch):\n",
    "        self.feet = feet\n",
    "        self.inch = inch\n",
    "\n",
    "class ConvertToMeters:\n",
    "    def __init__(self, distance):\n",
    "        self.distance = distance\n",
    "    \n",
    "    def convert(self):\n",
    "        total_inches = self.distance.feet * 12 + self.distance.inch\n",
    "        total_feet = total_inches / 12\n",
    "        meters = total_feet / 3.3\n",
    "        return meters\n",
    "\n",
    "# example usage\n",
    "distance = Distance(5, 8)  # 5 feet 8 inches\n",
    "converter = ConvertToMeters(distance)\n",
    "print(f\"Distance in meters: {converter.convert():.2f}m\")\n"
   ]
  },
  {
   "cell_type": "code",
   "execution_count": null,
   "id": "3d43c3d7",
   "metadata": {},
   "outputs": [],
   "source": []
  },
  {
   "cell_type": "code",
   "execution_count": null,
   "id": "2addfe42",
   "metadata": {},
   "outputs": [],
   "source": []
  },
  {
   "cell_type": "code",
   "execution_count": null,
   "id": "683a2f8f",
   "metadata": {},
   "outputs": [],
   "source": []
  },
  {
   "cell_type": "code",
   "execution_count": null,
   "id": "bfcbada6",
   "metadata": {},
   "outputs": [],
   "source": []
  },
  {
   "cell_type": "code",
   "execution_count": null,
   "id": "172d6843",
   "metadata": {},
   "outputs": [],
   "source": []
  },
  {
   "cell_type": "code",
   "execution_count": null,
   "id": "cee48e06",
   "metadata": {},
   "outputs": [],
   "source": []
  },
  {
   "cell_type": "code",
   "execution_count": null,
   "id": "94b0eda7",
   "metadata": {},
   "outputs": [],
   "source": []
  },
  {
   "cell_type": "code",
   "execution_count": null,
   "id": "d1aec9b3",
   "metadata": {},
   "outputs": [],
   "source": []
  },
  {
   "cell_type": "code",
   "execution_count": null,
   "id": "43f635e1",
   "metadata": {},
   "outputs": [],
   "source": []
  },
  {
   "cell_type": "code",
   "execution_count": null,
   "id": "3f4f9f28",
   "metadata": {},
   "outputs": [],
   "source": []
  },
  {
   "cell_type": "code",
   "execution_count": null,
   "id": "0670de80",
   "metadata": {},
   "outputs": [],
   "source": []
  },
  {
   "cell_type": "code",
   "execution_count": null,
   "id": "1478a77d",
   "metadata": {},
   "outputs": [],
   "source": []
  },
  {
   "cell_type": "code",
   "execution_count": null,
   "id": "b873bc61",
   "metadata": {},
   "outputs": [],
   "source": []
  },
  {
   "cell_type": "code",
   "execution_count": null,
   "id": "60ff2e79",
   "metadata": {},
   "outputs": [],
   "source": []
  },
  {
   "cell_type": "code",
   "execution_count": null,
   "id": "f126acf8",
   "metadata": {},
   "outputs": [],
   "source": [
    "\n"
   ]
  }
 ],
 "metadata": {
  "kernelspec": {
   "display_name": "Python 3 (ipykernel)",
   "language": "python",
   "name": "python3"
  },
  "language_info": {
   "codemirror_mode": {
    "name": "ipython",
    "version": 3
   },
   "file_extension": ".py",
   "mimetype": "text/x-python",
   "name": "python",
   "nbconvert_exporter": "python",
   "pygments_lexer": "ipython3",
   "version": "3.9.12"
  }
 },
 "nbformat": 4,
 "nbformat_minor": 5
}
