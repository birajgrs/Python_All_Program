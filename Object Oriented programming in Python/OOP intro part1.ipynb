{
 "cells": [
  {
   "cell_type": "code",
   "execution_count": 5,
   "id": "963b4d31",
   "metadata": {},
   "outputs": [
    {
     "name": "stdout",
     "output_type": "stream",
     "text": [
      "8\n"
     ]
    }
   ],
   "source": [
    "class Rectangle():\n",
    "    def __init__(self,l,b):\n",
    "        self.l=l\n",
    "        self.b=b\n",
    "    def area(self):\n",
    "        return self.l*self.b\n",
    "\n",
    "obj=Rectangle(2,4)\n",
    "print(obj.area())"
   ]
  },
  {
   "cell_type": "code",
   "execution_count": 7,
   "id": "cab5c2d2",
   "metadata": {},
   "outputs": [
    {
     "name": "stdout",
     "output_type": "stream",
     "text": [
      "Enter radius:10\n",
      "10.0\n",
      "Area of the circle= 314.0\n"
     ]
    }
   ],
   "source": [
    "# Find area of the circle\n",
    "\n",
    "class Circle():\n",
    "#     def __init__(self,r):   Creation of constructor\n",
    "\n",
    "        self.r=r\n",
    "    def area_of_circle(self):\n",
    "        return 3.14*r*r\n",
    "r=float(input(\"Enter radius:\"))\n",
    "print(r)\n",
    "obj=Circle(r)\n",
    "print(\"Area of the circle=\",obj.area_of_circle())"
   ]
  },
  {
   "cell_type": "code",
   "execution_count": null,
   "id": "e924c670",
   "metadata": {},
   "outputs": [],
   "source": [
    "\"\"\"\n",
    "Write a program according to the specification given below:\n",
    "\n",
    "– Create a class Account with data members acc no, balance, and min_balance(static)\n",
    "-Include methods for reading and displaying values of objects\n",
    "– Define static member function to display min_balance\n",
    "-Create array of objects to store data of 5 accounts and read and display values of each object\n",
    "\"\"\""
   ]
  },
  {
   "cell_type": "code",
   "execution_count": null,
   "id": "45be4d1f",
   "metadata": {},
   "outputs": [],
   "source": [
    "class Account():\n",
    "    min_balance=float(input(\"Enter min_balance:\"))\n",
    "    print(\"Minimum balance (as a static) is \",min_balance)\n",
    "    def __init__(self,acc_no,balance):\n",
    "        self.acc_no=acc_no\n",
    "        self.balance=balance\n",
    "    def display(self):\n",
    "        print(\"Enter account number:\", self.acc_no)\n",
    "        print(\"Balance amount:\",self.balance)\n",
    "accounts=[]\n",
    "for i in range(5):\n",
    "    acc_no = int(input(f\"Enter Account Number for Account {i+1}: \"))\n",
    "    balance = float(input(f\"Enter Balance for Account {i+1}: \"))\n",
    "    account = Account(acc_no, balance)"
   ]
  },
  {
   "cell_type": "markdown",
   "id": "2a592069",
   "metadata": {},
   "source": [
    "# Codes for OOP"
   ]
  },
  {
   "cell_type": "code",
   "execution_count": 2,
   "id": "9bfe5488",
   "metadata": {},
   "outputs": [
    {
     "name": "stdout",
     "output_type": "stream",
     "text": [
      "<class 'str'>\n",
      "<class 'int'>\n"
     ]
    }
   ],
   "source": [
    "x=1\n",
    "print(type(\"Hello\"))\n",
    "print(type(x))"
   ]
  },
  {
   "cell_type": "code",
   "execution_count": 8,
   "id": "f42ed2dd",
   "metadata": {},
   "outputs": [
    {
     "name": "stdout",
     "output_type": "stream",
     "text": [
      "<class 'function'>\n"
     ]
    }
   ],
   "source": [
    "def hello():\n",
    "    print(\"hello\")\n",
    "x=1\n",
    "print(type(hello))"
   ]
  },
  {
   "cell_type": "code",
   "execution_count": 12,
   "id": "0834d418",
   "metadata": {},
   "outputs": [],
   "source": [
    "# x=1\n",
    "# y=\"hello\"\n",
    "# print(x+y)"
   ]
  },
  {
   "cell_type": "code",
   "execution_count": 13,
   "id": "bb1af0bd",
   "metadata": {},
   "outputs": [
    {
     "name": "stdout",
     "output_type": "stream",
     "text": [
      "HELLO\n"
     ]
    }
   ],
   "source": [
    "string=\"hello\"\n",
    "print(string.upper())    #upper() is a method"
   ]
  },
  {
   "cell_type": "code",
   "execution_count": 21,
   "id": "82339629",
   "metadata": {},
   "outputs": [
    {
     "name": "stdout",
     "output_type": "stream",
     "text": [
      "bark\n",
      "<class '__main__.Dog'>\n",
      "<__main__.Dog object at 0x0000014C2FA2B6D0>\n"
     ]
    }
   ],
   "source": [
    "#Creating a class\n",
    "\n",
    "class Dog:\n",
    "    \n",
    "    def bark(self):\n",
    "        print(\"bark\")\n",
    "d=Dog()\n",
    "d.bark()\n",
    "print(type(d))\n",
    "print(d)\n",
    "\n"
   ]
  },
  {
   "cell_type": "code",
   "execution_count": 22,
   "id": "5eb8b41c",
   "metadata": {},
   "outputs": [
    {
     "name": "stdout",
     "output_type": "stream",
     "text": [
      "bark\n",
      "6\n",
      "<class '__main__.Dog'>\n"
     ]
    }
   ],
   "source": [
    "\n",
    "class Dog:\n",
    "    def add_one(self,x):\n",
    "        return x+1\n",
    "    def bark(self):\n",
    "        print(\"bark\")\n",
    "d=Dog()\n",
    "d.bark()\n",
    "print(d.add_one(5))\n",
    "print(type(d))"
   ]
  },
  {
   "cell_type": "code",
   "execution_count": 25,
   "id": "9118c216",
   "metadata": {},
   "outputs": [
    {
     "name": "stdout",
     "output_type": "stream",
     "text": [
      "Tim\n",
      "Bill\n"
     ]
    }
   ],
   "source": [
    "class Dog:\n",
    "    \n",
    "    def __init__(self,name):\n",
    "        self.name=name\n",
    "    \n",
    "#         print(name)\n",
    "        \n",
    "    def add_one(self,x):\n",
    "        return x+1\n",
    "    def bark(self):\n",
    "        print(\"bark\")\n",
    "d=Dog(\"Tim\")\n",
    "d2=Dog(\"Bill\")\n",
    "print(d.name)\n",
    "print(d2.name)\n"
   ]
  },
  {
   "cell_type": "code",
   "execution_count": 29,
   "id": "3521e8ea",
   "metadata": {},
   "outputs": [
    {
     "name": "stdout",
     "output_type": "stream",
     "text": [
      "Tim\n",
      "4\n",
      "Bill\n",
      "2\n"
     ]
    }
   ],
   "source": [
    "class Dog:\n",
    "    \n",
    "    def __init__(self,name,age):\n",
    "        self.name=name\n",
    "        self.age=age\n",
    "    def get_name(self):\n",
    "        return self.name\n",
    "    def get_age(self):\n",
    "        return self.age\n",
    "    \n",
    "d=Dog(\"Tim\",4)\n",
    "d2=Dog(\"Bill\",2)\n",
    "print(d.get_name())   #Attributes\n",
    "print(d.get_age()) \n",
    "print(d2.get_name())\n",
    "print(d2.get_age()) "
   ]
  },
  {
   "cell_type": "code",
   "execution_count": 41,
   "id": "00204c97",
   "metadata": {},
   "outputs": [
    {
     "name": "stdout",
     "output_type": "stream",
     "text": [
      "False\n",
      "Hari\n",
      "0.0\n"
     ]
    }
   ],
   "source": [
    "#Multiple Classes\n",
    "\n",
    "class Student:\n",
    "    \n",
    "    \n",
    "    def __init__(self,name,age,grade):\n",
    "        self.name=name\n",
    "        self.age=age\n",
    "        self.grade=grade\n",
    "        \n",
    "    def get_grade(self):\n",
    "        return self.grade\n",
    "    \n",
    "class Course:\n",
    "    def __init__(self,name,max_students):\n",
    "        self.name=name\n",
    "        self.max_students=max_students\n",
    "        self.students=[]\n",
    "        self.is_active=False\n",
    "    \n",
    "    \n",
    "#     Adding Students\n",
    "\n",
    "    def add_student(self,student):\n",
    "        if len(self.students)<self.max_students:\n",
    "            self.students.append(student)\n",
    "            return True\n",
    "        return False\n",
    "    \n",
    "    def get_average_grade(self):\n",
    "        value=0\n",
    "        for student in self.students:\n",
    "            value==student.get_grade()\n",
    "        return value/len(self.students) \n",
    "            \n",
    "    \n",
    "s1=Student(\"Ram\",20,90)\n",
    "s2=Student(\"Shyam\",19,80)\n",
    "s1=Student(\"Hari\",21,85)\n",
    "course=Course(\"Science\",2)\n",
    "course.add_student(s1)\n",
    "course.add_student(s2)\n",
    "print(course.students[0].name)\n",
    "print(course.get_average_grade())\n",
    "    \n"
   ]
  },
  {
   "cell_type": "code",
   "execution_count": null,
   "id": "ad6c9ccb",
   "metadata": {},
   "outputs": [],
   "source": []
  }
 ],
 "metadata": {
  "kernelspec": {
   "display_name": "Python 3 (ipykernel)",
   "language": "python",
   "name": "python3"
  },
  "language_info": {
   "codemirror_mode": {
    "name": "ipython",
    "version": 3
   },
   "file_extension": ".py",
   "mimetype": "text/x-python",
   "name": "python",
   "nbconvert_exporter": "python",
   "pygments_lexer": "ipython3",
   "version": "3.9.12"
  }
 },
 "nbformat": 4,
 "nbformat_minor": 5
}
