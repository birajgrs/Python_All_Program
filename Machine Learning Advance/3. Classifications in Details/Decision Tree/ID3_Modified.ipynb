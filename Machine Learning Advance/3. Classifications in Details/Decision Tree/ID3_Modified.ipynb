{
 "cells": [
  {
   "cell_type": "code",
   "execution_count": 1,
   "id": "b72384a2",
   "metadata": {},
   "outputs": [],
   "source": [
    "#Importing Libraries\n",
    "import pandas as pd\n",
    "import numpy as np\n",
    "from collections import Counter\n",
    "from graphviz import Digraph\n"
   ]
  },
  {
   "cell_type": "code",
   "execution_count": 2,
   "id": "c037c669",
   "metadata": {},
   "outputs": [],
   "source": [
    "# Reading the data from 'play_tennis.csv' into a DataFrame named df_tennis\n",
    "df_tennis=pd.read_csv('play_tennis.csv')"
   ]
  },
  {
   "cell_type": "code",
   "execution_count": 3,
   "id": "28c8618d",
   "metadata": {},
   "outputs": [
    {
     "data": {
      "text/html": [
       "<div>\n",
       "<style scoped>\n",
       "    .dataframe tbody tr th:only-of-type {\n",
       "        vertical-align: middle;\n",
       "    }\n",
       "\n",
       "    .dataframe tbody tr th {\n",
       "        vertical-align: top;\n",
       "    }\n",
       "\n",
       "    .dataframe thead th {\n",
       "        text-align: right;\n",
       "    }\n",
       "</style>\n",
       "<table border=\"1\" class=\"dataframe\">\n",
       "  <thead>\n",
       "    <tr style=\"text-align: right;\">\n",
       "      <th></th>\n",
       "      <th>day</th>\n",
       "      <th>outlook</th>\n",
       "      <th>temp</th>\n",
       "      <th>humidity</th>\n",
       "      <th>wind</th>\n",
       "      <th>play</th>\n",
       "    </tr>\n",
       "  </thead>\n",
       "  <tbody>\n",
       "    <tr>\n",
       "      <th>0</th>\n",
       "      <td>D1</td>\n",
       "      <td>Sunny</td>\n",
       "      <td>Hot</td>\n",
       "      <td>High</td>\n",
       "      <td>Weak</td>\n",
       "      <td>No</td>\n",
       "    </tr>\n",
       "    <tr>\n",
       "      <th>1</th>\n",
       "      <td>D2</td>\n",
       "      <td>Sunny</td>\n",
       "      <td>Hot</td>\n",
       "      <td>High</td>\n",
       "      <td>Strong</td>\n",
       "      <td>No</td>\n",
       "    </tr>\n",
       "    <tr>\n",
       "      <th>2</th>\n",
       "      <td>D3</td>\n",
       "      <td>Overcast</td>\n",
       "      <td>Hot</td>\n",
       "      <td>High</td>\n",
       "      <td>Weak</td>\n",
       "      <td>Yes</td>\n",
       "    </tr>\n",
       "    <tr>\n",
       "      <th>3</th>\n",
       "      <td>D4</td>\n",
       "      <td>Rain</td>\n",
       "      <td>Mild</td>\n",
       "      <td>High</td>\n",
       "      <td>Weak</td>\n",
       "      <td>Yes</td>\n",
       "    </tr>\n",
       "    <tr>\n",
       "      <th>4</th>\n",
       "      <td>D5</td>\n",
       "      <td>Rain</td>\n",
       "      <td>Cool</td>\n",
       "      <td>Normal</td>\n",
       "      <td>Weak</td>\n",
       "      <td>Yes</td>\n",
       "    </tr>\n",
       "  </tbody>\n",
       "</table>\n",
       "</div>"
      ],
      "text/plain": [
       "  day   outlook  temp humidity    wind play\n",
       "0  D1     Sunny   Hot     High    Weak   No\n",
       "1  D2     Sunny   Hot     High  Strong   No\n",
       "2  D3  Overcast   Hot     High    Weak  Yes\n",
       "3  D4      Rain  Mild     High    Weak  Yes\n",
       "4  D5      Rain  Cool   Normal    Weak  Yes"
      ]
     },
     "execution_count": 3,
     "metadata": {},
     "output_type": "execute_result"
    }
   ],
   "source": [
    "# Display the first few rows of the DataFrame\n",
    "df_tennis.head()"
   ]
  },
  {
   "cell_type": "code",
   "execution_count": 4,
   "id": "afcca881",
   "metadata": {},
   "outputs": [],
   "source": [
    "# Entropy=-Σ(p_i * log2(p_i))\n",
    "# Function to calculate the entropy of a list\n",
    "def entropy_list(a_list):\n",
    "    \n",
    "     # Count the occurrences of each unique value in the list using Counter\n",
    "    cnt=Counter(x for x in a_list)\n",
    "    # Calculate the total number of instances in the list\n",
    "    num_instance=len(a_list)*1.0\n",
    "     # Calculate the probabilities of each unique value in the list\n",
    "    probs=[x/num_instance for x in cnt.values()]\n",
    "        \n",
    "    # Calculate the entropy using the formula: entropy = -Σ(p_i * log2(p_i))\n",
    "    entropy = -sum(p * np.log2(p) for p in probs if p > 0)\n",
    "    return entropy(probs)\n",
    "\n"
   ]
  },
  {
   "cell_type": "code",
   "execution_count": 5,
   "id": "33415f6d",
   "metadata": {},
   "outputs": [],
   "source": [
    "#  We can also calculate math by using this method\n",
    "import math\n",
    "def entropy(probs):\n",
    "    return sum([-prob*math.log(prob,2)] for prob in probs)"
   ]
  },
  {
   "cell_type": "code",
   "execution_count": 6,
   "id": "a59c2979",
   "metadata": {},
   "outputs": [],
   "source": [
    "# Information Gain: Gain(T,X)=Entropy(T)-Entropy(T,X)\n",
    "# Function to calculate the Information Gain of a split in a DataFrame\n",
    "def info_gain(df, split, target, trace=0):\n",
    "    # Group the DataFrame by the given 'split' attribute\n",
    "    df_split = df.groupby(split)\n",
    "    \n",
    "    # Calculate the total number of observations in the DataFrame\n",
    "    nobs = len(df.index) * 1.0\n",
    "    \n",
    "    # Calculate the entropy and proportion of observed instances for each group after the split\n",
    "    df_agg_ent = df_split.agg({target: [entropy_list, lambda x: len(x) / nobs]})\n",
    "    \n",
    "    # Rename the columns to more meaningful names\n",
    "    df_agg_ent.columns = ['Entropy', 'PropObserved']\n",
    "    \n",
    "    # Calculate the new entropy after the split by summing the product of entropy and proportion for each group\n",
    "    new_entropy = sum(df_agg_ent['Entropy'] * df_agg_ent[\"PropObserved\"])\n",
    "    \n",
    "    # Calculate the entropy of the target variable before the split\n",
    "    old_entropy = entropy_list(df[target])\n",
    "    \n",
    "    # Calculate and return the Information Gain by subtracting the new entropy from the old entropy\n",
    "    return old_entropy - new_entropy\n"
   ]
  },
  {
   "cell_type": "code",
   "execution_count": 7,
   "id": "cfd7c9a4",
   "metadata": {},
   "outputs": [],
   "source": [
    "# Function to build the ID3 decision tree\n",
    "def id3(df, target, attribute_name, default_class=None):\n",
    "    # Count the occurrences of each class (target) in the DataFrame\n",
    "    cnt = Counter(x for x in df[target])\n",
    "    \n",
    "    # If there is only one class in the DataFrame, return that class as the leaf node\n",
    "    if len(cnt) == 1:\n",
    "        return next(iter(cnt))\n",
    "    \n",
    "    # If the DataFrame is empty or there are no attributes left to consider, return the default class\n",
    "    elif df.empty or (not attribute_name):\n",
    "        return default_class\n",
    "    \n",
    "    # Otherwise, proceed with building the decision tree\n",
    "    else:\n",
    "        # Set the default class to the class with the maximum occurrences\n",
    "        default_class = max(cnt.keys())\n",
    "        \n",
    "        # Calculate the Information Gain for each attribute in the attribute_name list\n",
    "        gains = [info_gain(df, attr, target) for attr in attribute_name]\n",
    "        \n",
    "        # Find the index of the attribute with the maximum Information Gain\n",
    "        index_max = gains.index(max(gains))\n",
    "        \n",
    "        # Select the attribute with the maximum Information Gain as the best attribute for the current node\n",
    "        best_attr = attribute_name[index_max]\n",
    "        \n",
    "        # Initialize the decision tree with the best attribute as the root node\n",
    "        tree = {best_attr: {}}\n",
    "        \n",
    "        # Remove the best attribute from the list of remaining attributes\n",
    "        remaining_attribute = {x for x in attribute_name if x != best_attr}\n",
    "        \n",
    "        # Split the data based on the values of the best attribute and build subtrees recursively\n",
    "        for attr_val, data_subset in df.groupby(best_attr):\n",
    "            subtree = id3(data_subset, target, remaining_attribute, default_class)\n",
    "            tree[best_attr][attr_val] = subtree\n",
    "        \n",
    "        # Return the constructed decision tree\n",
    "        return tree\n"
   ]
  },
  {
   "cell_type": "code",
   "execution_count": 8,
   "id": "53174d49",
   "metadata": {},
   "outputs": [],
   "source": [
    "# Function to classify an instance using the decision tree\n",
    "def classify(instance, tree, default=None):\n",
    "    # Get the attribute of the current node (root node of the subtree)\n",
    "    attribute = next(iter(tree))\n",
    "    \n",
    "    # Check if the value of the instance for the current attribute is present in the tree\n",
    "    if instance[attribute] in tree[attribute].keys():\n",
    "        # If the value is present, move to the corresponding subtree\n",
    "        result = tree[attribute][instance[attribute]]\n",
    "        \n",
    "        # Check if the result is a dictionary, indicating there are more nodes in the tree\n",
    "        if isinstance(result, dict):\n",
    "            # Recursively call the classify function to move further down the tree\n",
    "            return classify(instance, result)\n",
    "        else:\n",
    "            # If the result is not a dictionary, it is the class label (leaf node)\n",
    "            return result\n",
    "    else:\n",
    "        # If the value is not present in the tree, return the default class label (if provided)\n",
    "        return default\n"
   ]
  },
  {
   "cell_type": "code",
   "execution_count": 9,
   "id": "e9012fb2",
   "metadata": {},
   "outputs": [
    {
     "name": "stdout",
     "output_type": "stream",
     "text": [
      "The 'PlayTennis' attribute is not present in the DataFrame columns.\n"
     ]
    }
   ],
   "source": [
    "# Convert all column names in the DataFrame to lowercase for case insensitivity\n",
    "df_tennis.columns = [col.lower() for col in df_tennis.columns]\n",
    "\n",
    "# Check if the 'PlayTennis' attribute is present in the DataFrame columns\n",
    "if 'playtennis' in df_tennis.columns:\n",
    "    attribute_names = list(df_tennis.columns)\n",
    "    attribute_names.remove('playtennis')  # Remove the class attribute\n",
    "    tree = id3(df_tennis, 'playtennis', attribute_names)\n",
    "\n",
    "    print(\"\\n\\n The Resultant Decision Tree is:\\n\")\n",
    "    print(tree)\n",
    "else:\n",
    "    print(\"The 'PlayTennis' attribute is not present in the DataFrame columns.\")\n"
   ]
  },
  {
   "cell_type": "code",
   "execution_count": 13,
   "id": "ede86692",
   "metadata": {},
   "outputs": [
    {
     "name": "stdout",
     "output_type": "stream",
     "text": [
      "The 'playtennis' attribute is not present in the DataFrame columns.\n"
     ]
    }
   ],
   "source": [
    "\n"
   ]
  },
  {
   "cell_type": "code",
   "execution_count": null,
   "id": "818de431",
   "metadata": {},
   "outputs": [],
   "source": []
  },
  {
   "cell_type": "code",
   "execution_count": null,
   "id": "5a46e050",
   "metadata": {},
   "outputs": [],
   "source": []
  }
 ],
 "metadata": {
  "kernelspec": {
   "display_name": "Python 3 (ipykernel)",
   "language": "python",
   "name": "python3"
  },
  "language_info": {
   "codemirror_mode": {
    "name": "ipython",
    "version": 3
   },
   "file_extension": ".py",
   "mimetype": "text/x-python",
   "name": "python",
   "nbconvert_exporter": "python",
   "pygments_lexer": "ipython3",
   "version": "3.9.12"
  }
 },
 "nbformat": 4,
 "nbformat_minor": 5
}
