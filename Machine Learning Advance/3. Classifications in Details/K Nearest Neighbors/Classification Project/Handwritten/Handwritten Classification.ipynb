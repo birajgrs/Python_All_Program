{
 "cells": [
  {
   "cell_type": "code",
   "execution_count": 1,
   "id": "d2239a68",
   "metadata": {},
   "outputs": [],
   "source": [
    "#  Importing Libraries\n",
    "\n",
    "import pandas as pd\n",
    "import numpy as np\n",
    "\n",
    "from sklearn import datasets\n",
    "from sklearn.model_selection import train_test_split\n",
    "\n",
    "from sklearn.tree import DecisionTreeClassifier\n",
    "\n",
    "from sklearn.neighbors import KNeighborsClassifier\n",
    "\n",
    "from sklearn.naive_bayes import GaussianNB\n",
    "from sklearn.metrics import accuracy_score, precision_score, recall_score, f1_score, roc_curve, roc_auc_score\n",
    "\n",
    "import matplotlib.pyplot as plt"
   ]
  },
  {
   "cell_type": "code",
   "execution_count": 4,
   "id": "b6479e57",
   "metadata": {},
   "outputs": [],
   "source": [
    "#  Loading the datasets\n",
    "\n",
    "digits=datasets.load_digits()\n",
    "\n",
    "#  Features and labels  (i.e data and target )\n",
    "X=digits.data\n",
    "y=digits.target"
   ]
  },
  {
   "cell_type": "code",
   "execution_count": 6,
   "id": "37ff1c57",
   "metadata": {},
   "outputs": [
    {
     "name": "stdout",
     "output_type": "stream",
     "text": [
      "[ 0.  0.  5. 13.  9.  1.  0.  0.  0.  0. 13. 15. 10. 15.  5.  0.  0.  3.\n",
      " 15.  2.  0. 11.  8.  0.  0.  4. 12.  0.  0.  8.  8.  0.  0.  5.  8.  0.\n",
      "  0.  9.  8.  0.  0.  4. 11.  0.  1. 12.  7.  0.  0.  2. 14.  5. 10. 12.\n",
      "  0.  0.  0.  0.  6. 13. 10.  0.  0.  0.] 0\n"
     ]
    }
   ],
   "source": [
    "print(X[0],y[0])"
   ]
  },
  {
   "cell_type": "code",
   "execution_count": 7,
   "id": "f4caa0dc",
   "metadata": {},
   "outputs": [],
   "source": [
    "# Split the dataset into training and testing sets\n",
    "X_train, X_test, y_train, y_test = train_test_split(X, y, test_size=0.2, random_state=42)"
   ]
  },
  {
   "cell_type": "code",
   "execution_count": 12,
   "id": "ce948446",
   "metadata": {},
   "outputs": [
    {
     "data": {
      "text/plain": [
       "DecisionTreeClassifier(random_state=42)"
      ]
     },
     "execution_count": 12,
     "metadata": {},
     "output_type": "execute_result"
    }
   ],
   "source": [
    "# Create and train a Decision Tree classifier\n",
    "dt_classifier = DecisionTreeClassifier(random_state=42)\n",
    "dt_classifier.fit(X_train, y_train)"
   ]
  },
  {
   "cell_type": "code",
   "execution_count": 13,
   "id": "b8627c8e",
   "metadata": {},
   "outputs": [
    {
     "data": {
      "text/plain": [
       "KNeighborsClassifier()"
      ]
     },
     "execution_count": 13,
     "metadata": {},
     "output_type": "execute_result"
    }
   ],
   "source": [
    "# Create and train a k-Nearest Neighbors classifier\n",
    "knn_classifier = KNeighborsClassifier(n_neighbors=5)\n",
    "knn_classifier.fit(X_train, y_train)"
   ]
  },
  {
   "cell_type": "code",
   "execution_count": 14,
   "id": "a9e05d7e",
   "metadata": {},
   "outputs": [
    {
     "data": {
      "text/plain": [
       "GaussianNB()"
      ]
     },
     "execution_count": 14,
     "metadata": {},
     "output_type": "execute_result"
    }
   ],
   "source": [
    "# Create and train a Naive Bayes classifier (Gaussian Naive Bayes)\n",
    "nb_classifier = GaussianNB()\n",
    "nb_classifier.fit(X_train, y_train)"
   ]
  },
  {
   "cell_type": "code",
   "execution_count": 20,
   "id": "447c7f99",
   "metadata": {},
   "outputs": [
    {
     "name": "stdout",
     "output_type": "stream",
     "text": [
      "Accuracy from  Decision Tree: 0.8416666666666667\n",
      "Precision from  Decision Tree: 0.8456094561708596\n",
      "Recall from  Decision Tree: 0.8416666666666667\n",
      "F1-score from  Decision Tree: 0.8417863834021484\n"
     ]
    }
   ],
   "source": [
    "# Evaluate the Decision Tree model\n",
    "dt_pred = dt_classifier.predict(X_test)\n",
    "dt_accuracy = accuracy_score(y_test, dt_pred)\n",
    "dt_precision = precision_score(y_test, dt_pred, average='weighted')\n",
    "dt_recall = recall_score(y_test, dt_pred, average='weighted')\n",
    "dt_f1 = f1_score(y_test, dt_pred, average='weighted')\n",
    "\n",
    "print('Accuracy from  Decision Tree:',dt_accuracy)\n",
    "print('Precision from  Decision Tree:',dt_precision)\n",
    "print('Recall from  Decision Tree:',dt_recall)\n",
    "print('F1-score from  Decision Tree:',dt_f1)"
   ]
  },
  {
   "cell_type": "code",
   "execution_count": 21,
   "id": "60d14c6d",
   "metadata": {},
   "outputs": [
    {
     "name": "stdout",
     "output_type": "stream",
     "text": [
      "Accuracy from  naive_bayes: 0.8472222222222222\n",
      "Precision from  naive_bayes: 0.8750603074057791\n",
      "Recall from  naive_bayes: 0.8472222222222222\n",
      "F1-score from  naive_bayes: 0.8489770318561581\n"
     ]
    }
   ],
   "source": [
    "# Evaluate the Naive Bayes model\n",
    "nb_pred = nb_classifier.predict(X_test)\n",
    "nb_accuracy = accuracy_score(y_test, nb_pred)\n",
    "nb_precision = precision_score(y_test, nb_pred, average='weighted')\n",
    "nb_recall = recall_score(y_test, nb_pred, average='weighted')\n",
    "nb_f1 = f1_score(y_test, nb_pred, average='weighted')\n",
    "\n",
    "print('Accuracy from  naive_bayes:',nb_accuracy)\n",
    "print('Precision from  naive_bayes:',nb_precision)\n",
    "print('Recall from  naive_bayes:',nb_recall)\n",
    "print('F1-score from  naive_bayes:',nb_f1)"
   ]
  },
  {
   "cell_type": "code",
   "execution_count": 22,
   "id": "4e84d3a3",
   "metadata": {},
   "outputs": [
    {
     "name": "stdout",
     "output_type": "stream",
     "text": [
      "Accuracy from  k-NN model: 0.9861111111111112\n",
      "Precision from  k-NN model: 0.9861869867863546\n",
      "Recall from  k-NN model: 0.9861111111111112\n",
      "F1-score from  k-NN model: 0.9860800746632832\n"
     ]
    }
   ],
   "source": [
    "# Evaluate the k-NN model\n",
    "knn_pred = knn_classifier.predict(X_test)\n",
    "knn_accuracy = accuracy_score(y_test, knn_pred)\n",
    "knn_precision = precision_score(y_test, knn_pred, average='weighted')\n",
    "knn_recall = recall_score(y_test, knn_pred, average='weighted')\n",
    "knn_f1 = f1_score(y_test, knn_pred, average='weighted')\n",
    "\n",
    "\n",
    "print('Accuracy from  k-NN model:',knn_accuracy)\n",
    "print('Precision from  k-NN model:',knn_precision)\n",
    "print('Recall from  k-NN model:',knn_recall)\n",
    "print('F1-score from  k-NN model:',knn_f1)"
   ]
  },
  {
   "cell_type": "code",
   "execution_count": 26,
   "id": "53102bc5",
   "metadata": {},
   "outputs": [
    {
     "name": "stdout",
     "output_type": "stream",
     "text": [
      "Decision Tree:\n",
      "Accuracy: 0.84\n",
      "Precision: 0.85\n",
      "Recall: 0.84\n",
      "F1-Score: 0.84\n"
     ]
    }
   ],
   "source": [
    "# Print evaluation metrics\n",
    "print(\"Decision Tree:\")\n",
    "print(f\"Accuracy: {dt_accuracy:.2f}\")\n",
    "print(f\"Precision: {dt_precision:.2f}\")\n",
    "print(f\"Recall: {dt_recall:.2f}\")\n",
    "print(f\"F1-Score: {dt_f1:.2f}\")\n"
   ]
  },
  {
   "cell_type": "code",
   "execution_count": 27,
   "id": "5d2cefda",
   "metadata": {},
   "outputs": [
    {
     "name": "stdout",
     "output_type": "stream",
     "text": [
      "\n",
      "k-Nearest Neighbors:\n",
      "Accuracy: 0.99\n",
      "Precision: 0.99\n",
      "Recall: 0.99\n",
      "F1-Score: 0.99\n",
      "\n",
      "Naive Bayes:\n",
      "Accuracy: 0.85\n",
      "Precision: 0.88\n",
      "Recall: 0.85\n",
      "F1-Score: 0.85\n"
     ]
    }
   ],
   "source": [
    "\n",
    "print(\"\\nk-Nearest Neighbors:\")\n",
    "print(f\"Accuracy: {knn_accuracy:.2f}\")\n",
    "print(f\"Precision: {knn_precision:.2f}\")\n",
    "print(f\"Recall: {knn_recall:.2f}\")\n",
    "print(f\"F1-Score: {knn_f1:.2f}\")\n"
   ]
  },
  {
   "cell_type": "code",
   "execution_count": 28,
   "id": "6479ed0d",
   "metadata": {},
   "outputs": [
    {
     "name": "stdout",
     "output_type": "stream",
     "text": [
      "\n",
      "Naive Bayes:\n",
      "Accuracy: 0.85\n",
      "Precision: 0.88\n",
      "Recall: 0.85\n",
      "F1-Score: 0.85\n"
     ]
    }
   ],
   "source": [
    "print(\"\\nNaive Bayes:\")\n",
    "print(f\"Accuracy: {nb_accuracy:.2f}\")\n",
    "print(f\"Precision: {nb_precision:.2f}\")\n",
    "print(f\"Recall: {nb_recall:.2f}\")\n",
    "print(f\"F1-Score: {nb_f1:.2f}\")"
   ]
  },
  {
   "cell_type": "code",
   "execution_count": 29,
   "id": "acde8f65",
   "metadata": {},
   "outputs": [
    {
     "data": {
      "text/plain": [
       "<Figure size 720x432 with 0 Axes>"
      ]
     },
     "execution_count": 29,
     "metadata": {},
     "output_type": "execute_result"
    },
    {
     "data": {
      "text/plain": [
       "<Figure size 720x432 with 0 Axes>"
      ]
     },
     "metadata": {},
     "output_type": "display_data"
    }
   ],
   "source": [
    "# Define the classifiers and their corresponding evaluation metrics\n",
    "classifiers = ['Decision Tree', 'k-NN', 'Naive Bayes']\n",
    "accuracy_scores = [dt_accuracy, knn_accuracy, nb_accuracy]\n",
    "precision_scores = [dt_precision, knn_precision, nb_precision]\n",
    "recall_scores = [dt_recall, knn_recall, nb_recall]\n",
    "f1_scores = [dt_f1, knn_f1, nb_f1]\n",
    "\n",
    "# Plotting the evaluation metrics\n",
    "plt.figure(figsize=(10, 6))"
   ]
  },
  {
   "cell_type": "code",
   "execution_count": 30,
   "id": "acedae2b",
   "metadata": {},
   "outputs": [
    {
     "data": {
      "text/plain": [
       "Text(0.5, 1.0, 'Accuracy Comparison')"
      ]
     },
     "execution_count": 30,
     "metadata": {},
     "output_type": "execute_result"
    },
    {
     "data": {
      "image/png": "[encoded data removed]",
      "text/plain": [
       "<Figure size 432x288 with 1 Axes>"
      ]
     },
     "metadata": {
      "needs_background": "light"
     },
     "output_type": "display_data"
    }
   ],
   "source": [
    "# Accuracy plot\n",
    "plt.subplot(2, 2, 1)\n",
    "plt.bar(classifiers, accuracy_scores, color='blue')\n",
    "plt.ylabel('Accuracy')\n",
    "plt.title('Accuracy Comparison')"
   ]
  },
  {
   "cell_type": "code",
   "execution_count": 31,
   "id": "64f0ba07",
   "metadata": {},
   "outputs": [
    {
     "data": {
      "text/plain": [
       "Text(0.5, 1.0, 'Precision Comparison')"
      ]
     },
     "execution_count": 31,
     "metadata": {},
     "output_type": "execute_result"
    },
    {
     "data": {
      "image/png": "[encoded data removed]",
      "text/plain": [
       "<Figure size 432x288 with 1 Axes>"
      ]
     },
     "metadata": {
      "needs_background": "light"
     },
     "output_type": "display_data"
    }
   ],
   "source": [
    "# Precision plot\n",
    "plt.subplot(2, 2, 2)\n",
    "plt.bar(classifiers, precision_scores, color='green')\n",
    "plt.ylabel('Precision')\n",
    "plt.title('Precision Comparison')"
   ]
  },
  {
   "cell_type": "code",
   "execution_count": 32,
   "id": "bf843b8d",
   "metadata": {},
   "outputs": [
    {
     "data": {
      "text/plain": [
       "Text(0.5, 1.0, 'Recall Comparison')"
      ]
     },
     "execution_count": 32,
     "metadata": {},
     "output_type": "execute_result"
    },
    {
     "data": {
      "image/png": "[encoded data removed]",
      "text/plain": [
       "<Figure size 432x288 with 1 Axes>"
      ]
     },
     "metadata": {
      "needs_background": "light"
     },
     "output_type": "display_data"
    }
   ],
   "source": [
    "# Recall plot\n",
    "plt.subplot(2, 2, 3)\n",
    "plt.bar(classifiers, recall_scores, color='orange')\n",
    "plt.ylabel('Recall')\n",
    "plt.title('Recall Comparison')"
   ]
  },
  {
   "cell_type": "code",
   "execution_count": 33,
   "id": "14b77668",
   "metadata": {},
   "outputs": [
    {
     "data": {
      "text/plain": [
       "Text(0.5, 1.0, 'F1-Score Comparison')"
      ]
     },
     "execution_count": 33,
     "metadata": {},
     "output_type": "execute_result"
    },
    {
     "data": {
      "image/png": "[encoded data removed]",
      "text/plain": [
       "<Figure size 432x288 with 1 Axes>"
      ]
     },
     "metadata": {
      "needs_background": "light"
     },
     "output_type": "display_data"
    }
   ],
   "source": [
    "# F1-Score plot\n",
    "plt.subplot(2, 2, 4)\n",
    "plt.bar(classifiers, f1_scores, color='red')\n",
    "plt.ylabel('F1-Score')\n",
    "plt.title('F1-Score Comparison')"
   ]
  },
  {
   "cell_type": "code",
   "execution_count": 34,
   "id": "8049fba8",
   "metadata": {},
   "outputs": [
    {
     "data": {
      "text/plain": [
       "<Figure size 432x288 with 0 Axes>"
      ]
     },
     "metadata": {},
     "output_type": "display_data"
    }
   ],
   "source": [
    "plt.tight_layout()\n",
    "plt.show()"
   ]
  },
  {
   "cell_type": "code",
   "execution_count": null,
   "id": "462947df",
   "metadata": {},
   "outputs": [],
   "source": []
  }
 ],
 "metadata": {
  "kernelspec": {
   "display_name": "Python 3 (ipykernel)",
   "language": "python",
   "name": "python3"
  },
  "language_info": {
   "codemirror_mode": {
    "name": "ipython",
    "version": 3
   },
   "file_extension": ".py",
   "mimetype": "text/x-python",
   "name": "python",
   "nbconvert_exporter": "python",
   "pygments_lexer": "ipython3",
   "version": "3.9.12"
  }
 },
 "nbformat": 4,
 "nbformat_minor": 5
}
