{
 "cells": [
  {
   "cell_type": "code",
   "execution_count": 1,
   "id": "a7d83374",
   "metadata": {},
   "outputs": [],
   "source": [
    "#  Importing necessary libraries\n",
    "\n",
    "import numpy as np\n",
    "\n",
    "import matplotlib.pyplot as plt\n",
    "\n",
    "from sklearn import datasets\n",
    "from sklearn.model_selection import train_test_split\n",
    "from sklearn.metrics import accuracy_score\n",
    "from sklearn.svm import SVC   #SVC---> Supervised machine learning\n"
   ]
  },
  {
   "cell_type": "code",
   "execution_count": 2,
   "id": "588fb8e1",
   "metadata": {},
   "outputs": [],
   "source": [
    "# Create a synthetic data\n",
    "\n",
    "X,y=datasets.make_classification(n_samples=100,n_features=2,n_informative=2,n_redundant=0,random_state=42)"
   ]
  },
  {
   "cell_type": "code",
   "execution_count": 3,
   "id": "199d6a86",
   "metadata": {},
   "outputs": [
    {
     "name": "stdout",
     "output_type": "stream",
     "text": [
      "[[ 0.55942643  2.38869353]\n",
      " [ 1.31217492 -0.7173148 ]\n",
      " [-1.5598485  -1.92487377]\n",
      " [-2.2813861  -0.1368559 ]\n",
      " [ 1.56070438 -0.42795824]\n",
      " [-0.80804463  1.19664076]\n",
      " [-0.27062383 -2.25553963]\n",
      " [ 0.480502    0.54914434]\n",
      " [-1.20757158 -1.26898369]\n",
      " [ 0.25415746 -1.79532002]\n",
      " [ 2.59123946  0.24472415]\n",
      " [ 0.07123641  0.49429823]\n",
      " [-1.17762637 -1.20592943]\n",
      " [ 0.93343952  0.68811892]\n",
      " [ 1.65214494 -0.35885569]\n",
      " [-1.40735658 -1.56826626]\n",
      " [ 1.02255619 -1.08324727]\n",
      " [-0.81680628 -0.6795874 ]\n",
      " [ 1.50575249 -0.38919817]\n",
      " [-2.17105282 -0.04862909]\n",
      " [ 0.71479373 -1.42922002]\n",
      " [-0.15013844 -0.11708689]\n",
      " [-1.4117586  -1.5332749 ]\n",
      " [-2.58590856 -0.40925706]\n",
      " [ 0.82600732 -1.05383855]\n",
      " [-0.07133524  0.08896214]\n",
      " [ 0.6273745  -1.32933233]\n",
      " [ 1.65882246 -0.43131517]\n",
      " [ 1.2798899   1.25896077]\n",
      " [ 0.25058844  0.13979096]\n",
      " [-0.05319823  1.85605469]\n",
      " [-2.05832072 -2.52343407]\n",
      " [-2.02632079  0.06194498]\n",
      " [-1.65830375 -1.57127256]\n",
      " [ 1.28008347  1.28938375]\n",
      " [ 0.96423311  0.55600276]\n",
      " [-1.87653774  0.23085877]\n",
      " [-0.94275087  1.10009583]\n",
      " [-1.09831681 -0.86023823]\n",
      " [-0.38566776  0.01722979]\n",
      " [ 0.32725188  0.62453032]\n",
      " [ 1.03110238  0.55448398]\n",
      " [-0.50833095  1.48052803]\n",
      " [ 0.68057323  1.02703224]\n",
      " [ 1.08266027 -0.98021491]\n",
      " [-1.40210053 -1.72067112]\n",
      " [ 0.85239186 -1.14658127]\n",
      " [ 0.06845616 -1.73597973]\n",
      " [ 1.53703587 -0.53355799]\n",
      " [ 0.77861318 -1.20946429]\n",
      " [-1.64832073  0.4176729 ]\n",
      " [ 0.66530077  0.88629356]\n",
      " [ 1.17869556  1.09180466]\n",
      " [ 1.09885263  1.25291095]\n",
      " [-0.91916686  1.06173727]\n",
      " [-1.54851014 -1.43534875]\n",
      " [-0.3313761   1.56931739]\n",
      " [ 0.4505902  -1.50077611]\n",
      " [-1.00634985 -1.14054824]\n",
      " [-1.13207427  0.89075877]\n",
      " [-0.53963044 -0.72427983]\n",
      " [ 1.08659413 -1.00544254]\n",
      " [ 0.82584805  0.53479393]\n",
      " [ 0.34129395  0.57304248]\n",
      " [-1.28568005  0.73019848]\n",
      " [ 1.15199146 -0.71352532]\n",
      " [-1.36045573 -1.64060704]\n",
      " [-2.3279946  -0.17593681]\n",
      " [-0.34898484  1.56010259]\n",
      " [ 1.17329352  0.73644435]\n",
      " [ 1.57233676  1.4991983 ]\n",
      " [-1.69302842 -1.61453273]\n",
      " [-1.03223274  0.94800532]\n",
      " [ 1.83991037  2.30450019]\n",
      " [ 1.53313849  1.74147706]\n",
      " [-1.43483867 -1.42695838]\n",
      " [ 1.46830827 -0.48949935]\n",
      " [ 2.36867367  2.25661188]\n",
      " [-1.21722043 -1.36716377]\n",
      " [-0.78736523  1.18739045]\n",
      " [-1.54446032 -1.51042899]\n",
      " [ 1.98522348 -0.02185231]\n",
      " [ 0.15513175  1.99805321]\n",
      " [-2.00347738 -2.39955005]\n",
      " [ 2.52983424  1.94087643]\n",
      " [ 0.86199147  1.35970566]\n",
      " [ 1.35536951  1.15509316]\n",
      " [ 1.03967019 -0.92169432]\n",
      " [-1.82037691  0.25995672]\n",
      " [-0.79371387 -0.9311259 ]\n",
      " [-0.78284083  1.20852705]\n",
      " [-2.00918545 -2.24181979]\n",
      " [ 1.3727107   1.07954187]\n",
      " [-0.57500215 -0.3751207 ]\n",
      " [ 1.86378908  1.59488828]\n",
      " [ 1.80474148 -0.14994102]\n",
      " [ 1.15466088 -0.95548162]\n",
      " [-0.56772453  1.38991764]\n",
      " [-1.15806823  0.86561977]\n",
      " [-1.75518644  0.36016958]] [0 1 0 0 1 0 1 1 0 1 1 0 0 1 1 0 1 0 1 0 1 1 0 0 1 0 1 1 1 1 0 0 0 0 1 1 0\n",
      " 0 0 0 1 1 0 1 1 0 1 1 1 1 0 1 1 1 0 0 0 1 0 0 0 1 1 1 0 1 0 0 0 1 1 0 0 1\n",
      " 1 0 1 1 0 0 0 1 0 0 1 1 1 1 0 0 0 0 1 0 1 1 1 0 0 0]\n"
     ]
    }
   ],
   "source": [
    "print(X,y)"
   ]
  },
  {
   "cell_type": "code",
   "execution_count": 4,
   "id": "7c281e70",
   "metadata": {},
   "outputs": [],
   "source": [
    "# Split the data into training and testing sets\n",
    "X_train, X_test, y_train, y_test = train_test_split(X, y, test_size=0.3, random_state=42)\n"
   ]
  },
  {
   "cell_type": "code",
   "execution_count": 5,
   "id": "9df7c1e7",
   "metadata": {},
   "outputs": [
    {
     "data": {
      "text/plain": [
       "SVC(kernel='linear')"
      ]
     },
     "execution_count": 5,
     "metadata": {},
     "output_type": "execute_result"
    }
   ],
   "source": [
    "# Initialize and train a Linear svm model\n",
    "\n",
    "svm=SVC(kernel='linear')\n",
    "svm.fit(X_train,y_train)"
   ]
  },
  {
   "cell_type": "code",
   "execution_count": 6,
   "id": "cb3ad1b9",
   "metadata": {},
   "outputs": [],
   "source": [
    "# Make predictions on the test data\n",
    "y_pred = svm.predict(X_test)"
   ]
  },
  {
   "cell_type": "code",
   "execution_count": 7,
   "id": "02fe2907",
   "metadata": {},
   "outputs": [
    {
     "name": "stdout",
     "output_type": "stream",
     "text": [
      "Accuracy: 1.0\n"
     ]
    }
   ],
   "source": [
    "# Calculate and print the accuracy of the model\n",
    "accuracy = accuracy_score(y_test, y_pred)\n",
    "print(\"Accuracy:\", accuracy)"
   ]
  },
  {
   "cell_type": "code",
   "execution_count": 9,
   "id": "4a839502",
   "metadata": {},
   "outputs": [],
   "source": [
    "# Visualize the decision boundary\n",
    "def plot_decision_boundary(X, y, model):\n",
    "    h = 0.02  # Step size in the mesh\n",
    "    x_min, x_max = X[:, 0].min() - 1, X[:, 0].max() + 1\n",
    "    y_min, y_max = X[:, 1].min() - 1, X[:, 1].max() + 1\n",
    "    xx, yy = np.meshgrid(np.arange(x_min, x_max, h), np.arange(y_min, y_max, h))\n",
    "    Z = model.predict(np.c_[xx.ravel(), yy.ravel()])\n",
    "    Z = Z.reshape(xx.shape)\n",
    "    plt.contourf(xx, yy, Z, cmap=plt.cm.coolwarm, alpha=0.8)\n",
    "    plt.scatter(X[:, 0], X[:, 1], c=y, cmap=plt.cm.coolwarm)\n",
    "    plt.xlabel(\"Feature 1\")\n",
    "    plt.ylabel(\"Feature 2\")\n",
    "    plt.title(\"Linear SVM Decision Boundary\")\n",
    "    plt.show()"
   ]
  },
  {
   "cell_type": "code",
   "execution_count": 10,
   "id": "e2f0e064",
   "metadata": {},
   "outputs": [
    {
     "data": {
      "image/png": "[encoded data removed]",
      "text/plain": [
       "<Figure size 432x288 with 1 Axes>"
      ]
     },
     "metadata": {
      "needs_background": "light"
     },
     "output_type": "display_data"
    }
   ],
   "source": [
    "# Visualize the decision boundary\n",
    "plot_decision_boundary(X_test, y_test, svm)"
   ]
  }
 ],
 "metadata": {
  "kernelspec": {
   "display_name": "Python 3 (ipykernel)",
   "language": "python",
   "name": "python3"
  },
  "language_info": {
   "codemirror_mode": {
    "name": "ipython",
    "version": 3
   },
   "file_extension": ".py",
   "mimetype": "text/x-python",
   "name": "python",
   "nbconvert_exporter": "python",
   "pygments_lexer": "ipython3",
   "version": "3.9.12"
  }
 },
 "nbformat": 4,
 "nbformat_minor": 5
}
