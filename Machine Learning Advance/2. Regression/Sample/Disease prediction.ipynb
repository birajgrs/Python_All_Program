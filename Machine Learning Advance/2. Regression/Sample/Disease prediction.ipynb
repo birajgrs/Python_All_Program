{
 "cells": [
  {
   "cell_type": "code",
   "execution_count": 33,
   "id": "40fd3d21",
   "metadata": {},
   "outputs": [],
   "source": [
    "import numpy as np\n",
    "import pandas as pd\n",
    "from matplotlib import pyplot as plt"
   ]
  },
  {
   "cell_type": "code",
   "execution_count": 34,
   "id": "00c41dd5",
   "metadata": {},
   "outputs": [],
   "source": [
    "# Sigmoid Function\n",
    "def sigmoid(z):\n",
    "    return 1 / (1 + np.exp(-z))\n"
   ]
  },
  {
   "cell_type": "code",
   "execution_count": 35,
   "id": "8df75ce2",
   "metadata": {},
   "outputs": [],
   "source": [
    "# Initialization of the neural network parameters\n",
    "def initializeParameters(inputFeatures, neuronsInHiddenLayers, outputFeatures):\n",
    "    W1 = np.random.randn(neuronsInHiddenLayers, inputFeatures)\n",
    "    W2 = np.random.randn(outputFeatures, neuronsInHiddenLayers)\n",
    "    b1 = np.zeros((neuronsInHiddenLayers, 1))\n",
    "    b2 = np.zeros((outputFeatures, 1))\n",
    "    parameters = {\"W1\": W1, \"b1\": b1, \"W2\": W2, \"b2\": b2}\n",
    "    return parameters\n"
   ]
  },
  {
   "cell_type": "code",
   "execution_count": 36,
   "id": "e7acd1ab",
   "metadata": {},
   "outputs": [],
   "source": [
    "# Forward Propagation\n",
    "def forwardPropagation(X, Y, parameters):\n",
    "    m = X.shape[1]\n",
    "    W1 = parameters[\"W1\"]\n",
    "    W2 = parameters[\"W2\"]\n",
    "    b1 = parameters[\"b1\"]\n",
    "    b2 = parameters[\"b2\"]\n",
    "\n",
    "    Z1 = np.dot(W1, X) + b1\n",
    "    A1 = sigmoid(Z1)\n",
    "    Z2 = np.dot(W2, A1) + b2\n",
    "    A2 = sigmoid(Z2)\n",
    "\n",
    "    cache = (Z1, A1, W1, b1, Z2, A2, W2, b2)\n",
    "    logprobs = np.multiply(np.log(A2), Y) + np.multiply(np.log(1 - A2), (1 - Y))\n",
    "    cost = -np.sum(logprobs) / m\n",
    "    return cost, cache, A2\n",
    "\n"
   ]
  },
  {
   "cell_type": "code",
   "execution_count": 37,
   "id": "9bc09633",
   "metadata": {},
   "outputs": [],
   "source": [
    "# Backward Propagation\n",
    "def backwardPropagation(X, Y, cache):\n",
    "    m = X.shape[1]\n",
    "    (Z1, A1, W1, b1, Z2, A2, W2, b2) = cache\n",
    "\n",
    "    dZ2 = A2 - Y\n",
    "    dW2 = np.dot(dZ2, A1.T) / m\n",
    "    db2 = np.sum(dZ2, axis=1, keepdims=True)\n",
    "\n",
    "    dA1 = np.dot(W2.T, dZ2)\n",
    "    dZ1 = np.multiply(dA1, A1 * (1 - A1))\n",
    "    dW1 = np.dot(dZ1, X.T) / m\n",
    "    db1 = np.sum(dZ1, axis=1, keepdims=True) / m\n",
    "\n",
    "    gradients = {\"dZ2\": dZ2, \"dW2\": dW2, \"db2\": db2, \"dZ1\": dZ1, \"dW1\": dW1, \"db1\": db1}\n",
    "    return gradients"
   ]
  },
  {
   "cell_type": "code",
   "execution_count": 38,
   "id": "35a55755",
   "metadata": {},
   "outputs": [],
   "source": [
    "# Updating the weights based on the negative gradients\n",
    "def updateParameters(parameters, gradients, learningRate):\n",
    "    parameters[\"W1\"] = parameters[\"W1\"] - learningRate * gradients[\"dW1\"]\n",
    "    parameters[\"W2\"] = parameters[\"W2\"] - learningRate * gradients[\"dW2\"]\n",
    "    parameters[\"b1\"] = parameters[\"b1\"] - learningRate * gradients[\"db1\"]\n",
    "    parameters[\"b2\"] = parameters[\"b2\"] - learningRate * gradients[\"db2\"]\n",
    "    return parameters"
   ]
  },
  {
   "cell_type": "code",
   "execution_count": 39,
   "id": "e9c99116",
   "metadata": {},
   "outputs": [],
   "source": [
    "# Model to learn from the diabetes dataset\n",
    "diabetes_data = pd.read_csv(\"diabetes.csv\")"
   ]
  },
  {
   "cell_type": "code",
   "execution_count": 40,
   "id": "fa5e55e3",
   "metadata": {},
   "outputs": [],
   "source": [
    "# Split the dataset into input features (X) and target variable (Y)\n",
    "X = diabetes_data.drop(\"Outcome\", axis=1).values.T\n",
    "Y = diabetes_data[\"Outcome\"].values.reshape(1, -1)"
   ]
  },
  {
   "cell_type": "code",
   "execution_count": 41,
   "id": "83737bbe",
   "metadata": {},
   "outputs": [],
   "source": [
    "# Define the neural network architecture\n",
    "inputFeatures = X.shape[0]\n",
    "neuronsInHiddenLayers = 4\n",
    "outputFeatures = 1\n"
   ]
  },
  {
   "cell_type": "code",
   "execution_count": 42,
   "id": "e0ed3ee6",
   "metadata": {},
   "outputs": [],
   "source": [
    "# Initialize the parameters\n",
    "parameters = initializeParameters(inputFeatures, neuronsInHiddenLayers, outputFeatures)\n"
   ]
  },
  {
   "cell_type": "code",
   "execution_count": 43,
   "id": "bbab5e82",
   "metadata": {},
   "outputs": [],
   "source": [
    "# Define the training hyperparameters\n",
    "learningRate = 0.01\n",
    "epochs = 1500\n"
   ]
  },
  {
   "cell_type": "code",
   "execution_count": 44,
   "id": "4aec44f8",
   "metadata": {},
   "outputs": [],
   "source": [
    "# Lists to store the cost at each epoch for plotting\n",
    "costs = []\n"
   ]
  },
  {
   "cell_type": "code",
   "execution_count": 45,
   "id": "05d68372",
   "metadata": {},
   "outputs": [
    {
     "name": "stdout",
     "output_type": "stream",
     "text": [
      "Cost after epoch 0: 1.392193770618196\n",
      "Cost after epoch 100: 0.6736783759103703\n",
      "Cost after epoch 200: 0.6712471842230828\n",
      "Cost after epoch 300: 0.6690203515281397\n",
      "Cost after epoch 400: 0.6669792601756073\n",
      "Cost after epoch 500: 0.6651081536758452\n",
      "Cost after epoch 600: 0.6633905840243733\n",
      "Cost after epoch 700: 0.6618102513530962\n",
      "Cost after epoch 800: 0.6603520403640872\n",
      "Cost after epoch 900: 0.6590135072261506\n",
      "Cost after epoch 1000: 0.6578097547856544\n",
      "Cost after epoch 1100: 0.6567356553541971\n",
      "Cost after epoch 1200: 0.6557714497651083\n",
      "Cost after epoch 1300: 0.6549013969810292\n",
      "Cost after epoch 1400: 0.6541141485902512\n"
     ]
    }
   ],
   "source": [
    "# Training loop\n",
    "for epoch in range(epochs):\n",
    "    # Forward propagation\n",
    "    cost, cache, _ = forwardPropagation(X, Y, parameters)\n",
    "    \n",
    "    # Backward propagation\n",
    "    gradients = backwardPropagation(X, Y, cache)\n",
    "    \n",
    "    # Update parameters\n",
    "    parameters = updateParameters(parameters, gradients, learningRate)\n",
    "    \n",
    "    # Store the cost\n",
    "    costs.append(cost)\n",
    "    \n",
    "    # Print the cost every 100 epochs\n",
    "    if epoch % 100 == 0:\n",
    "        print(f\"Cost after epoch {epoch}: {cost}\")"
   ]
  },
  {
   "cell_type": "code",
   "execution_count": 46,
   "id": "8bb10f23",
   "metadata": {},
   "outputs": [
    {
     "data": {
      "image/png": "[encoded data removed]",
      "text/plain": [
       "<Figure size 432x288 with 1 Axes>"
      ]
     },
     "metadata": {
      "needs_background": "light"
     },
     "output_type": "display_data"
    }
   ],
   "source": [
    "# Plot the cost over epochs\n",
    "plt.plot(costs)\n",
    "plt.xlabel(\"Epochs\")\n",
    "plt.ylabel(\"Cost\")\n",
    "plt.title(\"Cost over Epochs\")\n",
    "plt.show()"
   ]
  },
  {
   "cell_type": "code",
   "execution_count": 52,
   "id": "f497d049",
   "metadata": {},
   "outputs": [],
   "source": [
    "\n",
    "# Predict function\n",
    "def predict(X, parameters):\n",
    "    _, _, A2 = forwardPropagation(X, None, parameters)\n",
    "    predictions = (A2 > 0.5).astype(int)\n",
    "    return predictions"
   ]
  },
  {
   "cell_type": "code",
   "execution_count": 53,
   "id": "e17d0208",
   "metadata": {},
   "outputs": [
    {
     "ename": "TypeError",
     "evalue": "unsupported operand type(s) for *: 'float' and 'NoneType'",
     "output_type": "error",
     "traceback": [
      "\u001b[1;31m---------------------------------------------------------------------------\u001b[0m",
      "\u001b[1;31mTypeError\u001b[0m                                 Traceback (most recent call last)",
      "Input \u001b[1;32mIn [53]\u001b[0m, in \u001b[0;36m<cell line: 2>\u001b[1;34m()\u001b[0m\n\u001b[0;32m      1\u001b[0m \u001b[38;5;66;03m# Make predictions on the training set\u001b[39;00m\n\u001b[1;32m----> 2\u001b[0m train_predictions \u001b[38;5;241m=\u001b[39m \u001b[43mpredict\u001b[49m\u001b[43m(\u001b[49m\u001b[43mX\u001b[49m\u001b[43m,\u001b[49m\u001b[43m \u001b[49m\u001b[43mparameters\u001b[49m\u001b[43m)\u001b[49m\n",
      "Input \u001b[1;32mIn [52]\u001b[0m, in \u001b[0;36mpredict\u001b[1;34m(X, parameters)\u001b[0m\n\u001b[0;32m      2\u001b[0m \u001b[38;5;28;01mdef\u001b[39;00m \u001b[38;5;21mpredict\u001b[39m(X, parameters):\n\u001b[1;32m----> 3\u001b[0m     _, _, A2 \u001b[38;5;241m=\u001b[39m \u001b[43mforwardPropagation\u001b[49m\u001b[43m(\u001b[49m\u001b[43mX\u001b[49m\u001b[43m,\u001b[49m\u001b[43m \u001b[49m\u001b[38;5;28;43;01mNone\u001b[39;49;00m\u001b[43m,\u001b[49m\u001b[43m \u001b[49m\u001b[43mparameters\u001b[49m\u001b[43m)\u001b[49m\n\u001b[0;32m      4\u001b[0m     predictions \u001b[38;5;241m=\u001b[39m (A2 \u001b[38;5;241m>\u001b[39m \u001b[38;5;241m0.5\u001b[39m)\u001b[38;5;241m.\u001b[39mastype(\u001b[38;5;28mint\u001b[39m)\n\u001b[0;32m      5\u001b[0m     \u001b[38;5;28;01mreturn\u001b[39;00m predictions\n",
      "Input \u001b[1;32mIn [36]\u001b[0m, in \u001b[0;36mforwardPropagation\u001b[1;34m(X, Y, parameters)\u001b[0m\n\u001b[0;32m     12\u001b[0m A2 \u001b[38;5;241m=\u001b[39m sigmoid(Z2)\n\u001b[0;32m     14\u001b[0m cache \u001b[38;5;241m=\u001b[39m (Z1, A1, W1, b1, Z2, A2, W2, b2)\n\u001b[1;32m---> 15\u001b[0m logprobs \u001b[38;5;241m=\u001b[39m \u001b[43mnp\u001b[49m\u001b[38;5;241;43m.\u001b[39;49m\u001b[43mmultiply\u001b[49m\u001b[43m(\u001b[49m\u001b[43mnp\u001b[49m\u001b[38;5;241;43m.\u001b[39;49m\u001b[43mlog\u001b[49m\u001b[43m(\u001b[49m\u001b[43mA2\u001b[49m\u001b[43m)\u001b[49m\u001b[43m,\u001b[49m\u001b[43m \u001b[49m\u001b[43mY\u001b[49m\u001b[43m)\u001b[49m \u001b[38;5;241m+\u001b[39m np\u001b[38;5;241m.\u001b[39mmultiply(np\u001b[38;5;241m.\u001b[39mlog(\u001b[38;5;241m1\u001b[39m \u001b[38;5;241m-\u001b[39m A2), (\u001b[38;5;241m1\u001b[39m \u001b[38;5;241m-\u001b[39m Y))\n\u001b[0;32m     16\u001b[0m cost \u001b[38;5;241m=\u001b[39m \u001b[38;5;241m-\u001b[39mnp\u001b[38;5;241m.\u001b[39msum(logprobs) \u001b[38;5;241m/\u001b[39m m\n\u001b[0;32m     17\u001b[0m \u001b[38;5;28;01mreturn\u001b[39;00m cost, cache, A2\n",
      "\u001b[1;31mTypeError\u001b[0m: unsupported operand type(s) for *: 'float' and 'NoneType'"
     ]
    }
   ],
   "source": [
    "# Make predictions on the training set\n",
    "train_predictions = predict(X, parameters)\n"
   ]
  },
  {
   "cell_type": "code",
   "execution_count": null,
   "id": "7f757b6d",
   "metadata": {},
   "outputs": [],
   "source": []
  }
 ],
 "metadata": {
  "kernelspec": {
   "display_name": "Python 3 (ipykernel)",
   "language": "python",
   "name": "python3"
  },
  "language_info": {
   "codemirror_mode": {
    "name": "ipython",
    "version": 3
   },
   "file_extension": ".py",
   "mimetype": "text/x-python",
   "name": "python",
   "nbconvert_exporter": "python",
   "pygments_lexer": "ipython3",
   "version": "3.9.12"
  }
 },
 "nbformat": 4,
 "nbformat_minor": 5
}
