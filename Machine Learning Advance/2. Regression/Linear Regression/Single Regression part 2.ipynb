{
 "cells": [
  {
   "cell_type": "code",
   "execution_count": 4,
   "id": "43226c6c",
   "metadata": {},
   "outputs": [],
   "source": [
    "'''\n",
    "A study was done to study the effect of ambient temperature on the electric power consumed by a \n",
    "chemical plant. Following table gives the data which are collected from an experimental pilot plant.\n",
    "\n",
    "Temperature(0F)  (x say)::: 27,45,72,58,31,60,34,74\n",
    "Electric Power (BTU)   (y say):250,285,320,295,265,298,267,321\n",
    "'''\n",
    "\n",
    "# Generate simple data\n",
    "import numpy as np\n",
    "import matplotlib.pyplot as plt\n"
   ]
  },
  {
   "cell_type": "code",
   "execution_count": 7,
   "id": "7373622d",
   "metadata": {},
   "outputs": [],
   "source": [
    "# Calculate mean of x and y\n",
    "x_mean=np.mean(x)\n",
    "y_mean=np.mean(y)"
   ]
  },
  {
   "cell_type": "code",
   "execution_count": 8,
   "id": "d9ecd294",
   "metadata": {},
   "outputs": [],
   "source": [
    "# Calculate the slope and intercept of the regression line\n",
    "numerator=np.sum((x-x_mean)*(y-y_mean))\n",
    "denominator=np.sum((x-x_mean)**2)\n",
    "\n",
    "slope=numerator/denominator\n",
    "intercept=y_mean-slope*x_mean\n"
   ]
  },
  {
   "cell_type": "code",
   "execution_count": 9,
   "id": "d5927f13",
   "metadata": {},
   "outputs": [],
   "source": [
    "#Make predictions using the regression line\n",
    "y_pred=slope*x+intercept"
   ]
  },
  {
   "cell_type": "code",
   "execution_count": 14,
   "id": "ea38750e",
   "metadata": {},
   "outputs": [
    {
     "data": {
      "image/png": "[encoded data removed]",
      "text/plain": [
       "<Figure size 432x288 with 1 Axes>"
      ]
     },
     "metadata": {
      "needs_background": "light"
     },
     "output_type": "display_data"
    },
    {
     "data": {
      "text/plain": [
       "[<matplotlib.lines.Line2D at 0x2155b360a60>]"
      ]
     },
     "execution_count": 14,
     "metadata": {},
     "output_type": "execute_result"
    },
    {
     "data": {
      "image/png": "[encoded data removed]",
      "text/plain": [
       "<Figure size 432x288 with 1 Axes>"
      ]
     },
     "metadata": {
      "needs_background": "light"
     },
     "output_type": "display_data"
    }
   ],
   "source": [
    "#plot the data and the regression line\n",
    "plt.scatter(x,y)\n",
    "plt.show()\n",
    "plt.plot(x,y_pred,color='red')\n"
   ]
  },
  {
   "cell_type": "code",
   "execution_count": null,
   "id": "fd677c90",
   "metadata": {},
   "outputs": [],
   "source": []
  },
  {
   "cell_type": "code",
   "execution_count": null,
   "id": "b56ca312",
   "metadata": {},
   "outputs": [],
   "source": []
  },
  {
   "cell_type": "code",
   "execution_count": null,
   "id": "969d089b",
   "metadata": {},
   "outputs": [],
   "source": []
  },
  {
   "cell_type": "code",
   "execution_count": null,
   "id": "0295b7b2",
   "metadata": {},
   "outputs": [],
   "source": []
  },
  {
   "cell_type": "code",
   "execution_count": null,
   "id": "c902d822",
   "metadata": {},
   "outputs": [],
   "source": []
  },
  {
   "cell_type": "code",
   "execution_count": null,
   "id": "12a99cfc",
   "metadata": {},
   "outputs": [],
   "source": []
  },
  {
   "cell_type": "code",
   "execution_count": null,
   "id": "beae9e1f",
   "metadata": {},
   "outputs": [],
   "source": []
  },
  {
   "cell_type": "code",
   "execution_count": null,
   "id": "2bfcde42",
   "metadata": {},
   "outputs": [],
   "source": []
  },
  {
   "cell_type": "code",
   "execution_count": null,
   "id": "de167ed7",
   "metadata": {},
   "outputs": [],
   "source": []
  },
  {
   "cell_type": "code",
   "execution_count": null,
   "id": "78428633",
   "metadata": {},
   "outputs": [],
   "source": []
  },
  {
   "cell_type": "code",
   "execution_count": null,
   "id": "fe23aae7",
   "metadata": {},
   "outputs": [],
   "source": []
  }
 ],
 "metadata": {
  "kernelspec": {
   "display_name": "Python 3 (ipykernel)",
   "language": "python",
   "name": "python3"
  },
  "language_info": {
   "codemirror_mode": {
    "name": "ipython",
    "version": 3
   },
   "file_extension": ".py",
   "mimetype": "text/x-python",
   "name": "python",
   "nbconvert_exporter": "python",
   "pygments_lexer": "ipython3",
   "version": "3.9.12"
  }
 },
 "nbformat": 4,
 "nbformat_minor": 5
}
