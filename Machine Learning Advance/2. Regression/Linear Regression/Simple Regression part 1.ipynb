{
 "cells": [
  {
   "cell_type": "code",
   "execution_count": 7,
   "id": "57367823",
   "metadata": {},
   "outputs": [],
   "source": [
    "'''\n",
    "A study was done to study the effect of ambient temperature on the electric power consumed by a \n",
    "chemical plant. Following table gives the data which are collected from an experimental pilot plant.\n",
    "\n",
    "Temperature(0F)  (x say)::: 27,45,72,58,31,60,34,74\n",
    "Electric Power (BTU)   (y say):250,285,320,295,265,298,267,321\n",
    "'''\n",
    "\n",
    "import numpy as np\n",
    "import matplotlib.pyplot as plt\n",
    "import sklearn\n",
    "   "
   ]
  },
  {
   "cell_type": "code",
   "execution_count": 8,
   "id": "c457f3a9",
   "metadata": {},
   "outputs": [
    {
     "data": {
      "image/png": "[encoded data removed]",
      "text/plain": [
       "<Figure size 432x288 with 1 Axes>"
      ]
     },
     "metadata": {
      "needs_background": "light"
     },
     "output_type": "display_data"
    }
   ],
   "source": [
    "x=[27,45,72,58,31,60,34,74]\n",
    "y=[250,285,320,295,265,298,267,321]\n",
    "\n",
    "plt.scatter(x,y)\n",
    "plt.show()"
   ]
  },
  {
   "cell_type": "markdown",
   "id": "06637c39",
   "metadata": {},
   "source": [
    "# The linear regression is,   y=a+bx --------(i)\n"
   ]
  },
  {
   "cell_type": "code",
   "execution_count": 10,
   "id": "8f18f956",
   "metadata": {},
   "outputs": [
    {
     "data": {
      "image/png": "[encoded data removed]",
      "text/plain": [
       "<Figure size 432x288 with 1 Axes>"
      ]
     },
     "metadata": {
      "needs_background": "light"
     },
     "output_type": "display_data"
    }
   ],
   "source": [
    "import scipy.stats as stats   #Use for implementation on statistical analysis\n",
    "\n",
    "# Assuming x and y are defined as your data points\n",
    "slope, intercept, r, p, std_err = stats.linregress(x, y)\n",
    "\n",
    "def statfunc(x):\n",
    "    return slope * x + intercept\n",
    "statModel=list(map(statfunc,x))\n",
    "plt.scatter(x,y)\n",
    "plt.plot(x,statModel)\n",
    "plt.show()"
   ]
  },
  {
   "cell_type": "markdown",
   "id": "7c883104",
   "metadata": {},
   "source": [
    "# R for Relationship\n"
   ]
  },
  {
   "cell_type": "code",
   "execution_count": null,
   "id": "64477880",
   "metadata": {},
   "outputs": [],
   "source": [
    "# It is important to know how the relationship between the values of\n",
    "# the x-axis and the values of the y-axis is, if there are no relationship the linear regression \n",
    "# can not be used to predict anything.\n",
    "\n",
    "# This relationship - the coefficient of correlation - is called r.\n",
    "\n",
    "# The r value ranges from -1 to 1, where 0 means no relationship, and 1 (and -1) means 100% related.\n",
    "\n"
   ]
  },
  {
   "cell_type": "code",
   "execution_count": 11,
   "id": "edea8f39",
   "metadata": {},
   "outputs": [
    {
     "name": "stdout",
     "output_type": "stream",
     "text": [
      "0.9895951793759785\n"
     ]
    }
   ],
   "source": [
    "print(r)"
   ]
  },
  {
   "cell_type": "code",
   "execution_count": 12,
   "id": "ad6ea4ab",
   "metadata": {},
   "outputs": [
    {
     "name": "stdout",
     "output_type": "stream",
     "text": [
      "0.9792986190441751\n"
     ]
    }
   ],
   "source": [
    "print(r*r)"
   ]
  },
  {
   "cell_type": "code",
   "execution_count": null,
   "id": "bd73b395",
   "metadata": {},
   "outputs": [],
   "source": []
  },
  {
   "cell_type": "code",
   "execution_count": null,
   "id": "5cd3ab91",
   "metadata": {},
   "outputs": [],
   "source": []
  },
  {
   "cell_type": "code",
   "execution_count": null,
   "id": "a65c522b",
   "metadata": {},
   "outputs": [],
   "source": []
  },
  {
   "cell_type": "code",
   "execution_count": null,
   "id": "0af192bf",
   "metadata": {},
   "outputs": [],
   "source": []
  },
  {
   "cell_type": "code",
   "execution_count": null,
   "id": "6d659ee1",
   "metadata": {},
   "outputs": [],
   "source": []
  },
  {
   "cell_type": "code",
   "execution_count": null,
   "id": "849d866a",
   "metadata": {},
   "outputs": [],
   "source": []
  },
  {
   "cell_type": "code",
   "execution_count": null,
   "id": "dcf3a575",
   "metadata": {},
   "outputs": [],
   "source": []
  }
 ],
 "metadata": {
  "kernelspec": {
   "display_name": "Python 3 (ipykernel)",
   "language": "python",
   "name": "python3"
  },
  "language_info": {
   "codemirror_mode": {
    "name": "ipython",
    "version": 3
   },
   "file_extension": ".py",
   "mimetype": "text/x-python",
   "name": "python",
   "nbconvert_exporter": "python",
   "pygments_lexer": "ipython3",
   "version": "3.9.12"
  }
 },
 "nbformat": 4,
 "nbformat_minor": 5
}
