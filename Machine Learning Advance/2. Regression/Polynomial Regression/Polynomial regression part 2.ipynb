{
 "cells": [
  {
   "cell_type": "code",
   "execution_count": 181,
   "id": "1ea74042",
   "metadata": {},
   "outputs": [],
   "source": [
    "# importing  all libraries\n",
    "\n",
    "import pandas as pd\n",
    "import numpy as np\n",
    "import matplotlib.pyplot as plt\n",
    "import seaborn as sns\n",
    "from sklearn.linear_model import LinearRegression\n",
    "from sklearn.preprocessing import PolynomialFeatures\n",
    "from sklearn.model_selection import train_test_split\n",
    "from sklearn.metrics import mean_squared_error, r2_score\n",
    "\n"
   ]
  },
  {
   "cell_type": "code",
   "execution_count": 182,
   "id": "b551ec83",
   "metadata": {},
   "outputs": [
    {
     "data": {
      "text/html": [
       "<div>\n",
       "<style scoped>\n",
       "    .dataframe tbody tr th:only-of-type {\n",
       "        vertical-align: middle;\n",
       "    }\n",
       "\n",
       "    .dataframe tbody tr th {\n",
       "        vertical-align: top;\n",
       "    }\n",
       "\n",
       "    .dataframe thead th {\n",
       "        text-align: right;\n",
       "    }\n",
       "</style>\n",
       "<table border=\"1\" class=\"dataframe\">\n",
       "  <thead>\n",
       "    <tr style=\"text-align: right;\">\n",
       "      <th></th>\n",
       "      <th>University</th>\n",
       "      <th>Community</th>\n",
       "      <th>Constituent</th>\n",
       "      <th>Private</th>\n",
       "      <th>Total</th>\n",
       "    </tr>\n",
       "  </thead>\n",
       "  <tbody>\n",
       "    <tr>\n",
       "      <th>0</th>\n",
       "      <td>Tribhuvan University</td>\n",
       "      <td>110013</td>\n",
       "      <td>102085</td>\n",
       "      <td>72355</td>\n",
       "      <td>284453</td>\n",
       "    </tr>\n",
       "    <tr>\n",
       "      <th>1</th>\n",
       "      <td>Nepal Sanskrit University</td>\n",
       "      <td>80</td>\n",
       "      <td>1250</td>\n",
       "      <td>141</td>\n",
       "      <td>1471</td>\n",
       "    </tr>\n",
       "    <tr>\n",
       "      <th>2</th>\n",
       "      <td>Kathmandu University</td>\n",
       "      <td>0</td>\n",
       "      <td>6801</td>\n",
       "      <td>9857</td>\n",
       "      <td>16658</td>\n",
       "    </tr>\n",
       "    <tr>\n",
       "      <th>3</th>\n",
       "      <td>Purbanchal University</td>\n",
       "      <td>802</td>\n",
       "      <td>950</td>\n",
       "      <td>21787</td>\n",
       "      <td>23539</td>\n",
       "    </tr>\n",
       "    <tr>\n",
       "      <th>4</th>\n",
       "      <td>Pokhara University</td>\n",
       "      <td>0</td>\n",
       "      <td>1881</td>\n",
       "      <td>24151</td>\n",
       "      <td>26032</td>\n",
       "    </tr>\n",
       "    <tr>\n",
       "      <th>5</th>\n",
       "      <td>Lumbini Bauddha University</td>\n",
       "      <td>0</td>\n",
       "      <td>77</td>\n",
       "      <td>119</td>\n",
       "      <td>196</td>\n",
       "    </tr>\n",
       "    <tr>\n",
       "      <th>6</th>\n",
       "      <td>Agriculture and Forestry University</td>\n",
       "      <td>0</td>\n",
       "      <td>1583</td>\n",
       "      <td>0</td>\n",
       "      <td>1583</td>\n",
       "    </tr>\n",
       "    <tr>\n",
       "      <th>7</th>\n",
       "      <td>Mid-Western University</td>\n",
       "      <td>0</td>\n",
       "      <td>3046</td>\n",
       "      <td>0</td>\n",
       "      <td>3046</td>\n",
       "    </tr>\n",
       "    <tr>\n",
       "      <th>8</th>\n",
       "      <td>Far Western University</td>\n",
       "      <td>0</td>\n",
       "      <td>2211</td>\n",
       "      <td>0</td>\n",
       "      <td>2211</td>\n",
       "    </tr>\n",
       "    <tr>\n",
       "      <th>9</th>\n",
       "      <td>BP Koirala Institute for Health Sciences</td>\n",
       "      <td>0</td>\n",
       "      <td>1448</td>\n",
       "      <td>0</td>\n",
       "      <td>1448</td>\n",
       "    </tr>\n",
       "    <tr>\n",
       "      <th>10</th>\n",
       "      <td>National Academy of Medical Sciences</td>\n",
       "      <td>0</td>\n",
       "      <td>90</td>\n",
       "      <td>0</td>\n",
       "      <td>90</td>\n",
       "    </tr>\n",
       "    <tr>\n",
       "      <th>11</th>\n",
       "      <td>Patan Academy of Health Science</td>\n",
       "      <td>0</td>\n",
       "      <td>350</td>\n",
       "      <td>0</td>\n",
       "      <td>350</td>\n",
       "    </tr>\n",
       "    <tr>\n",
       "      <th>12</th>\n",
       "      <td>Karnali Academy Health Sciences</td>\n",
       "      <td>0</td>\n",
       "      <td>0</td>\n",
       "      <td>0</td>\n",
       "      <td>0</td>\n",
       "    </tr>\n",
       "    <tr>\n",
       "      <th>13</th>\n",
       "      <td>Nepal Open University</td>\n",
       "      <td>0</td>\n",
       "      <td>0</td>\n",
       "      <td>0</td>\n",
       "      <td>0</td>\n",
       "    </tr>\n",
       "    <tr>\n",
       "      <th>14</th>\n",
       "      <td>Rajarshi Janak University</td>\n",
       "      <td>0</td>\n",
       "      <td>0</td>\n",
       "      <td>0</td>\n",
       "      <td>0</td>\n",
       "    </tr>\n",
       "    <tr>\n",
       "      <th>15</th>\n",
       "      <td>Total</td>\n",
       "      <td>110895</td>\n",
       "      <td>121772</td>\n",
       "      <td>128410</td>\n",
       "      <td>361077</td>\n",
       "    </tr>\n",
       "  </tbody>\n",
       "</table>\n",
       "</div>"
      ],
      "text/plain": [
       "                                  University  Community  Constituent  Private  \\\n",
       "0                       Tribhuvan University     110013       102085    72355   \n",
       "1                  Nepal Sanskrit University         80         1250      141   \n",
       "2                       Kathmandu University          0         6801     9857   \n",
       "3                      Purbanchal University        802          950    21787   \n",
       "4                         Pokhara University          0         1881    24151   \n",
       "5                 Lumbini Bauddha University          0           77      119   \n",
       "6        Agriculture and Forestry University          0         1583        0   \n",
       "7                     Mid-Western University          0         3046        0   \n",
       "8                     Far Western University          0         2211        0   \n",
       "9   BP Koirala Institute for Health Sciences          0         1448        0   \n",
       "10      National Academy of Medical Sciences          0           90        0   \n",
       "11           Patan Academy of Health Science          0          350        0   \n",
       "12           Karnali Academy Health Sciences          0            0        0   \n",
       "13                     Nepal Open University          0            0        0   \n",
       "14                 Rajarshi Janak University          0            0        0   \n",
       "15                                     Total     110895       121772   128410   \n",
       "\n",
       "     Total  \n",
       "0   284453  \n",
       "1     1471  \n",
       "2    16658  \n",
       "3    23539  \n",
       "4    26032  \n",
       "5      196  \n",
       "6     1583  \n",
       "7     3046  \n",
       "8     2211  \n",
       "9     1448  \n",
       "10      90  \n",
       "11     350  \n",
       "12       0  \n",
       "13       0  \n",
       "14       0  \n",
       "15  361077  "
      ]
     },
     "execution_count": 182,
     "metadata": {},
     "output_type": "execute_result"
    }
   ],
   "source": [
    "#Load the dataset\n",
    "df=pd.read_csv('university-wise-student-enrollment-of-higher-education-by-types-of-campuses-in-2074-bs.csv')\n",
    "df"
   ]
  },
  {
   "cell_type": "code",
   "execution_count": 183,
   "id": "ff47d143",
   "metadata": {},
   "outputs": [
    {
     "data": {
      "text/html": [
       "<div>\n",
       "<style scoped>\n",
       "    .dataframe tbody tr th:only-of-type {\n",
       "        vertical-align: middle;\n",
       "    }\n",
       "\n",
       "    .dataframe tbody tr th {\n",
       "        vertical-align: top;\n",
       "    }\n",
       "\n",
       "    .dataframe thead th {\n",
       "        text-align: right;\n",
       "    }\n",
       "</style>\n",
       "<table border=\"1\" class=\"dataframe\">\n",
       "  <thead>\n",
       "    <tr style=\"text-align: right;\">\n",
       "      <th></th>\n",
       "      <th>University</th>\n",
       "      <th>Community</th>\n",
       "      <th>Constituent</th>\n",
       "      <th>Private</th>\n",
       "      <th>Total</th>\n",
       "    </tr>\n",
       "  </thead>\n",
       "  <tbody>\n",
       "    <tr>\n",
       "      <th>0</th>\n",
       "      <td>Tribhuvan University</td>\n",
       "      <td>110013</td>\n",
       "      <td>102085</td>\n",
       "      <td>72355</td>\n",
       "      <td>284453</td>\n",
       "    </tr>\n",
       "    <tr>\n",
       "      <th>1</th>\n",
       "      <td>Nepal Sanskrit University</td>\n",
       "      <td>80</td>\n",
       "      <td>1250</td>\n",
       "      <td>141</td>\n",
       "      <td>1471</td>\n",
       "    </tr>\n",
       "    <tr>\n",
       "      <th>2</th>\n",
       "      <td>Kathmandu University</td>\n",
       "      <td>0</td>\n",
       "      <td>6801</td>\n",
       "      <td>9857</td>\n",
       "      <td>16658</td>\n",
       "    </tr>\n",
       "    <tr>\n",
       "      <th>3</th>\n",
       "      <td>Purbanchal University</td>\n",
       "      <td>802</td>\n",
       "      <td>950</td>\n",
       "      <td>21787</td>\n",
       "      <td>23539</td>\n",
       "    </tr>\n",
       "    <tr>\n",
       "      <th>4</th>\n",
       "      <td>Pokhara University</td>\n",
       "      <td>0</td>\n",
       "      <td>1881</td>\n",
       "      <td>24151</td>\n",
       "      <td>26032</td>\n",
       "    </tr>\n",
       "  </tbody>\n",
       "</table>\n",
       "</div>"
      ],
      "text/plain": [
       "                  University  Community  Constituent  Private   Total\n",
       "0       Tribhuvan University     110013       102085    72355  284453\n",
       "1  Nepal Sanskrit University         80         1250      141    1471\n",
       "2       Kathmandu University          0         6801     9857   16658\n",
       "3      Purbanchal University        802          950    21787   23539\n",
       "4         Pokhara University          0         1881    24151   26032"
      ]
     },
     "execution_count": 183,
     "metadata": {},
     "output_type": "execute_result"
    }
   ],
   "source": [
    "# Print the first five rows of the dataset\n",
    "df.head()\n"
   ]
  },
  {
   "cell_type": "code",
   "execution_count": 184,
   "id": "f58db15c",
   "metadata": {},
   "outputs": [
    {
     "name": "stdout",
     "output_type": "stream",
     "text": [
      "(16, 5)\n"
     ]
    }
   ],
   "source": [
    "# Check the shape of the dataset\n",
    "print(df.shape)"
   ]
  },
  {
   "cell_type": "code",
   "execution_count": 185,
   "id": "c8156c89",
   "metadata": {},
   "outputs": [
    {
     "name": "stdout",
     "output_type": "stream",
     "text": [
      "University     0\n",
      "Community      0\n",
      "Constituent    0\n",
      "Private        0\n",
      "Total          0\n",
      "dtype: int64\n"
     ]
    }
   ],
   "source": [
    "# Check for missing values\n",
    "print(df.isnull().sum())"
   ]
  },
  {
   "cell_type": "code",
   "execution_count": 186,
   "id": "7b8e81f1",
   "metadata": {},
   "outputs": [
    {
     "name": "stdout",
     "output_type": "stream",
     "text": [
      "           Community    Constituent        Private          Total\n",
      "count      16.000000      16.000000      16.000000      16.000000\n",
      "mean    13861.875000   15221.500000   16051.250000   45134.625000\n",
      "std     37706.573734   37959.473771   35362.155629  109613.350693\n",
      "min         0.000000       0.000000       0.000000       0.000000\n",
      "25%         0.000000      86.750000       0.000000     169.500000\n",
      "50%         0.000000    1349.000000       0.000000    1527.000000\n",
      "75%        20.000000    2419.750000   12839.500000   18378.250000\n",
      "max    110895.000000  121772.000000  128410.000000  361077.000000\n"
     ]
    }
   ],
   "source": [
    "\n",
    "# Generate descriptive statistics of the dataset\n",
    "print(df.describe())"
   ]
  },
  {
   "cell_type": "code",
   "execution_count": 187,
   "id": "75675786",
   "metadata": {},
   "outputs": [
    {
     "data": {
      "text/html": [
       "<div>\n",
       "<style scoped>\n",
       "    .dataframe tbody tr th:only-of-type {\n",
       "        vertical-align: middle;\n",
       "    }\n",
       "\n",
       "    .dataframe tbody tr th {\n",
       "        vertical-align: top;\n",
       "    }\n",
       "\n",
       "    .dataframe thead th {\n",
       "        text-align: right;\n",
       "    }\n",
       "</style>\n",
       "<table border=\"1\" class=\"dataframe\">\n",
       "  <thead>\n",
       "    <tr style=\"text-align: right;\">\n",
       "      <th></th>\n",
       "      <th>Community</th>\n",
       "      <th>Constituent</th>\n",
       "      <th>Private</th>\n",
       "      <th>Total</th>\n",
       "    </tr>\n",
       "  </thead>\n",
       "  <tbody>\n",
       "    <tr>\n",
       "      <th>Community</th>\n",
       "      <td>1.000000</td>\n",
       "      <td>0.994860</td>\n",
       "      <td>0.932838</td>\n",
       "      <td>0.989461</td>\n",
       "    </tr>\n",
       "    <tr>\n",
       "      <th>Constituent</th>\n",
       "      <td>0.994860</td>\n",
       "      <td>1.000000</td>\n",
       "      <td>0.955914</td>\n",
       "      <td>0.996917</td>\n",
       "    </tr>\n",
       "    <tr>\n",
       "      <th>Private</th>\n",
       "      <td>0.932838</td>\n",
       "      <td>0.955914</td>\n",
       "      <td>1.000000</td>\n",
       "      <td>0.974537</td>\n",
       "    </tr>\n",
       "    <tr>\n",
       "      <th>Total</th>\n",
       "      <td>0.989461</td>\n",
       "      <td>0.996917</td>\n",
       "      <td>0.974537</td>\n",
       "      <td>1.000000</td>\n",
       "    </tr>\n",
       "  </tbody>\n",
       "</table>\n",
       "</div>"
      ],
      "text/plain": [
       "             Community  Constituent   Private     Total\n",
       "Community     1.000000     0.994860  0.932838  0.989461\n",
       "Constituent   0.994860     1.000000  0.955914  0.996917\n",
       "Private       0.932838     0.955914  1.000000  0.974537\n",
       "Total         0.989461     0.996917  0.974537  1.000000"
      ]
     },
     "execution_count": 187,
     "metadata": {},
     "output_type": "execute_result"
    }
   ],
   "source": [
    "\n",
    "df.corr()\n"
   ]
  },
  {
   "cell_type": "code",
   "execution_count": 188,
   "id": "e7114558",
   "metadata": {},
   "outputs": [
    {
     "data": {
      "image/png": "[encoded data removed]",
      "text/plain": [
       "<Figure size 720x432 with 2 Axes>"
      ]
     },
     "metadata": {},
     "output_type": "display_data"
    }
   ],
   "source": [
    "plt.figure(figsize=(10,6))\n",
    "sns.heatmap(df.corr(),annot=True)\n",
    "plt.show()"
   ]
  },
  {
   "cell_type": "code",
   "execution_count": 189,
   "id": "d4f635fc",
   "metadata": {},
   "outputs": [],
   "source": [
    "# Extract the relevant columns\n",
    "X = df[['Community']]\n",
    "y = df['Total']"
   ]
  },
  {
   "cell_type": "code",
   "execution_count": 190,
   "id": "b06e51e0",
   "metadata": {},
   "outputs": [],
   "source": [
    "\n",
    "# Split the data into training and testing sets\n",
    "X_train, X_test, y_train, y_test = train_test_split(X, y, test_size=0.2, random_state=0)\n"
   ]
  },
  {
   "cell_type": "code",
   "execution_count": 191,
   "id": "97dbe2b0",
   "metadata": {},
   "outputs": [
    {
     "data": {
      "text/plain": [
       "LinearRegression()"
      ]
     },
     "execution_count": 191,
     "metadata": {},
     "output_type": "execute_result"
    }
   ],
   "source": [
    "# Perform polynomial regression\n",
    "poly = PolynomialFeatures(degree=2)\n",
    "X_poly = poly.fit_transform(X_train)\n",
    "poly.fit(X_poly, y_train)\n",
    "lin_reg = LinearRegression()\n",
    "lin_reg.fit(X_poly, y_train)"
   ]
  },
  {
   "cell_type": "code",
   "execution_count": 192,
   "id": "28a3033e",
   "metadata": {},
   "outputs": [
    {
     "data": {
      "image/png": "[encoded data removed]",
      "text/plain": [
       "<Figure size 432x288 with 1 Axes>"
      ]
     },
     "metadata": {},
     "output_type": "display_data"
    }
   ],
   "source": [
    "# Visualize the results\n",
    "plt.scatter(df['Community'], df['Total'])\n",
    "plt.title('Community vs Total')\n",
    "plt.xlabel('Community')\n",
    "plt.ylabel('Total')\n",
    "plt.show()\n"
   ]
  },
  {
   "cell_type": "code",
   "execution_count": 193,
   "id": "5e790745",
   "metadata": {},
   "outputs": [
    {
     "name": "stderr",
     "output_type": "stream",
     "text": [
      "C:\\Users\\biraj\\anaconda3\\lib\\site-packages\\IPython\\core\\interactiveshell.py:3369: RankWarning: Polyfit may be poorly conditioned\n",
      "  exec(code_obj, self.user_global_ns, self.user_ns)\n"
     ]
    }
   ],
   "source": [
    "# Define the independent and dependent variables\n",
    "x = df['Community']\n",
    "y = df['Total']\n",
    "\n",
    "# Fit a polynomial curve of degree 2\n",
    "p2 = np.polyfit(x, y, 2)\n",
    "f2 = np.poly1d(p2)\n",
    "\n",
    "# Fit a polynomial curve of degree 3\n",
    "p3 = np.polyfit(x, y, 3)\n",
    "f3 = np.poly1d(p3)\n",
    "\n",
    "# Fit a polynomial curve of degree 4\n",
    "p4 = np.polyfit(x, y, 4)\n",
    "f4 = np.poly1d(p4)\n",
    "\n",
    "# Fit a polynomial curve of degree 5\n",
    "p5 = np.polyfit(x, y, 5)\n",
    "f5 = np.poly1d(p5)\n",
    "\n"
   ]
  },
  {
   "cell_type": "code",
   "execution_count": 194,
   "id": "1a42f930",
   "metadata": {},
   "outputs": [
    {
     "data": {
      "image/png": "[encoded data removed]",
      "text/plain": [
       "<Figure size 432x288 with 1 Axes>"
      ]
     },
     "metadata": {},
     "output_type": "display_data"
    }
   ],
   "source": [
    "# Plot the data points and the polynomial curves\n",
    "plt.scatter(x, y)\n",
    "plt.plot(x, f2(x), color='red')\n",
    "plt.plot(x, f3(x), color='green')\n",
    "plt.plot(x, f4(x), color='blue')\n",
    "plt.plot(x, f5(x), color='orange')\n",
    "plt.title('Community vs Total')\n",
    "plt.xlabel('Community')\n",
    "plt.ylabel('Total')\n",
    "plt.legend(['Degree 2', 'Degree 3', 'Degree 4', 'Degree 5'])\n",
    "plt.show()"
   ]
  },
  {
   "cell_type": "code",
   "execution_count": 195,
   "id": "8546bce3",
   "metadata": {},
   "outputs": [
    {
     "name": "stdout",
     "output_type": "stream",
     "text": [
      "Mean Squared Error: 41460677.77312722\n",
      "Root Mean Squared Error: 6438.996643354244\n",
      "R-squared: -425.4813513058499\n"
     ]
    }
   ],
   "source": [
    "mse = mean_squared_error(y_test, y_pred)\n",
    "rmse = np.sqrt(mse)\n",
    "r2 = r2_score(y_test, y_pred)\n",
    "\n",
    "print(\"Mean Squared Error:\", mse)\n",
    "print(\"Root Mean Squared Error:\", rmse)\n",
    "print(\"R-squared:\", r2)"
   ]
  },
  {
   "cell_type": "code",
   "execution_count": 196,
   "id": "03e3ba8c",
   "metadata": {},
   "outputs": [
    {
     "data": {
      "image/png": "[encoded data removed]",
      "text/plain": [
       "<Figure size 432x288 with 1 Axes>"
      ]
     },
     "metadata": {},
     "output_type": "display_data"
    }
   ],
   "source": [
    "# Create a scatter plot of the actual versus predicted values\n",
    "plt.scatter(y_test, y_pred)\n",
    "plt.xlabel('Actual')\n",
    "plt.ylabel('Predicted')\n",
    "plt.title('Actual vs Predicted')\n",
    "plt.show()\n"
   ]
  },
  {
   "cell_type": "code",
   "execution_count": 197,
   "id": "ed2788d4",
   "metadata": {},
   "outputs": [
    {
     "data": {
      "image/png": "[encoded data removed]",
      "text/plain": [
       "<Figure size 432x288 with 1 Axes>"
      ]
     },
     "metadata": {},
     "output_type": "display_data"
    }
   ],
   "source": [
    "# Create a line plot of the actual and predicted values\n",
    "plt.plot(y_test.values, label='Actual')\n",
    "plt.plot(y_pred, label='Predicted')\n",
    "plt.xlabel('Observations')\n",
    "plt.ylabel('Number of Students Enrolled')\n",
    "plt.title('Actual vs Predicted')\n",
    "plt.legend()\n",
    "plt.show()\n"
   ]
  },
  {
   "cell_type": "code",
   "execution_count": null,
   "id": "db25bdb9",
   "metadata": {},
   "outputs": [],
   "source": []
  },
  {
   "cell_type": "code",
   "execution_count": null,
   "id": "09617218",
   "metadata": {},
   "outputs": [],
   "source": []
  },
  {
   "cell_type": "code",
   "execution_count": null,
   "id": "450bec01",
   "metadata": {},
   "outputs": [],
   "source": []
  },
  {
   "cell_type": "code",
   "execution_count": null,
   "id": "b21f0ea6",
   "metadata": {},
   "outputs": [],
   "source": []
  },
  {
   "cell_type": "code",
   "execution_count": null,
   "id": "13906451",
   "metadata": {},
   "outputs": [],
   "source": []
  },
  {
   "cell_type": "code",
   "execution_count": null,
   "id": "23269bb9",
   "metadata": {},
   "outputs": [],
   "source": []
  },
  {
   "cell_type": "code",
   "execution_count": null,
   "id": "b2d87453",
   "metadata": {},
   "outputs": [],
   "source": []
  },
  {
   "cell_type": "code",
   "execution_count": null,
   "id": "57db6c30",
   "metadata": {},
   "outputs": [],
   "source": []
  },
  {
   "cell_type": "code",
   "execution_count": null,
   "id": "312f6ffc",
   "metadata": {},
   "outputs": [],
   "source": []
  },
  {
   "cell_type": "code",
   "execution_count": null,
   "id": "edd00fe1",
   "metadata": {},
   "outputs": [],
   "source": [
    "\n"
   ]
  },
  {
   "cell_type": "code",
   "execution_count": null,
   "id": "fdc1a467",
   "metadata": {},
   "outputs": [],
   "source": []
  }
 ],
 "metadata": {
  "kernelspec": {
   "display_name": "Python 3 (ipykernel)",
   "language": "python",
   "name": "python3"
  },
  "language_info": {
   "codemirror_mode": {
    "name": "ipython",
    "version": 3
   },
   "file_extension": ".py",
   "mimetype": "text/x-python",
   "name": "python",
   "nbconvert_exporter": "python",
   "pygments_lexer": "ipython3",
   "version": "3.9.12"
  }
 },
 "nbformat": 4,
 "nbformat_minor": 5
}
