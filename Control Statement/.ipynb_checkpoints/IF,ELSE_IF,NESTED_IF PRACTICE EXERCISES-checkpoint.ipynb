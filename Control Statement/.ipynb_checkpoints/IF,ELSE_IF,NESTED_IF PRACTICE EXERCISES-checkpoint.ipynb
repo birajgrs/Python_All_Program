{
 "cells": [
  {
   "cell_type": "code",
   "execution_count": 1,
   "id": "7806ead4",
   "metadata": {},
   "outputs": [],
   "source": [
    "# https://csiplearninghub.com/python-if-else-conditional-statement-practice/"
   ]
  },
  {
   "cell_type": "code",
   "execution_count": 3,
   "id": "a0de1ce4",
   "metadata": {},
   "outputs": [
    {
     "name": "stdout",
     "output_type": "stream",
     "text": [
      "Enter any number:14\n",
      "Divisible by 7\n"
     ]
    }
   ],
   "source": [
    "#Write a program to check whether a number is divisible by 7 or not.\n",
    "number=int(input(\"Enter any number:\"))\n",
    "if number%7==0:\n",
    "    print(\"Divisible by 7\")\n",
    "else:\n",
    "    print(\"Not divisible by 7\")\n",
    "\n"
   ]
  },
  {
   "cell_type": "code",
   "execution_count": 5,
   "id": "c5b0b646",
   "metadata": {},
   "outputs": [
    {
     "name": "stdout",
     "output_type": "stream",
     "text": [
      "Enter number of electric unit:255\n",
      "Amount to pay:  550\n"
     ]
    }
   ],
   "source": [
    "\"\"\"\n",
    "Write a program to calculate the electricity bill(accept number of unit from user)\n",
    "according to the following criteria:\n",
    "\n",
    "Unit                                 Price\n",
    "First 100 units                    no charge\n",
    "Next 100 units                   Rs 5 per unit\n",
    "After 200 units                  Rs 10 per unit\n",
    "\n",
    "\n",
    "(For example if input unit is 350 than total bill amount is Rs2000)\n",
    "\n",
    "\"\"\"\n",
    "Amount=0\n",
    "net_Unit=int(input(\"Enter number of electric unit:\"))\n",
    "if net_Unit<=100:\n",
    "    amount=0\n",
    "if net_Unit>100 and net_Unit<200:\n",
    "    amount=(net_Unit-100)*5\n",
    "if net_Unit:\n",
    "     amount=(net_Unit-200)*10\n",
    "print(\"Amount to pay: \",amount)\n"
   ]
  },
  {
   "cell_type": "code",
   "execution_count": null,
   "id": "dfda3349",
   "metadata": {},
   "outputs": [],
   "source": [
    "\"\"\"\n",
    "Write a program to input marks from user and find percentage.\n",
    "if percentage>90  Grade A+\n",
    "if percentage<80 and percentage>=90 Grade A\n",
    "if percentage<70 and percentage>=80 Grade B+\n",
    "if percentage<60 and percentage>=70 Grade B\n",
    "if percentage<50 and percentage>=60 Grade C+\n",
    "if percentage<40 and percentage>=50 Grade C\n",
    "if percentage<32 and percentage>=40 Grade D\n",
    "if percentage>=32 Grade E\n",
    "\n",
    "\"\"\"\n",
    "AI=float(input(\"Enter mark in Artificial Intelligence:\"))\n",
    "TOC=float(input(\"Enter mark in Theory of computation:\"))\n",
    "DBMS=float(input(\"Enter mark in Database Management System:\"))\n",
    "OS=float(input(\"Enter mark in Operating System\"))\n",
    "CN=float(input(\"Enter mark in Computer Network:\"))"
   ]
  },
  {
   "cell_type": "code",
   "execution_count": null,
   "id": "eea2d1d6",
   "metadata": {},
   "outputs": [],
   "source": []
  },
  {
   "cell_type": "code",
   "execution_count": null,
   "id": "7261d0a2",
   "metadata": {},
   "outputs": [],
   "source": []
  },
  {
   "cell_type": "code",
   "execution_count": null,
   "id": "70d0dbf2",
   "metadata": {},
   "outputs": [],
   "source": []
  },
  {
   "cell_type": "code",
   "execution_count": null,
   "id": "8ae49361",
   "metadata": {},
   "outputs": [],
   "source": []
  },
  {
   "cell_type": "code",
   "execution_count": null,
   "id": "dcd9dcd2",
   "metadata": {},
   "outputs": [],
   "source": []
  },
  {
   "cell_type": "code",
   "execution_count": null,
   "id": "6438b82f",
   "metadata": {},
   "outputs": [],
   "source": []
  },
  {
   "cell_type": "code",
   "execution_count": null,
   "id": "0f47022e",
   "metadata": {},
   "outputs": [],
   "source": []
  },
  {
   "cell_type": "code",
   "execution_count": null,
   "id": "6c5c1f9c",
   "metadata": {},
   "outputs": [],
   "source": []
  },
  {
   "cell_type": "code",
   "execution_count": null,
   "id": "59d4f657",
   "metadata": {},
   "outputs": [],
   "source": []
  },
  {
   "cell_type": "code",
   "execution_count": null,
   "id": "ff9d5556",
   "metadata": {},
   "outputs": [],
   "source": []
  },
  {
   "cell_type": "code",
   "execution_count": null,
   "id": "efe08efe",
   "metadata": {},
   "outputs": [],
   "source": []
  },
  {
   "cell_type": "code",
   "execution_count": null,
   "id": "9c793361",
   "metadata": {},
   "outputs": [],
   "source": []
  },
  {
   "cell_type": "code",
   "execution_count": null,
   "id": "1a986b9d",
   "metadata": {},
   "outputs": [],
   "source": []
  },
  {
   "cell_type": "code",
   "execution_count": null,
   "id": "4fcdcd9a",
   "metadata": {},
   "outputs": [],
   "source": []
  },
  {
   "cell_type": "code",
   "execution_count": null,
   "id": "fc4ef983",
   "metadata": {},
   "outputs": [],
   "source": []
  },
  {
   "cell_type": "code",
   "execution_count": null,
   "id": "89b0d2f4",
   "metadata": {},
   "outputs": [],
   "source": []
  },
  {
   "cell_type": "code",
   "execution_count": null,
   "id": "3634ff05",
   "metadata": {},
   "outputs": [],
   "source": []
  },
  {
   "cell_type": "code",
   "execution_count": null,
   "id": "e617763d",
   "metadata": {},
   "outputs": [],
   "source": []
  },
  {
   "cell_type": "code",
   "execution_count": null,
   "id": "9b4d1644",
   "metadata": {},
   "outputs": [],
   "source": []
  },
  {
   "cell_type": "code",
   "execution_count": null,
   "id": "a6b53891",
   "metadata": {},
   "outputs": [],
   "source": []
  },
  {
   "cell_type": "code",
   "execution_count": null,
   "id": "85b74755",
   "metadata": {},
   "outputs": [],
   "source": []
  },
  {
   "cell_type": "code",
   "execution_count": null,
   "id": "880ead16",
   "metadata": {},
   "outputs": [],
   "source": []
  },
  {
   "cell_type": "code",
   "execution_count": null,
   "id": "49872db7",
   "metadata": {},
   "outputs": [],
   "source": []
  },
  {
   "cell_type": "code",
   "execution_count": null,
   "id": "096f8dc1",
   "metadata": {},
   "outputs": [],
   "source": []
  },
  {
   "cell_type": "code",
   "execution_count": null,
   "id": "1e01f057",
   "metadata": {},
   "outputs": [],
   "source": []
  },
  {
   "cell_type": "code",
   "execution_count": null,
   "id": "f82844ec",
   "metadata": {},
   "outputs": [],
   "source": []
  },
  {
   "cell_type": "code",
   "execution_count": null,
   "id": "f86daafc",
   "metadata": {},
   "outputs": [],
   "source": []
  },
  {
   "cell_type": "code",
   "execution_count": null,
   "id": "0a47a989",
   "metadata": {},
   "outputs": [],
   "source": []
  },
  {
   "cell_type": "code",
   "execution_count": null,
   "id": "c771760c",
   "metadata": {},
   "outputs": [],
   "source": []
  },
  {
   "cell_type": "code",
   "execution_count": null,
   "id": "88ee11bd",
   "metadata": {},
   "outputs": [],
   "source": []
  },
  {
   "cell_type": "code",
   "execution_count": null,
   "id": "eeeddc9d",
   "metadata": {},
   "outputs": [],
   "source": []
  },
  {
   "cell_type": "code",
   "execution_count": null,
   "id": "36eb43f2",
   "metadata": {},
   "outputs": [],
   "source": []
  },
  {
   "cell_type": "code",
   "execution_count": null,
   "id": "bcd26c0b",
   "metadata": {},
   "outputs": [],
   "source": []
  },
  {
   "cell_type": "code",
   "execution_count": null,
   "id": "643b1b23",
   "metadata": {},
   "outputs": [],
   "source": []
  },
  {
   "cell_type": "code",
   "execution_count": null,
   "id": "c2da0208",
   "metadata": {},
   "outputs": [],
   "source": []
  },
  {
   "cell_type": "code",
   "execution_count": null,
   "id": "a3095708",
   "metadata": {},
   "outputs": [],
   "source": []
  },
  {
   "cell_type": "code",
   "execution_count": null,
   "id": "e2fec474",
   "metadata": {},
   "outputs": [],
   "source": []
  }
 ],
 "metadata": {
  "kernelspec": {
   "display_name": "Python 3 (ipykernel)",
   "language": "python",
   "name": "python3"
  },
  "language_info": {
   "codemirror_mode": {
    "name": "ipython",
    "version": 3
   },
   "file_extension": ".py",
   "mimetype": "text/x-python",
   "name": "python",
   "nbconvert_exporter": "python",
   "pygments_lexer": "ipython3",
   "version": "3.9.12"
  }
 },
 "nbformat": 4,
 "nbformat_minor": 5
}
