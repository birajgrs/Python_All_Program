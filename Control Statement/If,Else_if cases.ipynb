{
 "cells": [
  {
   "cell_type": "code",
   "execution_count": 4,
   "id": "73167733",
   "metadata": {},
   "outputs": [
    {
     "name": "stdout",
     "output_type": "stream",
     "text": [
      "Enter any number:7\n"
     ]
    }
   ],
   "source": [
    "#if case\n",
    "\"\"\"\n",
    "If Statement\tThe if statement is used to test a specific condition. If the condition is true,\n",
    "a block of code (if-block) will be executed.\n",
    "\"\"\"\n",
    "\"\"\"\n",
    "if condition:\n",
    "    if-block\n",
    "\"\"\"\n",
    "num=int(input(\"Enter any number:\"))\n",
    "if num%2==0:\n",
    "    print(\"Even number\")"
   ]
  },
  {
   "cell_type": "code",
   "execution_count": 7,
   "id": "9886880d",
   "metadata": {},
   "outputs": [
    {
     "name": "stdout",
     "output_type": "stream",
     "text": [
      "Enter your age:17\n",
      "17\n"
     ]
    }
   ],
   "source": [
    "age=int(input(\"Enter your age:\"))\n",
    "print(age)\n",
    "if age>=18:\n",
    "    print(\"You are elligible for voting.\")"
   ]
  },
  {
   "cell_type": "code",
   "execution_count": 8,
   "id": "e5ca30c5",
   "metadata": {},
   "outputs": [
    {
     "name": "stdout",
     "output_type": "stream",
     "text": [
      "Enter any number:7\n",
      "Odd number\n"
     ]
    }
   ],
   "source": [
    "\"\"\"\n",
    "If - else Statement\tThe if-else statement is similar to if\n",
    "statement except the fact that, it also provides the block of the code for the false case of the condition to be checked. If the condition provided in the if statement is false, \n",
    "then the else statement will be executed.\n",
    "if condition:\n",
    "    if-block;\n",
    "else:\n",
    "    else-block;\n",
    "\n",
    "\"\"\"\n",
    "num=int(input(\"Enter any number:\"))\n",
    "if num%2==0:\n",
    "    print(\"Even number\")\n",
    "else:\n",
    "    print(\"Odd number\")\n"
   ]
  },
  {
   "cell_type": "code",
   "execution_count": 9,
   "id": "e4c2d650",
   "metadata": {},
   "outputs": [
    {
     "name": "stdout",
     "output_type": "stream",
     "text": [
      "Enter your age:17\n",
      "17\n",
      "You are not elligible for voting.\n"
     ]
    }
   ],
   "source": [
    "age=int(input(\"Enter your age:\"))\n",
    "print(age)\n",
    "if age>=18:\n",
    "    print(\"You are elligible for voting.\")\n",
    "else:\n",
    "       print(\"You are not elligible for voting.\")\n",
    "    "
   ]
  },
  {
   "cell_type": "code",
   "execution_count": 12,
   "id": "212f12f3",
   "metadata": {},
   "outputs": [
    {
     "name": "stdout",
     "output_type": "stream",
     "text": [
      "Enter first number:6\n",
      "Enter second number:7\n",
      "Greatest number is 7\n"
     ]
    }
   ],
   "source": [
    "#  if…elif…else statement\n",
    "\"\"\"\n",
    "if if-condition:\n",
    "    if-block\n",
    "elif elif-condition1:\n",
    "    elif-block1\n",
    "elif elif-condition2:\n",
    "    elif-block2\n",
    "...\n",
    "else:\n",
    "    else-block\n",
    "\"\"\"\n",
    "num1=int(input(\"Enter first number:\"))\n",
    "num2=int(input(\"Enter second number:\"))\n",
    "if num1>num2:\n",
    "    print(f\"Greatest number is {num1}\")\n",
    "elif num1<num2:\n",
    "    print(f\"Greatest number is {num2}\")\n",
    "else:\n",
    "    print(\"Both are equal\")\n",
    "    \n"
   ]
  },
  {
   "cell_type": "code",
   "execution_count": null,
   "id": "ec803ece",
   "metadata": {},
   "outputs": [],
   "source": []
  }
 ],
 "metadata": {
  "kernelspec": {
   "display_name": "Python 3 (ipykernel)",
   "language": "python",
   "name": "python3"
  },
  "language_info": {
   "codemirror_mode": {
    "name": "ipython",
    "version": 3
   },
   "file_extension": ".py",
   "mimetype": "text/x-python",
   "name": "python",
   "nbconvert_exporter": "python",
   "pygments_lexer": "ipython3",
   "version": "3.9.12"
  }
 },
 "nbformat": 4,
 "nbformat_minor": 5
}
