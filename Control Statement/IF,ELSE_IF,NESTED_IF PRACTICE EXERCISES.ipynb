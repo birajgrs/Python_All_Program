{
 "cells": [
  {
   "cell_type": "code",
   "execution_count": 15,
   "id": "7806ead4",
   "metadata": {},
   "outputs": [],
   "source": [
    "# IF,ELSE_IF,NESTED_IF PRACTICE EXERCISES"
   ]
  },
  {
   "cell_type": "code",
   "execution_count": 3,
   "id": "a0de1ce4",
   "metadata": {},
   "outputs": [
    {
     "name": "stdout",
     "output_type": "stream",
     "text": [
      "Enter any number:14\n",
      "Divisible by 7\n"
     ]
    }
   ],
   "source": [
    "#Write a program to check whether a number is divisible by 7 or not.\n",
    "number=int(input(\"Enter any number:\"))\n",
    "if number%7==0:\n",
    "    print(\"Divisible by 7\")\n",
    "else:\n",
    "    print(\"Not divisible by 7\")\n",
    "\n"
   ]
  },
  {
   "cell_type": "code",
   "execution_count": 5,
   "id": "c5b0b646",
   "metadata": {},
   "outputs": [
    {
     "name": "stdout",
     "output_type": "stream",
     "text": [
      "Enter number of electric unit:255\n",
      "Amount to pay:  550\n"
     ]
    }
   ],
   "source": [
    "\"\"\"\n",
    "Write a program to calculate the electricity bill(accept number of unit from user)\n",
    "according to the following criteria:\n",
    "\n",
    "Unit                                 Price\n",
    "First 100 units                    no charge\n",
    "Next 100 units                   Rs 5 per unit\n",
    "After 200 units                  Rs 10 per unit\n",
    "\n",
    "\n",
    "(For example if input unit is 350 than total bill amount is Rs2000)\n",
    "\n",
    "\"\"\"\n",
    "Amount=0\n",
    "net_Unit=int(input(\"Enter number of electric unit:\"))\n",
    "if net_Unit<=100:\n",
    "    amount=0\n",
    "if net_Unit>100 and net_Unit<200:\n",
    "    amount=(net_Unit-100)*5\n",
    "if net_Unit:\n",
    "     amount=(net_Unit-200)*10\n",
    "print(\"Amount to pay: \",amount)\n"
   ]
  },
  {
   "cell_type": "code",
   "execution_count": 13,
   "id": "dfda3349",
   "metadata": {},
   "outputs": [
    {
     "name": "stdout",
     "output_type": "stream",
     "text": [
      "Enter mark in Artificial Intelligence:78\n",
      "Enter mark in Theory of computation:81\n",
      "Enter mark in Database Management System:89\n",
      "Enter mark in Operating System:66\n",
      "Enter mark in Computer Network:78\n",
      "Total: 392.0\n",
      "Percentage: 78.4\n",
      "Very Good - B+\n"
     ]
    }
   ],
   "source": [
    "\"\"\"\n",
    "Write a program to input marks from user and find percentage.\n",
    "if percentage>90  Grade A+\n",
    "if percentage<80 and percentage>=90 Grade A\n",
    "if percentage<70 and percentage>=80 Grade B+\n",
    "if percentage<60 and percentage>=70 Grade B\n",
    "if percentage<50 and percentage>=60 Grade C+\n",
    "if percentage<40 and percentage>=50 Grade C\n",
    "if percentage<35 and percentage>=40 Grade D+\n",
    "if percentage<25 and percentage>=35 Grade D+\n",
    "if percentage>=25 Grade E\n",
    "\"\"\"\n",
    "\n",
    "AI = float(input(\"Enter mark in Artificial Intelligence:\"))\n",
    "TOC = float(input(\"Enter mark in Theory of computation:\"))\n",
    "DBMS = float(input(\"Enter mark in Database Management System:\"))\n",
    "OS = float(input(\"Enter mark in Operating System:\"))\n",
    "CN = float(input(\"Enter mark in Computer Network:\"))\n",
    "\n",
    "Total = AI + TOC + DBMS + OS + CN\n",
    "print(\"Total:\", Total)\n",
    "percentage = Total / 5\n",
    "print(\"Percentage:\", percentage)\n",
    "\n",
    "if percentage >= 90:\n",
    "    print(\"Outstanding - A+\")\n",
    "elif percentage >= 80:\n",
    "    print(\"Excellent - A\")\n",
    "elif percentage >= 70:\n",
    "    print(\"Very Good - B+\")\n",
    "elif percentage >= 60:\n",
    "    print(\"Good - B\")\n",
    "elif percentage >= 50:\n",
    "    print(\"Satisfactory - C+\")\n",
    "elif percentage >= 40:\n",
    "    print(\"Acceptable - C\")\n",
    "elif percentage >= 35:\n",
    "    print(\"Basic - D+\")\n",
    "elif percentage >= 25:\n",
    "    print(\"Bad - D\")\n",
    "else:\n",
    "    print(\"Very Bad - E\")\n",
    "    "
   ]
  },
  {
   "cell_type": "code",
   "execution_count": 14,
   "id": "eea2d1d6",
   "metadata": {},
   "outputs": [
    {
     "name": "stdout",
     "output_type": "stream",
     "text": [
      "Enter any year:2020\n",
      "2020 is leap year.\n"
     ]
    }
   ],
   "source": [
    "# Write a proram to check whether an years is leap year or not\n",
    "year=int(input(\"Enter any year:\"))\n",
    "\n",
    "if(year%400==0):\n",
    "    print(f\"{year} is leap year.\")\n",
    "elif(year%100==0):\n",
    "    print(f\"{year} is not a leap year.\")\n",
    "elif(year%4==0):\n",
    "    print(f\"{year} is leap year.\")\n",
    "else:\n",
    "    print(f\"{year} is not a leap year.\")\n",
    "   \n",
    "          "
   ]
  },
  {
   "cell_type": "code",
   "execution_count": 12,
   "id": "7261d0a2",
   "metadata": {},
   "outputs": [
    {
     "name": "stdout",
     "output_type": "stream",
     "text": [
      "Enter the cost price of the bike: 600000\n",
      "The road tax to be paid is Rs. 90000.0\n"
     ]
    }
   ],
   "source": [
    "\"\"\"\n",
    "Write a program to accept the cost price of bike and display the road \n",
    "tax to be paid according to the following criteria:\n",
    "Cost price(in Rs)      Tax\n",
    ">500000                15%\n",
    ">300000 and <=500000   10%\n",
    "<=300000               5%\n",
    "\"\"\"\n",
    "cost_price = float(input(\"Enter the cost price of the bike: \"))\n",
    "\n",
    "if cost_price > 500000:\n",
    "    tax = cost_price * 0.15\n",
    "elif cost_price > 300000:\n",
    "    tax = cost_price * 0.1\n",
    "else:\n",
    "    tax = cost_price * 0.05\n",
    "\n",
    "print(\"The road tax to be paid is Rs.\", tax)\n"
   ]
  },
  {
   "cell_type": "code",
   "execution_count": null,
   "id": "70d0dbf2",
   "metadata": {},
   "outputs": [],
   "source": []
  },
  {
   "cell_type": "code",
   "execution_count": null,
   "id": "8ae49361",
   "metadata": {},
   "outputs": [],
   "source": []
  },
  {
   "cell_type": "code",
   "execution_count": null,
   "id": "dcd9dcd2",
   "metadata": {},
   "outputs": [],
   "source": []
  },
  {
   "cell_type": "code",
   "execution_count": null,
   "id": "6438b82f",
   "metadata": {},
   "outputs": [],
   "source": []
  },
  {
   "cell_type": "code",
   "execution_count": null,
   "id": "0f47022e",
   "metadata": {},
   "outputs": [],
   "source": []
  },
  {
   "cell_type": "code",
   "execution_count": null,
   "id": "6c5c1f9c",
   "metadata": {},
   "outputs": [],
   "source": []
  },
  {
   "cell_type": "code",
   "execution_count": null,
   "id": "59d4f657",
   "metadata": {},
   "outputs": [],
   "source": []
  },
  {
   "cell_type": "code",
   "execution_count": null,
   "id": "ff9d5556",
   "metadata": {},
   "outputs": [],
   "source": []
  },
  {
   "cell_type": "code",
   "execution_count": null,
   "id": "efe08efe",
   "metadata": {},
   "outputs": [],
   "source": []
  },
  {
   "cell_type": "code",
   "execution_count": null,
   "id": "9c793361",
   "metadata": {},
   "outputs": [],
   "source": []
  },
  {
   "cell_type": "code",
   "execution_count": null,
   "id": "1a986b9d",
   "metadata": {},
   "outputs": [],
   "source": []
  },
  {
   "cell_type": "code",
   "execution_count": null,
   "id": "4fcdcd9a",
   "metadata": {},
   "outputs": [],
   "source": []
  },
  {
   "cell_type": "code",
   "execution_count": null,
   "id": "fc4ef983",
   "metadata": {},
   "outputs": [],
   "source": []
  },
  {
   "cell_type": "code",
   "execution_count": null,
   "id": "89b0d2f4",
   "metadata": {},
   "outputs": [],
   "source": []
  },
  {
   "cell_type": "code",
   "execution_count": null,
   "id": "3634ff05",
   "metadata": {},
   "outputs": [],
   "source": []
  },
  {
   "cell_type": "code",
   "execution_count": null,
   "id": "e617763d",
   "metadata": {},
   "outputs": [],
   "source": []
  },
  {
   "cell_type": "code",
   "execution_count": null,
   "id": "9b4d1644",
   "metadata": {},
   "outputs": [],
   "source": []
  },
  {
   "cell_type": "code",
   "execution_count": null,
   "id": "a6b53891",
   "metadata": {},
   "outputs": [],
   "source": []
  },
  {
   "cell_type": "code",
   "execution_count": null,
   "id": "85b74755",
   "metadata": {},
   "outputs": [],
   "source": []
  },
  {
   "cell_type": "code",
   "execution_count": null,
   "id": "880ead16",
   "metadata": {},
   "outputs": [],
   "source": []
  },
  {
   "cell_type": "code",
   "execution_count": null,
   "id": "49872db7",
   "metadata": {},
   "outputs": [],
   "source": []
  },
  {
   "cell_type": "code",
   "execution_count": null,
   "id": "096f8dc1",
   "metadata": {},
   "outputs": [],
   "source": []
  },
  {
   "cell_type": "code",
   "execution_count": null,
   "id": "1e01f057",
   "metadata": {},
   "outputs": [],
   "source": []
  },
  {
   "cell_type": "code",
   "execution_count": null,
   "id": "f82844ec",
   "metadata": {},
   "outputs": [],
   "source": []
  },
  {
   "cell_type": "code",
   "execution_count": null,
   "id": "f86daafc",
   "metadata": {},
   "outputs": [],
   "source": []
  },
  {
   "cell_type": "code",
   "execution_count": null,
   "id": "0a47a989",
   "metadata": {},
   "outputs": [],
   "source": []
  },
  {
   "cell_type": "code",
   "execution_count": null,
   "id": "c771760c",
   "metadata": {},
   "outputs": [],
   "source": []
  },
  {
   "cell_type": "code",
   "execution_count": null,
   "id": "88ee11bd",
   "metadata": {},
   "outputs": [],
   "source": []
  },
  {
   "cell_type": "code",
   "execution_count": null,
   "id": "eeeddc9d",
   "metadata": {},
   "outputs": [],
   "source": []
  },
  {
   "cell_type": "code",
   "execution_count": null,
   "id": "36eb43f2",
   "metadata": {},
   "outputs": [],
   "source": []
  },
  {
   "cell_type": "code",
   "execution_count": null,
   "id": "bcd26c0b",
   "metadata": {},
   "outputs": [],
   "source": []
  },
  {
   "cell_type": "code",
   "execution_count": null,
   "id": "643b1b23",
   "metadata": {},
   "outputs": [],
   "source": []
  },
  {
   "cell_type": "code",
   "execution_count": null,
   "id": "c2da0208",
   "metadata": {},
   "outputs": [],
   "source": []
  },
  {
   "cell_type": "code",
   "execution_count": null,
   "id": "a3095708",
   "metadata": {},
   "outputs": [],
   "source": []
  },
  {
   "cell_type": "code",
   "execution_count": null,
   "id": "e2fec474",
   "metadata": {},
   "outputs": [],
   "source": []
  }
 ],
 "metadata": {
  "kernelspec": {
   "display_name": "Python 3 (ipykernel)",
   "language": "python",
   "name": "python3"
  },
  "language_info": {
   "codemirror_mode": {
    "name": "ipython",
    "version": 3
   },
   "file_extension": ".py",
   "mimetype": "text/x-python",
   "name": "python",
   "nbconvert_exporter": "python",
   "pygments_lexer": "ipython3",
   "version": "3.9.12"
  }
 },
 "nbformat": 4,
 "nbformat_minor": 5
}
