{
 "cells": [
  {
   "cell_type": "code",
   "execution_count": 3,
   "id": "e972ff51",
   "metadata": {},
   "outputs": [
    {
     "name": "stdout",
     "output_type": "stream",
     "text": [
      "The square of the given number is  36\n"
     ]
    }
   ],
   "source": [
    "\"\"\"\n",
    "\n",
    "Python Functions::: \n",
    "\n",
    "The fundamentals of Python functions, including what they are, their syntax, their primary parts, \n",
    "return keywords, and major types, will be covered in this tutorial. \n",
    "Additionally, we'll examine several instances of Python function definitions.\n",
    "\n",
    "Q. What are Python Functions?\n",
    "A function is a collection of related assertions that performs a mathematical, analytical, or \n",
    "evaluative operation. A collection of statements called Python Functions returns the particular task.\n",
    "Python functions are simple to define and essential to intermediate-level programming. \n",
    "The exact criteria hold to function names as they do to variable names. The goal is to group up\n",
    "certain often performed actions and define a function. We may call the function and reuse the code\n",
    "contained within it with different variables rather than repeatedly creating the same code block for\n",
    "different input variables.\n",
    "\n",
    "User-defined and built-in functions are the two main categories of functions in Python.\n",
    "It helps maintain the programme concise, unique, and well-structured.\n",
    "\n",
    "Advantages of Functions in Python\n",
    "Python functions have the following Perks.\n",
    "\n",
    "\n",
    "By including functions, we can prevent repeating the same code block repeatedly in a program.\n",
    "Python functions, once defined, can be called many times and from anywhere in a program.\n",
    "If our Python program is large, it can be separated into numerous functions which is simple to track.\n",
    "The key accomplishment of Python functions is we can return as many outputs as we want with different\n",
    "arguments.\n",
    "However, calling functions has always been overhead in a Python program.\n",
    "\n",
    "Syntax of Python Function\n",
    "\n",
    "#  An example Python Function  \n",
    "def function_name( parameters ):  \n",
    "    # code block  \n",
    "The following elements make up to define a function, as seen above.\n",
    "\n",
    "The beginning of a function header is indicated by a keyword called def.\n",
    "function_name is the function's name that we can use to separate it from others. \n",
    "We will use this name to call the function later in the program. In Python, name functions must \n",
    "follow the same rules as naming variables.\n",
    "We pass arguments to the defined function using parameters. However, they are optional.\n",
    "The function header is terminated by a colon (:).\n",
    "We can use a documentation string called docstring in the short form to explain the purpose of the\n",
    "function.\n",
    "The body of the function is made up of several valid Python statements. \n",
    "The indentation depth of the whole code block must be the same (usually 4 spaces).\n",
    "We can use a return expression to return a value from a defined function.\n",
    "\"\"\"\n",
    "def square(num):\n",
    "    return num**2;\n",
    "object_=square(6)\n",
    "print(\"The square of the given number is \",object_)"
   ]
  },
  {
   "cell_type": "code",
   "execution_count": 7,
   "id": "7c06834b",
   "metadata": {},
   "outputs": [
    {
     "data": {
      "text/plain": [
       "'\\nCalling a Function::: \\n\\nA function is defined by using the def keyword and giving it a name, specifying the arguments that \\nmust be passed to the function, and structuring the code block.\\n'"
      ]
     },
     "execution_count": 7,
     "metadata": {},
     "output_type": "execute_result"
    }
   ],
   "source": [
    "\n",
    "    \"\"\"\n",
    "Calling a Function::: \n",
    "\n",
    "A function is defined by using the def keyword and giving it a name, specifying the arguments that \n",
    "must be passed to the function, and structuring the code block.\n",
    "\"\"\"\n"
   ]
  },
  {
   "cell_type": "code",
   "execution_count": 9,
   "id": "79d97b42",
   "metadata": {},
   "outputs": [
    {
     "name": "stdout",
     "output_type": "stream",
     "text": [
      "Area of circle: 314.0\n"
     ]
    }
   ],
   "source": [
    "# Python Built-in Functions.\n",
    "def circle(radius):\n",
    "    area=3.14*radius*radius\n",
    "    print(\"Area of circle:\",area)\n",
    "circle(10)  "
   ]
  },
  {
   "cell_type": "code",
   "execution_count": 17,
   "id": "3eedfc6f",
   "metadata": {},
   "outputs": [
    {
     "name": "stdout",
     "output_type": "stream",
     "text": [
      "Enter first number:7\n",
      "Enter second number:6\n",
      "Sum of two number is 13\n"
     ]
    }
   ],
   "source": [
    "def sum(a,b):\n",
    "    return a+b\n",
    "x=int(input(\"Enter first number:\"))\n",
    "y=int(input(\"Enter second number:\"))\n",
    "z=sum(x,y)\n",
    "print(\"Sum of two number is \"+str(z))\n",
    "    "
   ]
  },
  {
   "cell_type": "code",
   "execution_count": 22,
   "id": "d2b01abc",
   "metadata": {},
   "outputs": [
    {
     "name": "stdout",
     "output_type": "stream",
     "text": [
      "Biraj Ghorasaine\n"
     ]
    }
   ],
   "source": [
    "def strings(a,b):\n",
    "    return a+b\n",
    "print(strings(\"Biraj \",\"Ghorasaine\"))"
   ]
  },
  {
   "cell_type": "code",
   "execution_count": 1,
   "id": "2080abca",
   "metadata": {},
   "outputs": [
    {
     "name": "stdout",
     "output_type": "stream",
     "text": [
      "Area of Rectangle:  24\n",
      "\n",
      " Perimeter of Rectangle:  20.0\n"
     ]
    }
   ],
   "source": [
    "# find Area and perimeter of the Rectangle\n",
    "def Rectangle(l,b):\n",
    "    Area=l*b\n",
    "    Perimeter=2.0*(l+b)\n",
    "    print(\"Area of Rectangle: \",Area)\n",
    "    print(\"\\n Perimeter of Rectangle: \",Perimeter)\n",
    "Rectangle(6,4)\n",
    "    "
   ]
  },
  {
   "cell_type": "code",
   "execution_count": 7,
   "id": "ee5a3c43",
   "metadata": {},
   "outputs": [
    {
     "name": "stdout",
     "output_type": "stream",
     "text": [
      "Enter first number:1\n",
      "Enter second number:2\n",
      "Before swapping: num1 = 1 and num2 = 2\n",
      "After swapping: num1 = 2 and num2 = 1\n"
     ]
    }
   ],
   "source": [
    "# WAP in Python to swap two numbers using function\n",
    "def swap(a, b):\n",
    "    temp = a\n",
    "    a = b\n",
    "    b = temp\n",
    "    return (a, b)\n",
    "\n",
    "num1=input(\"Enter first number:\")\n",
    "num2=input(\"Enter second number:\")\n",
    "print(\"Before swapping: num1 =\", num1, \"and num2 =\", num2)\n",
    "num1, num2 = swap(num1, num2)\n",
    "print(\"After swapping: num1 =\", num1, \"and num2 =\", num2)\n"
   ]
  },
  {
   "cell_type": "code",
   "execution_count": 8,
   "id": "aecb762e",
   "metadata": {},
   "outputs": [
    {
     "name": "stdout",
     "output_type": "stream",
     "text": [
      "1 is an Armstrong number.\n",
      "2 is an Armstrong number.\n",
      "3 is an Armstrong number.\n",
      "4 is an Armstrong number.\n",
      "5 is an Armstrong number.\n",
      "6 is an Armstrong number.\n",
      "7 is an Armstrong number.\n",
      "8 is an Armstrong number.\n",
      "9 is an Armstrong number.\n",
      "153 is an Armstrong number.\n",
      "370 is an Armstrong number.\n",
      "371 is an Armstrong number.\n",
      "407 is an Armstrong number.\n"
     ]
    }
   ],
   "source": [
    "# Find Armstrong number using function\n",
    "\n",
    "\n",
    "def is_armstrong(number):\n",
    "    # Convert the number to a string to count its digits\n",
    "    num_str = str(number)\n",
    "    # Calculate the number of digits\n",
    "    num_digits = len(num_str)\n",
    "    # Calculate the sum of the digits raised to the power of the number of digits\n",
    "    digit_sum = sum([int(digit)**num_digits for digit in num_str])\n",
    "    # Check if the sum is equal to the original number\n",
    "    return digit_sum == number\n",
    "\n",
    "# Example usage\n",
    "for i in range(1, 1001):\n",
    "    if is_armstrong(i):\n",
    "        print(i, \"is an Armstrong number.\")\n"
   ]
  },
  {
   "cell_type": "code",
   "execution_count": 10,
   "id": "f81b4348",
   "metadata": {},
   "outputs": [
    {
     "name": "stdout",
     "output_type": "stream",
     "text": [
      "5  is an odd number.\n",
      "6  is an even number.\n",
      "7  is an odd number.\n",
      "8  is an even number.\n",
      "9  is an odd number.\n",
      "10  is an even number.\n"
     ]
    }
   ],
   "source": [
    "#  Write a Python program to print given number is even or odd using function.\n",
    "def checkOddorEven(num):\n",
    "    if (num%2==0):\n",
    "        print(num,\" is an even number.\" )\n",
    "    else:\n",
    "        print(num,\" is an odd number.\")\n",
    "checkOddorEven(5)\n",
    "checkOddorEven(6)\n",
    "checkOddorEven(7)\n",
    "checkOddorEven(8)\n",
    "checkOddorEven(9)\n",
    "checkOddorEven(10)"
   ]
  },
  {
   "cell_type": "code",
   "execution_count": null,
   "id": "07109d49",
   "metadata": {},
   "outputs": [],
   "source": []
  },
  {
   "cell_type": "code",
   "execution_count": null,
   "id": "e97cc7b7",
   "metadata": {},
   "outputs": [],
   "source": []
  },
  {
   "cell_type": "code",
   "execution_count": null,
   "id": "e8ea6090",
   "metadata": {},
   "outputs": [],
   "source": []
  },
  {
   "cell_type": "code",
   "execution_count": null,
   "id": "2b8fc1d4",
   "metadata": {},
   "outputs": [],
   "source": []
  },
  {
   "cell_type": "code",
   "execution_count": null,
   "id": "67469465",
   "metadata": {},
   "outputs": [],
   "source": []
  },
  {
   "cell_type": "code",
   "execution_count": null,
   "id": "0967300f",
   "metadata": {},
   "outputs": [],
   "source": []
  },
  {
   "cell_type": "code",
   "execution_count": null,
   "id": "27f09bdf",
   "metadata": {},
   "outputs": [],
   "source": []
  },
  {
   "cell_type": "code",
   "execution_count": null,
   "id": "f8cf71ab",
   "metadata": {},
   "outputs": [],
   "source": []
  },
  {
   "cell_type": "code",
   "execution_count": null,
   "id": "0156104d",
   "metadata": {},
   "outputs": [],
   "source": []
  },
  {
   "cell_type": "code",
   "execution_count": null,
   "id": "4558d3f0",
   "metadata": {},
   "outputs": [],
   "source": []
  },
  {
   "cell_type": "code",
   "execution_count": null,
   "id": "4e967a33",
   "metadata": {},
   "outputs": [],
   "source": []
  },
  {
   "cell_type": "code",
   "execution_count": null,
   "id": "6416b29b",
   "metadata": {},
   "outputs": [],
   "source": []
  },
  {
   "cell_type": "code",
   "execution_count": null,
   "id": "9a8eb73f",
   "metadata": {},
   "outputs": [],
   "source": []
  }
 ],
 "metadata": {
  "kernelspec": {
   "display_name": "Python 3 (ipykernel)",
   "language": "python",
   "name": "python3"
  },
  "language_info": {
   "codemirror_mode": {
    "name": "ipython",
    "version": 3
   },
   "file_extension": ".py",
   "mimetype": "text/x-python",
   "name": "python",
   "nbconvert_exporter": "python",
   "pygments_lexer": "ipython3",
   "version": "3.9.12"
  }
 },
 "nbformat": 4,
 "nbformat_minor": 5
}
