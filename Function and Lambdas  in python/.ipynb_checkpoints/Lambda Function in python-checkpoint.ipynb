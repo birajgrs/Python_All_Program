{
 "cells": [
  {
   "cell_type": "code",
   "execution_count": 3,
   "id": "27c8d8f1",
   "metadata": {},
   "outputs": [
    {
     "name": "stdout",
     "output_type": "stream",
     "text": [
      "10\n"
     ]
    }
   ],
   "source": [
    "\"\"\"\n",
    "Lambda Functions in Python are anonymous functions, implying they don't have a name.\n",
    "The def keyword is needed to create a typical function in Python.\n",
    "A lambda function can take any number of arguments, \n",
    "but can only have one expression.\n",
    "\n",
    "Syntax:::\n",
    "\n",
    "lambda arguments : expression\n",
    "\n",
    "\n",
    "\n",
    "Why Use Lambda Functions?\n",
    "The filter() method accepts two arguments in Python: a function and an iterable such as a list.\n",
    "\n",
    "The function is called for every item of the list, and a new iterable or list is returned that\n",
    "holds just those elements that returned True when supplied to the function.\n",
    "\n",
    "\n",
    "\"\"\"\n",
    "def add(num):\n",
    "    return num+5\n",
    "print(add(5))\n"
   ]
  },
  {
   "cell_type": "code",
   "execution_count": 6,
   "id": "87a8e521",
   "metadata": {},
   "outputs": [
    {
     "name": "stdout",
     "output_type": "stream",
     "text": [
      "[5, 7, 9, 11, 13, 15]\n"
     ]
    }
   ],
   "source": [
    "# Code to filter odd numbers from a given list  \n",
    "list_items=[5,6,7,8,9,10,11,12,13,14,15]\n",
    "odd_list=list(filter(lambda num:(num%2!=0),list_items))\n",
    "print(odd_list)"
   ]
  },
  {
   "cell_type": "code",
   "execution_count": null,
   "id": "c4c3a09d",
   "metadata": {},
   "outputs": [],
   "source": []
  },
  {
   "cell_type": "code",
   "execution_count": null,
   "id": "d312c456",
   "metadata": {},
   "outputs": [],
   "source": []
  },
  {
   "cell_type": "code",
   "execution_count": null,
   "id": "34993f3a",
   "metadata": {},
   "outputs": [],
   "source": []
  },
  {
   "cell_type": "code",
   "execution_count": null,
   "id": "da18ca96",
   "metadata": {},
   "outputs": [],
   "source": []
  },
  {
   "cell_type": "code",
   "execution_count": null,
   "id": "332da3e6",
   "metadata": {},
   "outputs": [],
   "source": []
  },
  {
   "cell_type": "code",
   "execution_count": null,
   "id": "33b0a060",
   "metadata": {},
   "outputs": [],
   "source": []
  }
 ],
 "metadata": {
  "kernelspec": {
   "display_name": "Python 3 (ipykernel)",
   "language": "python",
   "name": "python3"
  },
  "language_info": {
   "codemirror_mode": {
    "name": "ipython",
    "version": 3
   },
   "file_extension": ".py",
   "mimetype": "text/x-python",
   "name": "python",
   "nbconvert_exporter": "python",
   "pygments_lexer": "ipython3",
   "version": "3.9.12"
  }
 },
 "nbformat": 4,
 "nbformat_minor": 5
}
