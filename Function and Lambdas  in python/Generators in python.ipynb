{
 "cells": [
  {
   "cell_type": "code",
   "execution_count": 6,
   "id": "633d9b5b",
   "metadata": {},
   "outputs": [
    {
     "name": "stdout",
     "output_type": "stream",
     "text": [
      "0\n",
      "2\n",
      "4\n",
      "6\n",
      "8\n"
     ]
    }
   ],
   "source": [
    "\"\"\"\n",
    "Python Generators are the functions that return the traversal object and used to create iterators. \n",
    "It traverses the entire items at once. The generator can also be an expression in which syntax is similar to the list\n",
    "comprehension in Python.\n",
    "\n",
    "There is a lot of complexity in creating iteration in Python; we need to implement __iter__() and __next__() \n",
    "method to keep track of internal states.\n",
    "\n",
    "It is a lengthy process to create iterators. That's why the generator plays an essential role in simplifying this process.\n",
    "If there is no value found in iteration, it raises StopIteration exception.\n",
    "\"\"\"\n",
    "\n",
    "def simple():\n",
    "    for i in range(10):\n",
    "        if(i%2==0):\n",
    "            yield i\n",
    "for i in simple():\n",
    "    print(i)\n",
    "    \n",
    "    \"\"\"\n",
    "    The yield statement is responsible for controlling the flow of the generator function. \n",
    "    It pauses the function execution by saving all states and yielded to the caller. \n",
    "    Later it resumes execution when a successive function is called. We can use the multiple yield statement\n",
    "    in the generator function.\n",
    "\n",
    "The return statement returns a value and terminates the whole function and only one return statement can be used in the\n",
    "function.\n",
    "\"\"\""
   ]
  },
  {
   "cell_type": "code",
   "execution_count": 12,
   "id": "da8d314a",
   "metadata": {},
   "outputs": [
    {
     "name": "stdout",
     "output_type": "stream",
     "text": [
      "5\n",
      "6\n"
     ]
    }
   ],
   "source": [
    "def disp(a,b):    \n",
    "    yield a\n",
    "    yield b\n",
    "x,y=disp(5,6)\n",
    "print(x)\n",
    "print(y)"
   ]
  },
  {
   "cell_type": "code",
   "execution_count": 16,
   "id": "3f722db7",
   "metadata": {},
   "outputs": [
    {
     "name": "stdout",
     "output_type": "stream",
     "text": [
      "1\n",
      "<generator object my_gen at 0x000001CBBE4ABA50>\n"
     ]
    }
   ],
   "source": [
    "def my_gen():\n",
    "    yield 1\n",
    "x=my_gen()\n",
    "print(x.__next__())\n",
    "print(x)"
   ]
  },
  {
   "cell_type": "code",
   "execution_count": 7,
   "id": "d99b02ea",
   "metadata": {},
   "outputs": [
    {
     "name": "stdout",
     "output_type": "stream",
     "text": [
      "0\n",
      "1\n",
      "1\n",
      "2\n",
      "3\n",
      "5\n",
      "8\n"
     ]
    }
   ],
   "source": [
    "def fibb(n):\n",
    "    a,b=0,1\n",
    "    while a<n:\n",
    "        yield a\n",
    "        a,b=b,b+a\n",
    "x=fibb(10)\n",
    "\n",
    "print(x.__next__())\n",
    "print(x.__next__())\n",
    "print(x.__next__())\n",
    "print(x.__next__())\n",
    "print(x.__next__())\n",
    "print(x.__next__())\n",
    "print(x.__next__())\n"
   ]
  },
  {
   "cell_type": "code",
   "execution_count": null,
   "id": "55df6f70",
   "metadata": {},
   "outputs": [],
   "source": []
  },
  {
   "cell_type": "code",
   "execution_count": null,
   "id": "b1f1c3ea",
   "metadata": {},
   "outputs": [],
   "source": []
  },
  {
   "cell_type": "code",
   "execution_count": null,
   "id": "167c302b",
   "metadata": {},
   "outputs": [],
   "source": []
  }
 ],
 "metadata": {
  "kernelspec": {
   "display_name": "Python 3 (ipykernel)",
   "language": "python",
   "name": "python3"
  },
  "language_info": {
   "codemirror_mode": {
    "name": "ipython",
    "version": 3
   },
   "file_extension": ".py",
   "mimetype": "text/x-python",
   "name": "python",
   "nbconvert_exporter": "python",
   "pygments_lexer": "ipython3",
   "version": "3.9.12"
  }
 },
 "nbformat": 4,
 "nbformat_minor": 5
}
